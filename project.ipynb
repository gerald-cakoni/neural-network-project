{
 "cells": [
  {
   "cell_type": "markdown",
   "metadata": {},
   "source": [
    "### Import Dataset"
   ]
  },
  {
   "cell_type": "code",
   "execution_count": 11,
   "metadata": {},
   "outputs": [],
   "source": [
    "# Load data from the dataset file\n",
    "# Divide the dsatavin train, validate and test to train the model and to see its accuracy. The val part is used for parameters adjusting like to find better initialization of the modles\n",
    "\n",
    "import pandas as pd\n",
    "from torch.utils.data import DataLoader, Dataset, Subset\n",
    "from enum import Enum\n",
    "import torch\n",
    "from typing import Tuple, Callable, Optional, List\n",
    "from dataclasses import dataclass\n",
    "from mashumaro import DataClassDictMixin\n",
    "from loguru import logger\n",
    " \n",
    "# Enum for different types of validation splits\n",
    "class ValidationSplit(Enum):\n",
    "    # Temporal Holdout: Reserve the last part of time-ordered data for validation\n",
    "    TEMPORAL_HOLDOUT = \"temporal-holdout\"\n",
    "    \"Reserve the last portion (e.g., 10-20%) of your time-ordered data for validation, and use the remaining data for training. This is a simple and widely used approach.\"\n",
    "\n",
    "# Custom Dataset class for handling pandas DataFrame for time series\n",
    "class DataframeDataset(Dataset):\n",
    "    \"\"\"Dataset from a pandas dataframe\n",
    "    \"\"\"    \n",
    "\n",
    "    def __init__(self, df: pd.DataFrame, window_size_input: int, window_size_predict: int, transform: Optional[Callable] = None):\n",
    "        \"\"\"Constructor\n",
    "        # Constructor for initializing dataset with DataFrame and window sizes\n",
    "\n",
    "        Args:\n",
    "            df (pd.DataFrame): Dataframe\n",
    "            window_size_input (int): Input window size\n",
    "            window_size_predict (int): Prediction window size\n",
    "            transform (Optional[Callable], optional): Transforms such as normalization applied to time series. Defaults to None.\n",
    "        \"\"\"        \n",
    "        window_size_total = window_size_input + window_size_predict\n",
    "        assert len(df) > window_size_total, f\"Dataset length ({len(df)}) must be greater than window size ({window_size_total})\"\n",
    "        self.df = df\n",
    "        self.window_size_input = window_size_input\n",
    "        self.window_size_predict = window_size_predict\n",
    "        self.transform = transform\n",
    "\n",
    "    def __len__(self):\n",
    "        return len(self.df) - self.window_size_input - self.window_size_predict\n",
    "        # Returns the length of the dataset adjusted for window sizes\n",
    "\n",
    "    def get_sample(self, idx: int) -> Tuple[torch.Tensor, torch.Tensor]:\n",
    "        \"\"\"Get a window sample. Input from [idx, idx + window_size_input], prediction from [idx + window_size_input, idx + window_size_input + window_size_predict\n",
    "\n",
    "        Args:\n",
    "            idx (int): Index\n",
    "\n",
    "        Returns:\n",
    "            Tuple[torch.Tensor, torch.Tensor]: Input and prediction tensors\n",
    "        \"\"\"\n",
    "\n",
    "        # Check if the index plus window size exceeds the length of the dataset\n",
    "        if idx + self.window_size_input + self.window_size_predict > len(self.df):\n",
    "            raise IndexError(f\"Index ({idx}) + window_size_input ({self.window_size_input}) + window_size_predict ({self.window_size_predict}) exceeds dataset length ({len(self.df)})\")\n",
    "\n",
    "        # Window the data\n",
    "        sample_input = self.df.iloc[idx:idx + self.window_size_input, :]\n",
    "        sample_pred = self.df.iloc[idx + self.window_size_input:idx + self.window_size_input + self.window_size_predict, :]\n",
    "\n",
    "        # Convert to torch tensor\n",
    "        sample_input = torch.tensor(sample_input.values, dtype=torch.float32)\n",
    "        sample_pred = torch.tensor(sample_pred.values, dtype=torch.float32)\n",
    "\n",
    "        # Apply transform\n",
    "        if self.transform is not None:\n",
    "            sample_input = self.transform(sample_input)\n",
    "            sample_pred = self.transform(sample_pred)\n",
    "\n",
    "        return sample_input, sample_pred\n",
    "\n",
    "    def __getitem__(self, idx):\n",
    "        if torch.is_tensor(idx):\n",
    "            idx = idx.tolist()\n",
    "\n",
    "        if isinstance(idx, list):\n",
    "            # Handle a list of indices\n",
    "            samples = [self.get_sample(i) for i in idx]\n",
    "            return samples\n",
    "        else:\n",
    "            # Handle a single index\n",
    "            return self.get_sample(idx)\n",
    "\n",
    "\n",
    "@dataclass\n",
    "class DataNormalization(DataClassDictMixin):\n",
    "    mean_each_feature: Optional[List[float]] = None\n",
    "    \"Mean for each feature\"\n",
    "\n",
    "    std_each_feature: Optional[List[float]] = None\n",
    "    \"Std for each feature\"\n",
    "\n",
    "\n",
    "def load_csv_dataset(\n",
    "    csv_file: str, \n",
    "    batch_size: int, \n",
    "    input_length: int, \n",
    "    prediction_length: int, \n",
    "    val_split: ValidationSplit, \n",
    "    val_split_holdout: float = 0.2, \n",
    "    shuffle: bool = True,\n",
    "    normalize_each_feature: bool = True,\n",
    "    data_norm_exist: Optional[DataNormalization] = None\n",
    "    ) -> Tuple[DataLoader, DataLoader, DataNormalization]:\n",
    "    \"\"\"Load a CSV dataset\n",
    "\n",
    "    Args:\n",
    "        csv_file (str): CSV file path\n",
    "        batch_size (int): Batch size\n",
    "        input_length (int): Input length\n",
    "        prediction_length (int): Prediction length\n",
    "        val_split (ValidationSplit): Validation split method\n",
    "        val_split_holdout (float, optional): Holdout fraction for validation (last X% of data) - only used for TEMPORAL_HOLDOUT. Defaults to 0.2.\n",
    "        shuffle (bool, optional): True to shuffle data. Defaults to True.\n",
    "        normalize_each_feature (bool, optional): Normalize each feature. Defaults to True.\n",
    "        data_norm_exist (Optional[DataNormalization], optional): Existing normalization data - apply this instead of recalculating. Defaults to None.\n",
    "\n",
    "    Returns:\n",
    "        Tuple[DataLoader, DataLoader, DataNormalization]: Training and validation data loaders, and normalization data\n",
    "    \"\"\"    \n",
    "\n",
    "    # Load the CSV file into a DataFrame\n",
    "    df_raw = pd.read_csv(csv_file)\n",
    "    df = df_raw.set_index('date')\n",
    "\n",
    "    # Make dataset\n",
    "    dataset = DataframeDataset(df, window_size_input=input_length, window_size_predict=prediction_length)\n",
    "    no_pts = len(dataset)\n",
    "\n",
    "    # Split the data into training and validation\n",
    "    if val_split == ValidationSplit.TEMPORAL_HOLDOUT:\n",
    "        idx_train_val = int(no_pts * (1-val_split_holdout))\n",
    "    else:\n",
    "        raise NotImplementedError(f\"Validation split {val_split} not implemented\")\n",
    "\n",
    "    # Normalize each feature separately        \n",
    "    if data_norm_exist is None:\n",
    "        data_norm_exist = DataNormalization()\n",
    "\n",
    "        # Compute mean and std on training data from pandas dataframe\n",
    "        filtered_df = df[:idx_train_val]\n",
    "        data_norm_exist.mean_each_feature = list(filtered_df.mean().values)\n",
    "        data_norm_exist.std_each_feature = list(filtered_df.std().values)\n",
    "        logger.debug(f\"Computed data mean for each feature: {data_norm_exist.mean_each_feature}\")\n",
    "        logger.debug(f\"Computed data std for each feature: {data_norm_exist.std_each_feature}\")\n",
    "\n",
    "    if normalize_each_feature:\n",
    "        assert data_norm_exist.mean_each_feature is not None, \"Must provide data mean for each feature\"\n",
    "        assert data_norm_exist.std_each_feature is not None, \"Must provide data std for each feature\"\n",
    "\n",
    "        # Create a normalization function\n",
    "        transform = lambda x: (x - torch.Tensor(data_norm_exist.mean_each_feature)) / torch.Tensor(data_norm_exist.std_each_feature)\n",
    "\n",
    "        # Apply the normalization function\n",
    "        dataset.transform = transform\n",
    "\n",
    "    # Splits\n",
    "    train_dataset = Subset(dataset, range(idx_train_val))\n",
    "    val_dataset = Subset(dataset, range(idx_train_val, no_pts))\n",
    "\n",
    "    loader_train = DataLoader(train_dataset, batch_size=batch_size, shuffle=shuffle)\n",
    "    loader_val = DataLoader(val_dataset, batch_size=batch_size, shuffle=shuffle)\n",
    "\n",
    "    return loader_train, loader_val, data_norm_exist\n"
   ]
  },
  {
   "cell_type": "markdown",
   "metadata": {},
   "source": [
    "### Model Layers"
   ]
  },
  {
   "cell_type": "code",
   "execution_count": 12,
   "metadata": {},
   "outputs": [],
   "source": [
    "# In this file is the initialization of the model, how it works how is the input implemented in the model.\n",
    "# It has all the layers which train the model and fit it with the data\n",
    "# As we can see it has some classes for mixing layers and features and some other actions like transpèozation of data as time series mixer work.\n",
    "# As we know they work by mixing feature and samples and training the model in 2 perspectives like feature dependency and time dependency.\n",
    "\n",
    "import torch.nn as nn\n",
    "import torch\n",
    "\n",
    "class TSBatchNorm2d(nn.Module):\n",
    "    def __init__(self):\n",
    "        super(TSBatchNorm2d, self).__init__()\n",
    "        self.bn = nn.BatchNorm2d(num_features=1)\n",
    "\n",
    "    def forward(self, x: torch.Tensor) -> torch.Tensor:\n",
    "        x = x.unsqueeze(1)\n",
    "        output = self.bn(x)\n",
    "        output = output.squeeze(1)\n",
    "        return output\n",
    "\n",
    "class TSTimeMixingResBlock(nn.Module):\n",
    "    def __init__(self, width_time: int, dropout: float):\n",
    "        super(TSTimeMixingResBlock, self).__init__()\n",
    "        self.norm = TSBatchNorm2d()\n",
    "        self.lin = nn.Linear(in_features=width_time, out_features=width_time)\n",
    "        self.dropout = nn.Dropout(p=dropout)\n",
    "        self.act = nn.ReLU()\n",
    "\n",
    "    def forward(self, x: torch.Tensor) -> torch.Tensor:\n",
    "        y = self.norm(x)\n",
    "        y = torch.transpose(y, 1, 2)\n",
    "        y = self.lin(y)\n",
    "        y = self.act(y)\n",
    "        y = torch.transpose(y, 1, 2)\n",
    "        y = self.dropout(y)\n",
    "        return x + y\n",
    "\n",
    "class TSFeatMixingResBlock(nn.Module):\n",
    "    def __init__(self, width_feats: int, width_feats_hidden: int, dropout: float):\n",
    "        super(TSFeatMixingResBlock, self).__init__()\n",
    "        self.norm = TSBatchNorm2d()\n",
    "        self.lin_1 = nn.Linear(in_features=width_feats, out_features=width_feats_hidden)\n",
    "        self.lin_2 = nn.Linear(in_features=width_feats_hidden, out_features=width_feats)\n",
    "        self.dropout_1 = nn.Dropout(p=dropout)\n",
    "        self.dropout_2 = nn.Dropout(p=dropout)\n",
    "        self.act = nn.ReLU()\n",
    "\n",
    "    def forward(self, x: torch.Tensor) -> torch.Tensor:\n",
    "        y = self.norm(x)\n",
    "        y = self.lin_1(y)\n",
    "        y = self.act(y)\n",
    "        y = self.dropout_1(y)\n",
    "        y = self.lin_2(y)\n",
    "        y = self.dropout_2(y)\n",
    "        return x + y\n",
    "\n",
    "class TSMixingLayer(nn.Module):\n",
    "    def __init__(self, input_length: int, no_feats: int, feat_mixing_hidden_channels: int, dropout: float):\n",
    "        super(TSMixingLayer, self).__init__()\n",
    "        self.time_mixing = TSTimeMixingResBlock(width_time=input_length, dropout=dropout)\n",
    "        self.feat_mixing = TSFeatMixingResBlock(width_feats=no_feats, width_feats_hidden=feat_mixing_hidden_channels, dropout=dropout)\n",
    "\n",
    "    def forward(self, x: torch.Tensor) -> torch.Tensor:\n",
    "        y = self.time_mixing(x)\n",
    "        y = self.feat_mixing(y)\n",
    "        return y\n",
    "\n",
    "class TSTemporalProjection(nn.Module):\n",
    "    def __init__(self, input_length: int, forecast_length: int):\n",
    "        super(TSTemporalProjection, self).__init__()\n",
    "        self.lin = nn.Linear(in_features=input_length, out_features=forecast_length)\n",
    "\n",
    "    def forward(self, x: torch.Tensor) -> torch.Tensor:\n",
    "        y = torch.transpose(x, 1, 2)\n",
    "        y = self.lin(y)\n",
    "        y = torch.transpose(y, 1, 2)\n",
    "        return y\n",
    "\n",
    "class TSMixerModelExclRIN(nn.Module):\n",
    "    def __init__(self, input_length: int, forecast_length: int, no_feats: int, feat_mixing_hidden_channels: int, no_mixer_layers: int, dropout: float):\n",
    "        super(TSMixerModelExclRIN, self).__init__()\n",
    "        self.temp_proj = TSTemporalProjection(input_length=input_length, forecast_length=forecast_length)\n",
    "        mixer_layers = []\n",
    "        for _ in range(no_mixer_layers):\n",
    "            mixer_layers.append(TSMixingLayer(input_length=input_length, no_feats=no_feats, feat_mixing_hidden_channels=feat_mixing_hidden_channels, dropout=dropout))\n",
    "        self.mixer_layers = nn.ModuleList(mixer_layers)\n",
    "\n",
    "    def forward(self, x: torch.Tensor) -> torch.Tensor:\n",
    "        for mixer_layer in self.mixer_layers:\n",
    "            x = mixer_layer(x)\n",
    "        x = self.temp_proj(x)\n",
    "        return x\n",
    "\n",
    "class TSMixerModel(nn.Module):\n",
    "    def __init__(self, input_length: int, forecast_length: int, no_feats: int, feat_mixing_hidden_channels: int, no_mixer_layers: int, dropout: float, eps: float = 1e-8):\n",
    "        super(TSMixerModel, self).__init__()\n",
    "        self.eps = eps\n",
    "        self.scale = nn.Parameter(torch.ones(no_feats))\n",
    "        self.shift = nn.Parameter(torch.zeros(no_feats))\n",
    "        self.ts = TSMixerModelExclRIN(\n",
    "            input_length=input_length,\n",
    "            forecast_length=forecast_length,\n",
    "            no_feats=no_feats,\n",
    "            feat_mixing_hidden_channels=feat_mixing_hidden_channels,\n",
    "            no_mixer_layers=no_mixer_layers,\n",
    "            dropout=dropout\n",
    "        )\n",
    "\n",
    "    def forward(self, x: torch.Tensor) -> torch.Tensor:\n",
    "        mean = torch.mean(x, dim=1, keepdim=True)\n",
    "        var = torch.var(x, dim=1, keepdim=True)\n",
    "        x = (x - mean) / torch.sqrt(var + self.eps)\n",
    "        x = x * self.scale + self.shift\n",
    "        x = self.ts(x)\n",
    "        x = (x - self.shift) / self.scale\n",
    "        x = x * torch.sqrt(var + self.eps) + mean\n",
    "        return x\n"
   ]
  },
  {
   "cell_type": "markdown",
   "metadata": {},
   "source": [
    "### Model Initialization"
   ]
  },
  {
   "cell_type": "code",
   "execution_count": 3,
   "metadata": {},
   "outputs": [],
   "source": [
    "from utils.tsmixer_conf import TSMixerConf, TrainingMetadata, makedirs\n",
    "from utils.model import TSMixerModel\n",
    "from utils.load_csv import DataNormalization\n",
    "\n",
    "import os\n",
    "from typing import Optional, Tuple, Dict, List\n",
    "import torch\n",
    "from loguru import logger\n",
    "from tqdm import tqdm\n",
    "import json\n",
    "import time\n",
    "import shutil\n",
    "from dataclasses import dataclass\n",
    "from mashumaro import DataClassDictMixin\n",
    "import yaml\n",
    "\n",
    "\n",
    "class TSMixer:\n",
    "    \"\"\"TSMixer including training and prediction methods\n",
    "    \"\"\"    \n",
    "\n",
    "\n",
    "    def __init__(self, conf: TSMixerConf):\n",
    "        \"\"\"\n",
    "        Constructor for TSMixer class\n",
    "\n",
    "        Args:\n",
    "            conf (TSMixerConf): Configuration\n",
    "        \"\"\"\n",
    "        # Rest of your constructor code goes here\n",
    "        self.conf = conf\n",
    "\n",
    "\n",
    "        # Create the model\n",
    "        self.model = TSMixerModel(\n",
    "            input_length=self.conf.input_length,\n",
    "            forecast_length=self.conf.prediction_length,\n",
    "            no_feats=self.conf.no_features,\n",
    "            feat_mixing_hidden_channels=self.conf.feat_mixing_hidden_channels or self.conf.no_features,\n",
    "            no_mixer_layers=self.conf.no_mixer_layers,\n",
    "            dropout=self.conf.dropout\n",
    "            ) \n",
    "\n",
    "        # Move to device\n",
    "        self.model.to(self.conf.device)\n",
    "\n",
    "        # Load the model\n",
    "        if self.conf.initialize == self.conf.Initialize.FROM_LATEST_CHECKPOINT:\n",
    "            self.load_checkpoint(fname=self.conf.checkpoint_latest)\n",
    "        elif self.conf.initialize == self.conf.Initialize.FROM_BEST_CHECKPOINT:\n",
    "            self.load_checkpoint(fname=self.conf.checkpoint_best)\n",
    "        elif self.conf.initialize == self.conf.Initialize.FROM_SCRATCH:\n",
    "            pass\n",
    "        else:\n",
    "            raise NotImplementedError(f\"Initialize {self.conf.initialize} not implemented\")\n",
    "\n",
    "\n",
    "    def load_checkpoint(self, fname: str, optimizer: Optional[torch.optim.Optimizer] = None) -> Tuple[int,float]:\n",
    "        \"\"\"Load a checkpoint, optionally including the optimizer state\n",
    "\n",
    "        Args:\n",
    "            fname (str): File name\n",
    "            optimizer (Optional[torch.optim.Optimizer], optional): Optimizer to update from checkpoint. Defaults to None.\n",
    "\n",
    "        Returns:\n",
    "            Tuple[int,float]: Epoch and loss\n",
    "        \"\"\"        \n",
    "        logger.debug(f\"Loading model weights from {fname}\")\n",
    "        checkpoint = torch.load(fname)\n",
    "        self.model.load_state_dict(checkpoint['model_state_dict'])\n",
    "\n",
    "        if optimizer is not None:\n",
    "            logger.debug(f\"Loading optimizer state from {fname}\")\n",
    "            optimizer.load_state_dict(checkpoint['optimizer_state_dict'])\n",
    "        epoch = checkpoint['epoch']\n",
    "        loss = checkpoint['loss']\n",
    "        logger.info(f\"Loaded optimizer state from epoch {epoch} with loss {loss}\")\n",
    "        return epoch, loss\n",
    "\n",
    "\n",
    "    def predict(self, batch_input: torch.Tensor) -> torch.Tensor:\n",
    "        \"\"\"Predict the output for a batch of input data\n",
    "\n",
    "        Args:\n",
    "            batch_input (torch.Tensor): Input data of shape (batch_size, input_length (time), no_features)\n",
    "\n",
    "        Returns:\n",
    "            torch.Tensor: Predicted output of shape (batch_size, prediction_length (time), no_features)\n",
    "        \"\"\"        \n",
    "        self.model.eval()\n",
    "\n",
    "        # Check size\n",
    "        assert batch_input.shape[1] == self.conf.input_length, f\"Input length {batch_input.shape[1]} does not match configuration {self.conf.input_length}\"\n",
    "        assert batch_input.shape[2] == self.conf.no_features, f\"Number of features {batch_input.shape[2]} does not match configuration {self.conf.no_features}\"\n",
    "\n",
    "        # Predict\n",
    "        batch_input = batch_input.to(self.conf.device)\n",
    "        with torch.no_grad():\n",
    "            batch_pred_hat = self.model(batch_input)\n",
    "        return batch_pred_hat\n",
    "\n",
    "    def load_data_norm(self) -> Optional[DataNormalization]:\n",
    "        \"\"\"Load the data normalization from a JSON file\n",
    "\n",
    "        Returns:\n",
    "            Optional[DataNormalization]: Data normalization, or None if the file does not exist\n",
    "        \"\"\"        \n",
    "\n",
    "        if os.path.exists(self.conf.data_norm_json):\n",
    "            logger.debug(f\"Loading data normalization from {self.conf.data_norm_json}\")\n",
    "            with open(self.conf.data_norm_json, \"r\") as f:\n",
    "                return DataNormalization.from_dict(json.load(f))\n",
    "        else:\n",
    "            return None\n",
    "\n",
    "\n",
    "    @dataclass\n",
    "    class PredData(DataClassDictMixin):\n",
    "        \"\"\"Prediction data\n",
    "        \"\"\"        \n",
    "\n",
    "        pred_gt: List[List[float]]\n",
    "        \"Ground truth prediction\"\n",
    "\n",
    "        pred: List[List[float]]\n",
    "        \"Model prediction\"\n",
    "\n",
    "        inputs: Optional[List[List[float]]] = None\n",
    "        \"Inputs\"\n",
    "\n",
    "\n",
    "    def predict_val_dataset(self, max_samples: Optional[int] = None, save_inputs: bool = False) -> List[PredData]:\n",
    "        \"\"\"Predict on the validation dataset\n",
    "\n",
    "        Args:\n",
    "            max_samples (Optional[int], optional): Maximum number of samples to predict from the validation dataset. Defaults to None.\n",
    "            save_inputs (bool, optional): Save the inputs as well as the predictions. Defaults to False.\n",
    "\n",
    "        Returns:\n",
    "            List[PredData]: List of predictions\n",
    "        \"\"\"        \n",
    "\n",
    "        # Change batch size to 1 and not shuffle data for consistency\n",
    "        batch_size_save = self.conf.batch_size\n",
    "        shuffle_save = self.conf.shuffle\n",
    "        self.conf.batch_size = 1\n",
    "        self.conf.shuffle = False\n",
    "\n",
    "        # Load the data normalization if it exists and use it\n",
    "        data_norm = self.load_data_norm()\n",
    "\n",
    "        # Create the loaders\n",
    "        _, loader_val, _ = self.conf.create_data_loaders_train_val(data_norm)\n",
    "        \n",
    "        # Predict\n",
    "        data_list: List[TSMixer.PredData] = []\n",
    "        for _ in tqdm(range(max_samples or len(loader_val)), desc=\"Predicting\"):\n",
    "            batch_input, batch_pred = next(iter(loader_val))\n",
    "            batch_pred_hat = self.predict(batch_input)\n",
    "            data = TSMixer.PredData(\n",
    "                pred_gt=batch_pred.tolist()[0],\n",
    "                pred=batch_pred_hat.tolist()[0],\n",
    "                inputs=batch_input.tolist()[0] if save_inputs else None\n",
    "                )\n",
    "            data_list.append(data)            \n",
    "\n",
    "        # Save data to json\n",
    "        with open(self.conf.pred_val_dataset_json, \"w\") as f:\n",
    "            json.dump([ d.to_dict() for d in data_list ], f)\n",
    "            logger.info(f\"Saved data to {f.name}\")\n",
    "\n",
    "        # Reset options\n",
    "        self.conf.batch_size = batch_size_save\n",
    "        self.conf.shuffle = shuffle_save\n",
    "\n",
    "        return data_list\n",
    "\n",
    "\n",
    "    def train(self):\n",
    "        \"\"\"Train the model\n",
    "        \"\"\"        \n",
    "\n",
    "        # Create the optimizer\n",
    "        optimizer_cls = getattr(torch.optim, self.conf.optimizer)\n",
    "        optimizer = optimizer_cls(self.model.parameters(), lr=self.conf.learning_rate)\n",
    "\n",
    "        # Load if needed\n",
    "        if self.conf.initialize == self.conf.Initialize.FROM_LATEST_CHECKPOINT:\n",
    "            epoch_start, val_loss_best = self.load_checkpoint(fname=self.conf.checkpoint_latest, optimizer=optimizer)\n",
    "            data_norm = self.load_data_norm()\n",
    "        elif self.conf.initialize == self.conf.Initialize.FROM_BEST_CHECKPOINT:\n",
    "            epoch_start, val_loss_best = self.load_checkpoint(fname=self.conf.checkpoint_best, optimizer=optimizer)\n",
    "            data_norm = self.load_data_norm()\n",
    "        elif self.conf.initialize == self.conf.Initialize.FROM_SCRATCH:\n",
    "            epoch_start, val_loss_best = 0, float(\"inf\")\n",
    "\n",
    "            # Clear the output directory\n",
    "            if os.path.exists(self.conf.output_dir):\n",
    "                logger.warning(f\"Output directory {self.conf.output_dir} already exists. Deleting it to start over. You have 8 seconds.\")\n",
    "                for _ in range(8):\n",
    "                    print(\".\", end=\"\", flush=True)\n",
    "                    time.sleep(1)\n",
    "                print(\"\")\n",
    "                shutil.rmtree(self.conf.output_dir)\n",
    "            makedirs(self.conf.output_dir)\n",
    "\n",
    "            # Save initial weights\n",
    "            self._save_checkpoint(epoch=epoch_start, optimizer=optimizer, loss=val_loss_best, fname=self.conf.checkpoint_init)\n",
    "            data_norm = None\n",
    "\n",
    "            # Copy the config to the output directory for reference\n",
    "            fname_conf = os.path.join(self.conf.output_dir, \"conf.yml\")\n",
    "            makedirs(self.conf.output_dir)\n",
    "            with open(fname_conf, \"w\") as f:\n",
    "                yaml.dump(self.conf.to_dict(), f, indent=3)\n",
    "                logger.info(f\"Saved configuration to {f.name}\")\n",
    "        \n",
    "        else:\n",
    "            raise NotImplementedError(f\"Initialize {self.conf.initialize} not implemented\")\n",
    "        train_data = self.conf.load_training_metadata_or_new(epoch_start)\n",
    "\n",
    "        # Create the loaders\n",
    "        loader_train, loader_val, data_norm = self.conf.create_data_loaders_train_val(data_norm)\n",
    "\n",
    "        # Write data normalization\n",
    "        self.conf.write_data_norm(data_norm)\n",
    "\n",
    "        # Train\n",
    "        epoch_last_improvement = None\n",
    "        for epoch in range(epoch_start, self.conf.num_epochs):\n",
    "            logger.info(f\"Epoch {epoch+1}/{self.conf.num_epochs}\")\n",
    "            t0 = time.time()\n",
    "\n",
    "            # Training\n",
    "            train_loss = 0\n",
    "            for batch_input, batch_pred in tqdm(loader_train, desc=\"Training batches\"):\n",
    "                batch_input, batch_pred = batch_input.to(self.conf.device), batch_pred.to(self.conf.device)\n",
    "                train_loss += self._train_step(batch_input, batch_pred, optimizer)\n",
    "\n",
    "            # Validation loss\n",
    "            self.model.eval()\n",
    "            with torch.no_grad():\n",
    "                val_loss = 0\n",
    "                for batch_input, batch_pred in tqdm(loader_val, desc=\"Validation batches\"):\n",
    "                    batch_input, batch_pred = batch_input.to(self.conf.device), batch_pred.to(self.conf.device)\n",
    "                    val_loss += self._compute_loss(batch_input, batch_pred).item()\n",
    "\n",
    "            # Log\n",
    "            train_loss /= len(loader_train)\n",
    "            val_loss /= len(loader_val)\n",
    "            dur = time.time() - t0\n",
    "            logger.info(f\"Training loss: {train_loss:.5f} val: {val_loss:.5f} duration: {dur:.2f}s\")\n",
    "\n",
    "            # Store metadata about training\n",
    "            train_data.epoch_to_data[epoch] = TrainingMetadata.EpochData(epoch=epoch, train_loss=train_loss, val_loss=val_loss, duration_seconds=dur)\n",
    "\n",
    "            # Save checkpoint\n",
    "            if val_loss < val_loss_best:\n",
    "                logger.info(f\"New best validation loss: {val_loss:.5f}\")\n",
    "                self._save_checkpoint(epoch=epoch, optimizer=optimizer, loss=val_loss, fname=self.conf.checkpoint_best)\n",
    "                val_loss_best = val_loss\n",
    "                epoch_last_improvement = epoch\n",
    "            self._save_checkpoint(epoch=epoch, optimizer=optimizer, loss=val_loss, fname=self.conf.checkpoint_latest)\n",
    "            self.conf.write_training_metadata(train_data)\n",
    "\n",
    "            # Early stopping\n",
    "            if epoch_last_improvement is not None and self.conf.early_stopping_patience is not None and epoch - epoch_last_improvement >= self.conf.early_stopping_patience:\n",
    "                logger.info(f\"Stopping early after {epoch - epoch_last_improvement} epochs without improvement in validation loss.\")\n",
    "                break\n",
    "\n",
    "\n",
    "    def _save_checkpoint(self, epoch: int, optimizer: torch.optim.Optimizer, loss: float, fname: str):\n",
    "        torch.save({\n",
    "            'epoch': epoch,\n",
    "            'model_state_dict': self.model.state_dict(),\n",
    "            'optimizer_state_dict': optimizer.state_dict(),\n",
    "            'loss': loss,\n",
    "            }, fname)\n",
    "\n",
    "\n",
    "    def _compute_loss(self, batch_input: torch.Tensor, batch_pred: torch.Tensor) -> torch.Tensor:\n",
    "        \"\"\"Compute the loss\n",
    "\n",
    "        Args:\n",
    "            batch_input (torch.Tensor): Batch input of shape (batch_size, input_length (time), no_features)\n",
    "            batch_pred (torch.Tensor): Batch prediction of shape (batch_size, prediction_length (time), no_features)\n",
    "\n",
    "        Returns:\n",
    "            torch.Tensor: Loss (MSE)\n",
    "        \"\"\"        \n",
    "\n",
    "        # Forward pass\n",
    "        batch_pred_hat = self.model(batch_input)\n",
    "\n",
    "        # Compute MSE loss\n",
    "        loss = torch.nn.functional.mse_loss(batch_pred_hat, batch_pred)\n",
    "\n",
    "        # Normalize the loss by the batch size\n",
    "        # batch_size = batch_input.size(0)\n",
    "        # loss /= batch_size\n",
    "\n",
    "        return loss\n",
    "\n",
    "\n",
    "    def _train_step(self, batch_input: torch.Tensor, batch_pred: torch.Tensor, optimizer: torch.optim.Optimizer) -> float:\n",
    "        \"\"\"Training step\n",
    "\n",
    "        Args:\n",
    "            batch_input (torch.Tensor): Input data of shape (batch_size, input_length (time), no_features)\n",
    "            batch_pred (torch.Tensor): Prediction data of shape (batch_size, prediction_length (time), no_features)\n",
    "            optimizer (torch.optim.Optimizer): Optimizer\n",
    "\n",
    "        Returns:\n",
    "            float: Loss (MSE)\n",
    "        \"\"\"        \n",
    "        optimizer.zero_grad()\n",
    "\n",
    "        # Train mode\n",
    "        self.model.train()\n",
    "\n",
    "        # Loss\n",
    "        loss = self._compute_loss(batch_input, batch_pred)\n",
    "\n",
    "        # Backward pass\n",
    "        loss.backward()\n",
    "\n",
    "        # Update parameters\n",
    "        optimizer.step()\n",
    "\n",
    "        return loss.item()"
   ]
  },
  {
   "cell_type": "markdown",
   "metadata": {},
   "source": [
    "### Import models and packages"
   ]
  },
  {
   "cell_type": "code",
   "execution_count": 10,
   "metadata": {},
   "outputs": [],
   "source": [
    "from utils.model import TSBatchNorm2d, TSFeatMixingResBlock, TSMixerModelExclRIN, TSMixingLayer, TSTemporalProjection, TSTimeMixingResBlock, TSMixerModel\n",
    "from utils.plotting import plot_preds, plot_loss\n",
    "from utils.tsmixer_conf import TSMixerConf, TrainingMetadata\n",
    "from utils.tsmixer_grid_search_conf import TSMixerGridSearch\n",
    "from utils.tsmixer import TSMixer\n",
    "\n",
    "from utils.tsmixer_conf import TSMixerConf, TrainingMetadata, makedirs\n",
    "from utils.model import TSMixerModel\n",
    "from utils.load_csv import DataNormalization\n",
    "\n",
    "import os\n",
    "from typing import Optional, Tuple, Dict, List, Callable\n",
    "from loguru import logger\n",
    "from tqdm import tqdm\n",
    "from dataclasses import dataclass\n",
    "from mashumaro import DataClassDictMixin\n",
    "import yaml\n",
    "import pandas as pd\n",
    "from torch.utils.data import DataLoader, Dataset, Subset\n",
    "from enum import Enum\n",
    "import torch"
   ]
  },
  {
   "cell_type": "markdown",
   "metadata": {},
   "source": [
    "### Train"
   ]
  },
  {
   "cell_type": "code",
   "execution_count": 15,
   "metadata": {},
   "outputs": [
    {
     "name": "stderr",
     "output_type": "stream",
     "text": [
      "\u001b[32m2024-01-27 00:30:33.332\u001b[0m | \u001b[33m\u001b[1mWARNING \u001b[0m | \u001b[36mutils.tsmixer\u001b[0m:\u001b[36mtrain\u001b[0m:\u001b[36m199\u001b[0m - \u001b[33m\u001b[1mOutput directory output.etdataset already exists. Deleting it to start over. You have 8 seconds.\u001b[0m\n"
     ]
    },
    {
     "name": "stdout",
     "output_type": "stream",
     "text": [
      "."
     ]
    },
    {
     "name": "stdout",
     "output_type": "stream",
     "text": [
      "......."
     ]
    },
    {
     "name": "stderr",
     "output_type": "stream",
     "text": [
      "\u001b[32m2024-01-27 00:30:41.399\u001b[0m | \u001b[1mINFO    \u001b[0m | \u001b[36mutils.tsmixer\u001b[0m:\u001b[36mtrain\u001b[0m:\u001b[36m216\u001b[0m - \u001b[1mSaved configuration to output.etdataset\\conf.yml\u001b[0m\n"
     ]
    },
    {
     "name": "stdout",
     "output_type": "stream",
     "text": [
      "\n"
     ]
    },
    {
     "name": "stderr",
     "output_type": "stream",
     "text": [
      "\u001b[32m2024-01-27 00:30:41.817\u001b[0m | \u001b[34m\u001b[1mDEBUG   \u001b[0m | \u001b[36mutils.load_csv\u001b[0m:\u001b[36mload_csv_dataset\u001b[0m:\u001b[36m147\u001b[0m - \u001b[34m\u001b[1mComputed data mean for each feature: [7.642415963153354, 2.119633709968322, 4.657595465358549, 0.8135561834149274, 2.9945986024742925, 0.8101981998288894, 14.839495349882727]\u001b[0m\n",
      "\u001b[32m2024-01-27 00:30:41.818\u001b[0m | \u001b[34m\u001b[1mDEBUG   \u001b[0m | \u001b[36mutils.load_csv\u001b[0m:\u001b[36mload_csv_dataset\u001b[0m:\u001b[36m148\u001b[0m - \u001b[34m\u001b[1mComputed data std for each feature: [6.483959466608053, 2.0632196598808275, 6.264848437083102, 1.862274864605287, 1.1803985412997784, 0.6355698687137809, 8.831042903001919]\u001b[0m\n",
      "\u001b[32m2024-01-27 00:30:41.821\u001b[0m | \u001b[34m\u001b[1mDEBUG   \u001b[0m | \u001b[36mutils.tsmixer_conf\u001b[0m:\u001b[36mwrite_data_norm\u001b[0m:\u001b[36m180\u001b[0m - \u001b[34m\u001b[1mSaved data normalization to output.etdataset\\data_norm.json\u001b[0m\n",
      "\u001b[32m2024-01-27 00:30:41.822\u001b[0m | \u001b[1mINFO    \u001b[0m | \u001b[36mutils.tsmixer\u001b[0m:\u001b[36mtrain\u001b[0m:\u001b[36m231\u001b[0m - \u001b[1mEpoch 1/30\u001b[0m\n",
      "Training batches: 100%|██████████| 864/864 [01:00<00:00, 14.28it/s]\n",
      "Validation batches: 100%|██████████| 216/216 [00:07<00:00, 29.17it/s]\n",
      "\u001b[32m2024-01-27 00:31:49.751\u001b[0m | \u001b[1mINFO    \u001b[0m | \u001b[36mutils.tsmixer\u001b[0m:\u001b[36mtrain\u001b[0m:\u001b[36m252\u001b[0m - \u001b[1mTraining loss: 0.31126 val: 0.32605 duration: 67.93s\u001b[0m\n",
      "\u001b[32m2024-01-27 00:31:49.752\u001b[0m | \u001b[1mINFO    \u001b[0m | \u001b[36mutils.tsmixer\u001b[0m:\u001b[36mtrain\u001b[0m:\u001b[36m259\u001b[0m - \u001b[1mNew best validation loss: 0.32605\u001b[0m\n",
      "\u001b[32m2024-01-27 00:31:49.798\u001b[0m | \u001b[1mINFO    \u001b[0m | \u001b[36mutils.tsmixer\u001b[0m:\u001b[36mtrain\u001b[0m:\u001b[36m231\u001b[0m - \u001b[1mEpoch 2/30\u001b[0m\n",
      "Training batches: 100%|██████████| 864/864 [00:51<00:00, 16.68it/s]\n",
      "Validation batches: 100%|██████████| 216/216 [00:04<00:00, 43.76it/s]\n",
      "\u001b[32m2024-01-27 00:32:46.548\u001b[0m | \u001b[1mINFO    \u001b[0m | \u001b[36mutils.tsmixer\u001b[0m:\u001b[36mtrain\u001b[0m:\u001b[36m252\u001b[0m - \u001b[1mTraining loss: 0.25746 val: 0.31368 duration: 56.75s\u001b[0m\n",
      "\u001b[32m2024-01-27 00:32:46.549\u001b[0m | \u001b[1mINFO    \u001b[0m | \u001b[36mutils.tsmixer\u001b[0m:\u001b[36mtrain\u001b[0m:\u001b[36m259\u001b[0m - \u001b[1mNew best validation loss: 0.31368\u001b[0m\n",
      "\u001b[32m2024-01-27 00:32:46.575\u001b[0m | \u001b[1mINFO    \u001b[0m | \u001b[36mutils.tsmixer\u001b[0m:\u001b[36mtrain\u001b[0m:\u001b[36m231\u001b[0m - \u001b[1mEpoch 3/30\u001b[0m\n",
      "Training batches: 100%|██████████| 864/864 [00:44<00:00, 19.63it/s]\n",
      "Validation batches: 100%|██████████| 216/216 [00:05<00:00, 42.57it/s]\n",
      "\u001b[32m2024-01-27 00:33:35.666\u001b[0m | \u001b[1mINFO    \u001b[0m | \u001b[36mutils.tsmixer\u001b[0m:\u001b[36mtrain\u001b[0m:\u001b[36m252\u001b[0m - \u001b[1mTraining loss: 0.24310 val: 0.31219 duration: 49.09s\u001b[0m\n",
      "\u001b[32m2024-01-27 00:33:35.666\u001b[0m | \u001b[1mINFO    \u001b[0m | \u001b[36mutils.tsmixer\u001b[0m:\u001b[36mtrain\u001b[0m:\u001b[36m259\u001b[0m - \u001b[1mNew best validation loss: 0.31219\u001b[0m\n",
      "\u001b[32m2024-01-27 00:33:35.694\u001b[0m | \u001b[1mINFO    \u001b[0m | \u001b[36mutils.tsmixer\u001b[0m:\u001b[36mtrain\u001b[0m:\u001b[36m231\u001b[0m - \u001b[1mEpoch 4/30\u001b[0m\n",
      "Training batches: 100%|██████████| 864/864 [00:43<00:00, 19.85it/s]\n",
      "Validation batches: 100%|██████████| 216/216 [00:05<00:00, 41.58it/s]\n",
      "\u001b[32m2024-01-27 00:34:24.427\u001b[0m | \u001b[1mINFO    \u001b[0m | \u001b[36mutils.tsmixer\u001b[0m:\u001b[36mtrain\u001b[0m:\u001b[36m252\u001b[0m - \u001b[1mTraining loss: 0.23413 val: 0.30838 duration: 48.73s\u001b[0m\n",
      "\u001b[32m2024-01-27 00:34:24.428\u001b[0m | \u001b[1mINFO    \u001b[0m | \u001b[36mutils.tsmixer\u001b[0m:\u001b[36mtrain\u001b[0m:\u001b[36m259\u001b[0m - \u001b[1mNew best validation loss: 0.30838\u001b[0m\n",
      "\u001b[32m2024-01-27 00:34:24.454\u001b[0m | \u001b[1mINFO    \u001b[0m | \u001b[36mutils.tsmixer\u001b[0m:\u001b[36mtrain\u001b[0m:\u001b[36m231\u001b[0m - \u001b[1mEpoch 5/30\u001b[0m\n",
      "Training batches: 100%|██████████| 864/864 [00:43<00:00, 19.69it/s]\n",
      "Validation batches: 100%|██████████| 216/216 [00:05<00:00, 40.66it/s]\n",
      "\u001b[32m2024-01-27 00:35:13.664\u001b[0m | \u001b[1mINFO    \u001b[0m | \u001b[36mutils.tsmixer\u001b[0m:\u001b[36mtrain\u001b[0m:\u001b[36m252\u001b[0m - \u001b[1mTraining loss: 0.22722 val: 0.30690 duration: 49.21s\u001b[0m\n",
      "\u001b[32m2024-01-27 00:35:13.665\u001b[0m | \u001b[1mINFO    \u001b[0m | \u001b[36mutils.tsmixer\u001b[0m:\u001b[36mtrain\u001b[0m:\u001b[36m259\u001b[0m - \u001b[1mNew best validation loss: 0.30690\u001b[0m\n",
      "\u001b[32m2024-01-27 00:35:13.690\u001b[0m | \u001b[1mINFO    \u001b[0m | \u001b[36mutils.tsmixer\u001b[0m:\u001b[36mtrain\u001b[0m:\u001b[36m231\u001b[0m - \u001b[1mEpoch 6/30\u001b[0m\n",
      "Training batches: 100%|██████████| 864/864 [00:45<00:00, 18.91it/s]\n",
      "Validation batches: 100%|██████████| 216/216 [00:04<00:00, 44.94it/s]\n",
      "\u001b[32m2024-01-27 00:36:04.197\u001b[0m | \u001b[1mINFO    \u001b[0m | \u001b[36mutils.tsmixer\u001b[0m:\u001b[36mtrain\u001b[0m:\u001b[36m252\u001b[0m - \u001b[1mTraining loss: 0.22168 val: 0.30570 duration: 50.51s\u001b[0m\n",
      "\u001b[32m2024-01-27 00:36:04.197\u001b[0m | \u001b[1mINFO    \u001b[0m | \u001b[36mutils.tsmixer\u001b[0m:\u001b[36mtrain\u001b[0m:\u001b[36m259\u001b[0m - \u001b[1mNew best validation loss: 0.30570\u001b[0m\n",
      "\u001b[32m2024-01-27 00:36:04.223\u001b[0m | \u001b[1mINFO    \u001b[0m | \u001b[36mutils.tsmixer\u001b[0m:\u001b[36mtrain\u001b[0m:\u001b[36m231\u001b[0m - \u001b[1mEpoch 7/30\u001b[0m\n",
      "Training batches: 100%|██████████| 864/864 [00:41<00:00, 20.68it/s]\n",
      "Validation batches: 100%|██████████| 216/216 [00:04<00:00, 46.96it/s]\n",
      "\u001b[32m2024-01-27 00:36:50.615\u001b[0m | \u001b[1mINFO    \u001b[0m | \u001b[36mutils.tsmixer\u001b[0m:\u001b[36mtrain\u001b[0m:\u001b[36m252\u001b[0m - \u001b[1mTraining loss: 0.21677 val: 0.30533 duration: 46.39s\u001b[0m\n",
      "\u001b[32m2024-01-27 00:36:50.616\u001b[0m | \u001b[1mINFO    \u001b[0m | \u001b[36mutils.tsmixer\u001b[0m:\u001b[36mtrain\u001b[0m:\u001b[36m259\u001b[0m - \u001b[1mNew best validation loss: 0.30533\u001b[0m\n",
      "\u001b[32m2024-01-27 00:36:50.639\u001b[0m | \u001b[1mINFO    \u001b[0m | \u001b[36mutils.tsmixer\u001b[0m:\u001b[36mtrain\u001b[0m:\u001b[36m231\u001b[0m - \u001b[1mEpoch 8/30\u001b[0m\n",
      "Training batches: 100%|██████████| 864/864 [00:40<00:00, 21.56it/s]\n",
      "Validation batches: 100%|██████████| 216/216 [00:04<00:00, 45.71it/s]\n",
      "\u001b[32m2024-01-27 00:37:35.439\u001b[0m | \u001b[1mINFO    \u001b[0m | \u001b[36mutils.tsmixer\u001b[0m:\u001b[36mtrain\u001b[0m:\u001b[36m252\u001b[0m - \u001b[1mTraining loss: 0.21278 val: 0.30406 duration: 44.80s\u001b[0m\n",
      "\u001b[32m2024-01-27 00:37:35.440\u001b[0m | \u001b[1mINFO    \u001b[0m | \u001b[36mutils.tsmixer\u001b[0m:\u001b[36mtrain\u001b[0m:\u001b[36m259\u001b[0m - \u001b[1mNew best validation loss: 0.30406\u001b[0m\n",
      "\u001b[32m2024-01-27 00:37:35.463\u001b[0m | \u001b[1mINFO    \u001b[0m | \u001b[36mutils.tsmixer\u001b[0m:\u001b[36mtrain\u001b[0m:\u001b[36m231\u001b[0m - \u001b[1mEpoch 9/30\u001b[0m\n",
      "Training batches: 100%|██████████| 864/864 [00:42<00:00, 20.25it/s]\n",
      "Validation batches: 100%|██████████| 216/216 [00:05<00:00, 41.74it/s]\n",
      "\u001b[32m2024-01-27 00:38:23.304\u001b[0m | \u001b[1mINFO    \u001b[0m | \u001b[36mutils.tsmixer\u001b[0m:\u001b[36mtrain\u001b[0m:\u001b[36m252\u001b[0m - \u001b[1mTraining loss: 0.20880 val: 0.30592 duration: 47.84s\u001b[0m\n",
      "\u001b[32m2024-01-27 00:38:23.317\u001b[0m | \u001b[1mINFO    \u001b[0m | \u001b[36mutils.tsmixer\u001b[0m:\u001b[36mtrain\u001b[0m:\u001b[36m231\u001b[0m - \u001b[1mEpoch 10/30\u001b[0m\n",
      "Training batches: 100%|██████████| 864/864 [00:43<00:00, 19.78it/s]\n",
      "Validation batches: 100%|██████████| 216/216 [00:05<00:00, 41.88it/s]\n",
      "\u001b[32m2024-01-27 00:39:12.163\u001b[0m | \u001b[1mINFO    \u001b[0m | \u001b[36mutils.tsmixer\u001b[0m:\u001b[36mtrain\u001b[0m:\u001b[36m252\u001b[0m - \u001b[1mTraining loss: 0.20549 val: 0.30576 duration: 48.84s\u001b[0m\n",
      "\u001b[32m2024-01-27 00:39:12.177\u001b[0m | \u001b[1mINFO    \u001b[0m | \u001b[36mutils.tsmixer\u001b[0m:\u001b[36mtrain\u001b[0m:\u001b[36m231\u001b[0m - \u001b[1mEpoch 11/30\u001b[0m\n",
      "Training batches: 100%|██████████| 864/864 [00:43<00:00, 19.84it/s]\n",
      "Validation batches: 100%|██████████| 216/216 [00:05<00:00, 42.17it/s]\n",
      "\u001b[32m2024-01-27 00:40:00.844\u001b[0m | \u001b[1mINFO    \u001b[0m | \u001b[36mutils.tsmixer\u001b[0m:\u001b[36mtrain\u001b[0m:\u001b[36m252\u001b[0m - \u001b[1mTraining loss: 0.20246 val: 0.30627 duration: 48.67s\u001b[0m\n",
      "\u001b[32m2024-01-27 00:40:00.861\u001b[0m | \u001b[1mINFO    \u001b[0m | \u001b[36mutils.tsmixer\u001b[0m:\u001b[36mtrain\u001b[0m:\u001b[36m231\u001b[0m - \u001b[1mEpoch 12/30\u001b[0m\n",
      "Training batches: 100%|██████████| 864/864 [00:43<00:00, 19.82it/s]\n",
      "Validation batches: 100%|██████████| 216/216 [00:05<00:00, 41.55it/s]\n",
      "\u001b[32m2024-01-27 00:40:49.647\u001b[0m | \u001b[1mINFO    \u001b[0m | \u001b[36mutils.tsmixer\u001b[0m:\u001b[36mtrain\u001b[0m:\u001b[36m252\u001b[0m - \u001b[1mTraining loss: 0.19966 val: 0.30795 duration: 48.78s\u001b[0m\n",
      "\u001b[32m2024-01-27 00:40:49.662\u001b[0m | \u001b[1mINFO    \u001b[0m | \u001b[36mutils.tsmixer\u001b[0m:\u001b[36mtrain\u001b[0m:\u001b[36m231\u001b[0m - \u001b[1mEpoch 13/30\u001b[0m\n",
      "Training batches: 100%|██████████| 864/864 [00:43<00:00, 19.85it/s]\n",
      "Validation batches: 100%|██████████| 216/216 [00:05<00:00, 42.35it/s]\n",
      "\u001b[32m2024-01-27 00:41:38.300\u001b[0m | \u001b[1mINFO    \u001b[0m | \u001b[36mutils.tsmixer\u001b[0m:\u001b[36mtrain\u001b[0m:\u001b[36m252\u001b[0m - \u001b[1mTraining loss: 0.19681 val: 0.31028 duration: 48.64s\u001b[0m\n",
      "\u001b[32m2024-01-27 00:41:38.313\u001b[0m | \u001b[1mINFO    \u001b[0m | \u001b[36mutils.tsmixer\u001b[0m:\u001b[36mtrain\u001b[0m:\u001b[36m268\u001b[0m - \u001b[1mStopping early after 5 epochs without improvement in validation loss.\u001b[0m\n"
     ]
    }
   ],
   "source": [
    "# Here can be chosen each .yml file as initialization to train the model\n",
    "conf_path =\"coeficients.yml\" \n",
    "\n",
    "assert conf_path, \"Must provide a configuration file\"\n",
    "with open(conf_path, \"r\") as f:\n",
    "    conf = TSMixerConf.from_dict(yaml.safe_load(f))\n",
    "conf.device = \"cpu\"\n",
    "tsmixer = TSMixer(conf)\n",
    "tsmixer.train()"
   ]
  },
  {
   "cell_type": "markdown",
   "metadata": {},
   "source": [
    "### Plot the predictions of the model"
   ]
  },
  {
   "cell_type": "code",
   "execution_count": 16,
   "metadata": {},
   "outputs": [
    {
     "name": "stderr",
     "output_type": "stream",
     "text": [
      "\u001b[32m2024-01-27 00:48:34.094\u001b[0m | \u001b[34m\u001b[1mDEBUG   \u001b[0m | \u001b[36mutils.tsmixer\u001b[0m:\u001b[36mload_checkpoint\u001b[0m:\u001b[36m68\u001b[0m - \u001b[34m\u001b[1mLoading model weights from output.etdataset\\best.pth\u001b[0m\n"
     ]
    },
    {
     "name": "stderr",
     "output_type": "stream",
     "text": [
      "\u001b[32m2024-01-27 00:48:34.115\u001b[0m | \u001b[1mINFO    \u001b[0m | \u001b[36mutils.tsmixer\u001b[0m:\u001b[36mload_checkpoint\u001b[0m:\u001b[36m77\u001b[0m - \u001b[1mLoaded optimizer state from epoch 7 with loss 0.3040558319124911\u001b[0m\n",
      "\u001b[32m2024-01-27 00:48:34.117\u001b[0m | \u001b[34m\u001b[1mDEBUG   \u001b[0m | \u001b[36mutils.tsmixer\u001b[0m:\u001b[36mload_data_norm\u001b[0m:\u001b[36m110\u001b[0m - \u001b[34m\u001b[1mLoading data normalization from output.etdataset\\data_norm.json\u001b[0m\n",
      "Predicting: 100%|██████████| 10/10 [00:00<00:00, 555.60it/s]\n",
      "\u001b[32m2024-01-27 00:48:34.298\u001b[0m | \u001b[1mINFO    \u001b[0m | \u001b[36mutils.tsmixer\u001b[0m:\u001b[36mpredict_val_dataset\u001b[0m:\u001b[36m170\u001b[0m - \u001b[1mSaved data to output.etdataset\\pred_val_dataset.json\u001b[0m\n",
      "\u001b[32m2024-01-27 00:48:34.556\u001b[0m | \u001b[1mINFO    \u001b[0m | \u001b[36mutils.plotting\u001b[0m:\u001b[36mplot_preds\u001b[0m:\u001b[36m57\u001b[0m - \u001b[1mSaved plot to output.etdataset\\images\\preds.png\u001b[0m\n"
     ]
    },
    {
     "data": {
      "application/vnd.plotly.v1+json": {
       "config": {
        "plotlyServerURL": "https://plot.ly"
       },
       "data": [
        {
         "line": {
          "color": "red"
         },
         "mode": "lines",
         "name": "Ground truth",
         "showlegend": true,
         "type": "scatter",
         "x": [
          0,
          1,
          2,
          3,
          4,
          5,
          6,
          7,
          8,
          9,
          10,
          11,
          12,
          13,
          14,
          15,
          16,
          17,
          18,
          19,
          20,
          21,
          22,
          23,
          24,
          25,
          26,
          27,
          28,
          29,
          30,
          31,
          32,
          33,
          34,
          35,
          36,
          37,
          38,
          39,
          40,
          41,
          42,
          43,
          44,
          45,
          46,
          47,
          48,
          49,
          50,
          51,
          52,
          53,
          54,
          55,
          56,
          57,
          58,
          59,
          60,
          61,
          62,
          63,
          64,
          65,
          66,
          67,
          68,
          69,
          70,
          71,
          72,
          73,
          74,
          75,
          76,
          77,
          78,
          79,
          80,
          81,
          82,
          83,
          84,
          85,
          86,
          87,
          88,
          89,
          90,
          91,
          92,
          93,
          94,
          95
         ],
         "xaxis": "x",
         "y": [
          1.527860164642334,
          1.4348613023757935,
          1.2798635959625244,
          1.2901966571807861,
          1.1661986112594604,
          1.104353666305542,
          1.1971980333328247,
          1.1455320119857788,
          0.9803552031517029,
          1.2178643941879272,
          1.1455320119857788,
          1.0113548040390015,
          1.08368718624115,
          1.08368718624115,
          0.8873565196990967,
          1.0216881036758423,
          1.0010217428207397,
          0.8873565196990967,
          1.052687644958496,
          1.0940203666687012,
          1.08368718624115,
          0.7943578362464905,
          0.8770233988761902,
          0.9596888422966003,
          0.8976897597312927,
          0.815024197101593,
          0.804690957069397,
          0.815024197101593,
          0.7530249953269958,
          0.9390224814414978,
          0.9700220823287964,
          0.7840245962142944,
          0.8253574371337891,
          0.9803552031517029,
          0.8563569188117981,
          1.104353666305542,
          1.2178643941879272,
          1.2385308742523193,
          1.186864972114563,
          0.8770233988761902,
          0.4741830825805664,
          0.05067647248506546,
          -0.19732017815113068,
          -0.8688234686851501,
          -1.2819968461990356,
          -1.6745039224624634,
          -1.829501748085022,
          -1.9431668519973755,
          -2.0256783962249756,
          -2.5008509159088135,
          -1.4678400754928589,
          -2.0360114574432373,
          -2.5008509159088135,
          -2.7695138454437256,
          -1.1683317422866821,
          -2.790180206298828,
          -1.509172797203064,
          -2.8211796283721924,
          -0.7654914855957031,
          -1.7261699438095093,
          -0.7448251843452454,
          -0.8068242073059082,
          -0.8378238081932068,
          -1.509172797203064,
          -1.6331712007522583,
          -1.788169026374817,
          -1.292330026626587,
          -0.9513347148895264,
          -0.5898272395133972,
          -0.8584901690483093,
          -0.6311599612236023,
          -0.20765335857868195,
          0.28818556666374207,
          0.6085146069526672,
          0.7633582353591919,
          0.8253574371337891,
          0.8770233988761902,
          1.0010217428207397,
          1.1250200271606445,
          1.228197693824768,
          1.4245282411575317,
          1.486527442932129,
          1.5381932258605957,
          1.5588598251342773,
          1.5795263051986694,
          1.569192886352539,
          1.5175271034240723,
          1.486527442932129,
          1.4348613023757935,
          1.372862458229065,
          1.3108632564544678,
          1.5381932258605957,
          1.486527442932129,
          1.455527901649475,
          1.3935285806655884,
          1.2695302963256836
         ],
         "yaxis": "y"
        },
        {
         "line": {
          "color": "blue"
         },
         "mode": "lines",
         "name": "Model",
         "showlegend": true,
         "type": "scatter",
         "x": [
          0,
          1,
          2,
          3,
          4,
          5,
          6,
          7,
          8,
          9,
          10,
          11,
          12,
          13,
          14,
          15,
          16,
          17,
          18,
          19,
          20,
          21,
          22,
          23,
          24,
          25,
          26,
          27,
          28,
          29,
          30,
          31,
          32,
          33,
          34,
          35,
          36,
          37,
          38,
          39,
          40,
          41,
          42,
          43,
          44,
          45,
          46,
          47,
          48,
          49,
          50,
          51,
          52,
          53,
          54,
          55,
          56,
          57,
          58,
          59,
          60,
          61,
          62,
          63,
          64,
          65,
          66,
          67,
          68,
          69,
          70,
          71,
          72,
          73,
          74,
          75,
          76,
          77,
          78,
          79,
          80,
          81,
          82,
          83,
          84,
          85,
          86,
          87,
          88,
          89,
          90,
          91,
          92,
          93,
          94,
          95
         ],
         "xaxis": "x",
         "y": [
          1.5778782367706299,
          1.5631496906280518,
          1.531700611114502,
          1.4868865013122559,
          1.4278473854064941,
          1.3857438564300537,
          1.284313440322876,
          1.283874750137329,
          1.192710041999817,
          1.1944868564605713,
          1.1474510431289673,
          1.1499111652374268,
          1.190003514289856,
          1.1167336702346802,
          1.1231869459152222,
          1.107994556427002,
          1.0848970413208008,
          1.0741500854492188,
          0.998003363609314,
          0.9937660694122314,
          0.9567057490348816,
          0.9726138114929199,
          0.9786787629127502,
          1.067733645439148,
          1.1106369495391846,
          1.090192198753357,
          1.0465837717056274,
          1.061439037322998,
          0.976116418838501,
          1.1426012516021729,
          0.95041424036026,
          0.9474639892578125,
          0.9768958687782288,
          0.9889697432518005,
          1.0621591806411743,
          1.0161476135253906,
          0.9650971293449402,
          0.9928082227706909,
          0.9445381164550781,
          0.8333997130393982,
          0.7672500610351562,
          0.5931153297424316,
          0.4472862184047699,
          0.1898951530456543,
          -0.03195983171463013,
          -0.09397315979003906,
          -0.19573664665222168,
          -0.27967047691345215,
          -0.3314906358718872,
          -0.5839821100234985,
          -0.6177173852920532,
          -0.7279940843582153,
          -0.8616881370544434,
          -0.9451895952224731,
          -0.9320149421691895,
          -1.0427292585372925,
          -1.067553997039795,
          -1.0316458940505981,
          -0.9629422426223755,
          -0.9866296052932739,
          -0.947725772857666,
          -0.8491487503051758,
          -0.91331946849823,
          -0.7862182855606079,
          -0.6676864624023438,
          -0.6657476425170898,
          -0.5091724395751953,
          -0.4837595224380493,
          -0.3501545190811157,
          -0.3133113384246826,
          -0.05782550573348999,
          0.08132857084274292,
          0.3400835394859314,
          0.4168897569179535,
          0.5537853240966797,
          0.7527079582214355,
          0.8393423557281494,
          0.9294345378875732,
          1.038248062133789,
          1.0960402488708496,
          1.116915225982666,
          1.1415587663650513,
          1.2553333044052124,
          1.1201119422912598,
          1.2059004306793213,
          1.1879690885543823,
          1.1768205165863037,
          1.1191482543945312,
          1.1398781538009644,
          1.0480369329452515,
          0.9719334840774536,
          1.0251514911651611,
          1.0275074243545532,
          0.9935237169265747,
          0.9864927530288696,
          0.9350361824035645
         ],
         "yaxis": "y"
        },
        {
         "line": {
          "color": "red"
         },
         "mode": "lines",
         "name": "Ground truth",
         "showlegend": false,
         "type": "scatter",
         "x": [
          0,
          1,
          2,
          3,
          4,
          5,
          6,
          7,
          8,
          9,
          10,
          11,
          12,
          13,
          14,
          15,
          16,
          17,
          18,
          19,
          20,
          21,
          22,
          23,
          24,
          25,
          26,
          27,
          28,
          29,
          30,
          31,
          32,
          33,
          34,
          35,
          36,
          37,
          38,
          39,
          40,
          41,
          42,
          43,
          44,
          45,
          46,
          47,
          48,
          49,
          50,
          51,
          52,
          53,
          54,
          55,
          56,
          57,
          58,
          59,
          60,
          61,
          62,
          63,
          64,
          65,
          66,
          67,
          68,
          69,
          70,
          71,
          72,
          73,
          74,
          75,
          76,
          77,
          78,
          79,
          80,
          81,
          82,
          83,
          84,
          85,
          86,
          87,
          88,
          89,
          90,
          91,
          92,
          93,
          94,
          95
         ],
         "xaxis": "x2",
         "y": [
          0.7257426381111145,
          1.0180041790008545,
          0.758216142654419,
          0.9205837249755859,
          0.758216142654419,
          0.49842795729637146,
          0.8231632113456726,
          0.8881101608276367,
          0.6283220052719116,
          1.1803717613220215,
          1.1803717613220215,
          0.4659544825553894,
          0.7257426381111145,
          1.1478983163833618,
          0.758216142654419,
          0.6283220052719116,
          0.8881101608276367,
          0.7906895875930786,
          0.49842795729637146,
          1.1154248714447021,
          1.0180041790008545,
          0.40100741386413574,
          0.2711132764816284,
          0.7257426381111145,
          0.6607955694198608,
          0.3685339391231537,
          0.6932690739631653,
          0.5958485007286072,
          0.49842795729637146,
          0.6932690739631653,
          0.6283220052719116,
          0.2711132764816284,
          0.2061663269996643,
          0.6283220052719116,
          0.3685339391231537,
          0.4659544825553894,
          0.7906895875930786,
          0.5633750557899475,
          0.5309014320373535,
          0.8556366562843323,
          0.4334808886051178,
          0.3035868704319,
          0.49842795729637146,
          -0.11856890469789505,
          -0.11856890469789505,
          -0.11856890469789505,
          -0.3129253387451172,
          -0.15104243159294128,
          -0.021148355677723885,
          0.23863980174064636,
          0.2711132764816284,
          0.4659544825553894,
          0.758216142654419,
          0.4334808886051178,
          -0.11856890469789505,
          0.07627218961715698,
          0.10874578356742859,
          0.5633750557899475,
          0.2711132764816284,
          0.011325121857225895,
          0.011325121857225895,
          0.1736927330493927,
          0.1736927330493927,
          0.1736927330493927,
          0.3360603451728821,
          0.2061663269996643,
          0.07627218961715698,
          0.14121925830841064,
          -0.05362183228135109,
          -0.11856890469789505,
          -0.21598944067955017,
          -0.18351590633392334,
          -0.15104243159294128,
          0.04379871487617493,
          -0.021148355677723885,
          -0.08609536290168762,
          -0.08609536290168762,
          0.04379871487617493,
          0.07627218961715698,
          0.2061663269996643,
          0.2061663269996643,
          0.1736927330493927,
          0.3035868704319,
          0.3035868704319,
          0.3035868704319,
          0.3035868704319,
          0.4334808886051178,
          0.2711132764816284,
          0.3360603451728821,
          0.3035868704319,
          -0.11856890469789505,
          0.5309014320373535,
          0.5309014320373535,
          0.7257426381111145,
          0.6932690739631653,
          0.6607955694198608
         ],
         "yaxis": "y2"
        },
        {
         "line": {
          "color": "blue"
         },
         "mode": "lines",
         "name": "Model",
         "showlegend": false,
         "type": "scatter",
         "x": [
          0,
          1,
          2,
          3,
          4,
          5,
          6,
          7,
          8,
          9,
          10,
          11,
          12,
          13,
          14,
          15,
          16,
          17,
          18,
          19,
          20,
          21,
          22,
          23,
          24,
          25,
          26,
          27,
          28,
          29,
          30,
          31,
          32,
          33,
          34,
          35,
          36,
          37,
          38,
          39,
          40,
          41,
          42,
          43,
          44,
          45,
          46,
          47,
          48,
          49,
          50,
          51,
          52,
          53,
          54,
          55,
          56,
          57,
          58,
          59,
          60,
          61,
          62,
          63,
          64,
          65,
          66,
          67,
          68,
          69,
          70,
          71,
          72,
          73,
          74,
          75,
          76,
          77,
          78,
          79,
          80,
          81,
          82,
          83,
          84,
          85,
          86,
          87,
          88,
          89,
          90,
          91,
          92,
          93,
          94,
          95
         ],
         "xaxis": "x2",
         "y": [
          0.7167039513587952,
          0.7311663031578064,
          0.7177606821060181,
          0.7023911476135254,
          0.7070106267929077,
          0.7651745080947876,
          0.7713832855224609,
          0.8244792819023132,
          0.8256866335868835,
          0.8417092561721802,
          0.867138147354126,
          0.7961138486862183,
          0.7919931411743164,
          0.7689008712768555,
          0.7212200164794922,
          0.7360755801200867,
          0.6529529094696045,
          0.5999768972396851,
          0.6198555827140808,
          0.6122273206710815,
          0.5960518717765808,
          0.5581470727920532,
          0.5922456383705139,
          0.5919296741485596,
          0.5861269235610962,
          0.5748389959335327,
          0.5939939618110657,
          0.5464028716087341,
          0.5578238368034363,
          0.5690382122993469,
          0.5071542263031006,
          0.4626975655555725,
          0.4698964059352875,
          0.5138168334960938,
          0.5108401775360107,
          0.5302441120147705,
          0.5763831734657288,
          0.6026759147644043,
          0.6142781376838684,
          0.6650084853172302,
          0.6545742750167847,
          0.5879932045936584,
          0.6156299114227295,
          0.5456924438476562,
          0.5158138871192932,
          0.5310732126235962,
          0.54146409034729,
          0.5245174169540405,
          0.5433826446533203,
          0.5360133647918701,
          0.5695823431015015,
          0.5754541158676147,
          0.504631757736206,
          0.462373286485672,
          0.47553229331970215,
          0.4844213128089905,
          0.4619208574295044,
          0.48130762577056885,
          0.45844846963882446,
          0.5418790578842163,
          0.587732195854187,
          0.5356953144073486,
          0.5569935441017151,
          0.5691388249397278,
          0.5515086650848389,
          0.5545544624328613,
          0.5156842470169067,
          0.4611659049987793,
          0.3983652889728546,
          0.4019550085067749,
          0.34902676939964294,
          0.3672144412994385,
          0.41599738597869873,
          0.4814441204071045,
          0.4256955087184906,
          0.4437605142593384,
          0.46001362800598145,
          0.5084851980209351,
          0.5009382963180542,
          0.5190116167068481,
          0.5514232516288757,
          0.5306766033172607,
          0.5260039567947388,
          0.5234344601631165,
          0.5378090739250183,
          0.5309823155403137,
          0.5583193898200989,
          0.5524455308914185,
          0.577589750289917,
          0.5934800505638123,
          0.5441242456436157,
          0.5681601762771606,
          0.5896342992782593,
          0.6025980114936829,
          0.5729736685752869,
          0.6139121055603027
         ],
         "yaxis": "y2"
        },
        {
         "line": {
          "color": "red"
         },
         "mode": "lines",
         "name": "Ground truth",
         "showlegend": false,
         "type": "scatter",
         "x": [
          0,
          1,
          2,
          3,
          4,
          5,
          6,
          7,
          8,
          9,
          10,
          11,
          12,
          13,
          14,
          15,
          16,
          17,
          18,
          19,
          20,
          21,
          22,
          23,
          24,
          25,
          26,
          27,
          28,
          29,
          30,
          31,
          32,
          33,
          34,
          35,
          36,
          37,
          38,
          39,
          40,
          41,
          42,
          43,
          44,
          45,
          46,
          47,
          48,
          49,
          50,
          51,
          52,
          53,
          54,
          55,
          56,
          57,
          58,
          59,
          60,
          61,
          62,
          63,
          64,
          65,
          66,
          67,
          68,
          69,
          70,
          71,
          72,
          73,
          74,
          75,
          76,
          77,
          78,
          79,
          80,
          81,
          82,
          83,
          84,
          85,
          86,
          87,
          88,
          89,
          90,
          91,
          92,
          93,
          94,
          95
         ],
         "xaxis": "x3",
         "y": [
          1.3494987487792969,
          1.230421543121338,
          1.1453436613082886,
          1.151090145111084,
          1.1055980920791626,
          1.2021687030792236,
          1.1964223384857178,
          1.0942649841308594,
          0.9922673106193542,
          1.2135018110275269,
          1.1793428659439087,
          1.0036003589630127,
          1.0773451328277588,
          1.1964223384857178,
          1.00918710231781,
          1.1055980920791626,
          1.0546791553497314,
          1.00918710231781,
          1.0715988874435425,
          1.0660122632980347,
          1.00918710231781,
          0.7994455099105835,
          0.8050321936607361,
          0.9467753767967224,
          0.8221115469932556,
          0.8163653016090393,
          0.8503644466400146,
          0.8390313386917114,
          0.8276984095573425,
          0.8787769675254822,
          0.8674439191818237,
          0.7539534568786621,
          0.7994455099105835,
          0.9127762913703918,
          0.8050321936607361,
          0.9696012735366821,
          0.9978541135787964,
          1.1113444566726685,
          0.9696012735366821,
          0.6632888913154602,
          0.19815397262573242,
          -0.15349063277244568,
          -0.4315500557422638,
          -1.0157620906829834,
          -1.4580713510513306,
          -1.855207920074463,
          -2.008284091949463,
          -2.1104414463043213,
          -2.155773639678955,
          -2.779731512069702,
          -1.8267953395843506,
          -2.274850845336914,
          -2.6946535110473633,
          -3.023632049560547,
          -1.361660361289978,
          -2.938554048538208,
          -1.6397197246551514,
          -3.063377857208252,
          -0.9022717475891113,
          -2.076442241668701,
          -0.856939435005188,
          -0.8738592267036438,
          -0.9589371085166931,
          -1.6793057918548584,
          -1.7985423803329468,
          -1.9176195859909058,
          -1.4638175964355469,
          -1.066681146621704,
          -0.7150365710258484,
          -1.0837606191635132,
          -0.7605285048484802,
          -0.43713676929473877,
          0.07333049923181534,
          0.3285641372203827,
          0.50446617603302,
          0.5668779015541077,
          0.6122102737426758,
          0.73128741979599,
          0.8107786178588867,
          0.9071894288063049,
          1.0660122632980347,
          1.1453436613082886,
          1.1964223384857178,
          1.2190885543823242,
          1.2588340044021606,
          1.2417546510696411,
          1.2190885543823242,
          1.1964223384857178,
          1.1566767692565918,
          1.1226775646209717,
          1.1000113487243652,
          1.3381656408309937,
          1.3325787782669067,
          1.3325787782669067,
          1.2190885543823242,
          1.1566767692565918
         ],
         "yaxis": "y3"
        },
        {
         "line": {
          "color": "blue"
         },
         "mode": "lines",
         "name": "Model",
         "showlegend": false,
         "type": "scatter",
         "x": [
          0,
          1,
          2,
          3,
          4,
          5,
          6,
          7,
          8,
          9,
          10,
          11,
          12,
          13,
          14,
          15,
          16,
          17,
          18,
          19,
          20,
          21,
          22,
          23,
          24,
          25,
          26,
          27,
          28,
          29,
          30,
          31,
          32,
          33,
          34,
          35,
          36,
          37,
          38,
          39,
          40,
          41,
          42,
          43,
          44,
          45,
          46,
          47,
          48,
          49,
          50,
          51,
          52,
          53,
          54,
          55,
          56,
          57,
          58,
          59,
          60,
          61,
          62,
          63,
          64,
          65,
          66,
          67,
          68,
          69,
          70,
          71,
          72,
          73,
          74,
          75,
          76,
          77,
          78,
          79,
          80,
          81,
          82,
          83,
          84,
          85,
          86,
          87,
          88,
          89,
          90,
          91,
          92,
          93,
          94,
          95
         ],
         "xaxis": "x3",
         "y": [
          1.4604642391204834,
          1.457826852798462,
          1.4328001737594604,
          1.402321457862854,
          1.35248863697052,
          1.326005458831787,
          1.2442312240600586,
          1.2461562156677246,
          1.1605250835418701,
          1.159356713294983,
          1.1068065166473389,
          1.1154978275299072,
          1.155104398727417,
          1.0841975212097168,
          1.1008148193359375,
          1.0961081981658936,
          1.068299651145935,
          1.0499210357666016,
          0.9933867454528809,
          0.9988670349121094,
          0.9451371431350708,
          0.9722304344177246,
          0.9534108638763428,
          1.0570127964019775,
          1.0910913944244385,
          1.0739338397979736,
          1.0093706846237183,
          1.0188416242599487,
          0.9390650987625122,
          1.0969164371490479,
          0.9083795547485352,
          0.884658932685852,
          0.9006032943725586,
          0.894910991191864,
          0.9539570808410645,
          0.8831425905227661,
          0.7881776094436646,
          0.8028069734573364,
          0.7152306437492371,
          0.6028730273246765,
          0.5316770076751709,
          0.34477829933166504,
          0.20531979203224182,
          -0.05973672866821289,
          -0.283622682094574,
          -0.34292352199554443,
          -0.45606929063796997,
          -0.5686033368110657,
          -0.6276056170463562,
          -0.8902485966682434,
          -0.9153199791908264,
          -1.0281741619110107,
          -1.1648569107055664,
          -1.2263059616088867,
          -1.1997239589691162,
          -1.3095674514770508,
          -1.334566354751587,
          -1.3038320541381836,
          -1.230851650238037,
          -1.2433724403381348,
          -1.2181835174560547,
          -1.1063475608825684,
          -1.1529209613800049,
          -0.9937981963157654,
          -0.8921352028846741,
          -0.8665705323219299,
          -0.7224354147911072,
          -0.6972212195396423,
          -0.5584246516227722,
          -0.5184056162834167,
          -0.256499707698822,
          -0.11477595567703247,
          0.12319105863571167,
          0.21173933148384094,
          0.34184712171554565,
          0.5094907879829407,
          0.5955495834350586,
          0.6851321458816528,
          0.7838137149810791,
          0.8527642488479614,
          0.8719867467880249,
          0.8848874568939209,
          0.9926985502243042,
          0.8680750131607056,
          0.9642146825790405,
          0.9463240504264832,
          0.9401679635047913,
          0.9032284021377563,
          0.9256308674812317,
          0.8726192116737366,
          0.797191321849823,
          0.8744306564331055,
          0.8929274082183838,
          0.8606120944023132,
          0.8785504102706909,
          0.8449207544326782
         ],
         "yaxis": "y3"
        },
        {
         "line": {
          "color": "red"
         },
         "mode": "lines",
         "name": "Ground truth",
         "showlegend": false,
         "type": "scatter",
         "x": [
          0,
          1,
          2,
          3,
          4,
          5,
          6,
          7,
          8,
          9,
          10,
          11,
          12,
          13,
          14,
          15,
          16,
          17,
          18,
          19,
          20,
          21,
          22,
          23,
          24,
          25,
          26,
          27,
          28,
          29,
          30,
          31,
          32,
          33,
          34,
          35,
          36,
          37,
          38,
          39,
          40,
          41,
          42,
          43,
          44,
          45,
          46,
          47,
          48,
          49,
          50,
          51,
          52,
          53,
          54,
          55,
          56,
          57,
          58,
          59,
          60,
          61,
          62,
          63,
          64,
          65,
          66,
          67,
          68,
          69,
          70,
          71,
          72,
          73,
          74,
          75,
          76,
          77,
          78,
          79,
          80,
          81,
          82,
          83,
          84,
          85,
          86,
          87,
          88,
          89,
          90,
          91,
          92,
          93,
          94,
          95
         ],
         "xaxis": "x4",
         "y": [
          0.8035568594932556,
          0.4410969614982605,
          0.8416823148727417,
          0.5554732084274292,
          0.727306067943573,
          0.5742674469947815,
          0.8416823148727417,
          0.6891805529594421,
          0.7842256426811218,
          0.9753897786140442,
          1.261598825454712,
          0.4792223572731018,
          0.9179331064224243,
          0.9753897786140442,
          0.727306067943573,
          1.0135151147842407,
          0.8986019492149353,
          0.7461003065109253,
          0.8798076510429382,
          0.8798076510429382,
          0.9372643232345581,
          0.5742674469947815,
          0.231138676404953,
          0.6698495149612427,
          0.5742674469947815,
          0.4598911702632904,
          0.8035568594932556,
          0.4792223572731018,
          0.2692641615867615,
          0.6123928427696228,
          0.6505182981491089,
          0.24993294477462769,
          0.1548878699541092,
          0.7079748511314392,
          0.11676247417926788,
          0.4792223572731018,
          0.6505182981491089,
          0.6123928427696228,
          0.4410969614982605,
          0.6698495149612427,
          0.6123928427696228,
          0.6891805529594421,
          0.727306067943573,
          -0.07440157234668732,
          -0.05507037043571472,
          -0.13132120668888092,
          -0.24623443186283112,
          -0.03627617284655571,
          0.02118043415248394,
          0.1548878699541092,
          0.24993294477462769,
          0.6891805529594421,
          0.6891805529594421,
          0.3455149531364441,
          -0.09319580346345901,
          0.2118074744939804,
          0.3455149531364441,
          1.0516406297683716,
          0.24993294477462769,
          0.1548878699541092,
          0.1930132806301117,
          0.4217657744884491,
          0.364309161901474,
          0.231138676404953,
          0.07810007035732269,
          0.3836403489112854,
          0.1930132806301117,
          0.2118074744939804,
          0.03997466713190079,
          0.001849231543019414,
          -0.13132120668888092,
          -0.15065240859985352,
          -0.15065240859985352,
          -0.09319580346345901,
          -0.11252700537443161,
          -0.13132120668888092,
          -0.2081090211868286,
          -0.15065240859985352,
          -0.13132120668888092,
          0.001849231543019414,
          0.02118043415248394,
          0.11676247417926788,
          0.1548878699541092,
          0.03997466713190079,
          0.1736820787191391,
          0.1548878699541092,
          0.11676247417926788,
          0.1736820787191391,
          0.11676247417926788,
          0.11676247417926788,
          -0.22690322995185852,
          0.4410969614982605,
          0.6317240595817566,
          0.8986019492149353,
          0.5361420512199402,
          0.7079748511314392
         ],
         "yaxis": "y4"
        },
        {
         "line": {
          "color": "blue"
         },
         "mode": "lines",
         "name": "Model",
         "showlegend": false,
         "type": "scatter",
         "x": [
          0,
          1,
          2,
          3,
          4,
          5,
          6,
          7,
          8,
          9,
          10,
          11,
          12,
          13,
          14,
          15,
          16,
          17,
          18,
          19,
          20,
          21,
          22,
          23,
          24,
          25,
          26,
          27,
          28,
          29,
          30,
          31,
          32,
          33,
          34,
          35,
          36,
          37,
          38,
          39,
          40,
          41,
          42,
          43,
          44,
          45,
          46,
          47,
          48,
          49,
          50,
          51,
          52,
          53,
          54,
          55,
          56,
          57,
          58,
          59,
          60,
          61,
          62,
          63,
          64,
          65,
          66,
          67,
          68,
          69,
          70,
          71,
          72,
          73,
          74,
          75,
          76,
          77,
          78,
          79,
          80,
          81,
          82,
          83,
          84,
          85,
          86,
          87,
          88,
          89,
          90,
          91,
          92,
          93,
          94,
          95
         ],
         "xaxis": "x4",
         "y": [
          0.5801026821136475,
          0.6214630007743835,
          0.6152744889259338,
          0.6008164882659912,
          0.6111794710159302,
          0.6651608347892761,
          0.6710218191146851,
          0.6967504024505615,
          0.6898412704467773,
          0.7222959995269775,
          0.7208186388015747,
          0.7061266303062439,
          0.7041987180709839,
          0.698800802230835,
          0.6858164072036743,
          0.7060947418212891,
          0.6633564233779907,
          0.6243749856948853,
          0.6333427429199219,
          0.6109610795974731,
          0.6018490791320801,
          0.5683704614639282,
          0.5608558058738708,
          0.5631595849990845,
          0.5691086649894714,
          0.5618360042572021,
          0.5911128520965576,
          0.5569916367530823,
          0.5819473266601562,
          0.5745494365692139,
          0.5173313617706299,
          0.5080403089523315,
          0.48306137323379517,
          0.542243480682373,
          0.5123755931854248,
          0.5340390205383301,
          0.5234518051147461,
          0.5827720761299133,
          0.570354163646698,
          0.6149941682815552,
          0.6132171154022217,
          0.5560926795005798,
          0.5910888314247131,
          0.5549871921539307,
          0.5290787220001221,
          0.49769356846809387,
          0.5278417468070984,
          0.5193324685096741,
          0.5499731302261353,
          0.5341580510139465,
          0.5458565950393677,
          0.5415072441101074,
          0.5155521035194397,
          0.46415266394615173,
          0.4967765808105469,
          0.4547116160392761,
          0.4496990144252777,
          0.46496447920799255,
          0.4561014175415039,
          0.49811339378356934,
          0.5478814840316772,
          0.4924089312553406,
          0.5159635543823242,
          0.5330297946929932,
          0.5197830200195312,
          0.49461910128593445,
          0.4606130123138428,
          0.37659260630607605,
          0.37085485458374023,
          0.3624940812587738,
          0.3200289309024811,
          0.3541276454925537,
          0.37894386053085327,
          0.4151492714881897,
          0.3432334065437317,
          0.3245048224925995,
          0.3406042456626892,
          0.3710773289203644,
          0.35531163215637207,
          0.3587082326412201,
          0.3530510365962982,
          0.36860817670822144,
          0.34766972064971924,
          0.37603533267974854,
          0.40747979283332825,
          0.39745619893074036,
          0.4200010895729065,
          0.4369918704032898,
          0.41155505180358887,
          0.4772206246852875,
          0.45766881108283997,
          0.46791306138038635,
          0.5261368155479431,
          0.515660285949707,
          0.53997403383255,
          0.5511369109153748
         ],
         "yaxis": "y4"
        },
        {
         "line": {
          "color": "red"
         },
         "mode": "lines",
         "name": "Ground truth",
         "showlegend": false,
         "type": "scatter",
         "x": [
          0,
          1,
          2,
          3,
          4,
          5,
          6,
          7,
          8,
          9,
          10,
          11,
          12,
          13,
          14,
          15,
          16,
          17,
          18,
          19,
          20,
          21,
          22,
          23,
          24,
          25,
          26,
          27,
          28,
          29,
          30,
          31,
          32,
          33,
          34,
          35,
          36,
          37,
          38,
          39,
          40,
          41,
          42,
          43,
          44,
          45,
          46,
          47,
          48,
          49,
          50,
          51,
          52,
          53,
          54,
          55,
          56,
          57,
          58,
          59,
          60,
          61,
          62,
          63,
          64,
          65,
          66,
          67,
          68,
          69,
          70,
          71,
          72,
          73,
          74,
          75,
          76,
          77,
          78,
          79,
          80,
          81,
          82,
          83,
          84,
          85,
          86,
          87,
          88,
          89,
          90,
          91,
          92,
          93,
          94,
          95
         ],
         "xaxis": "x5",
         "y": [
          0.9466305375099182,
          0.894953191280365,
          0.7145056128501892,
          0.5857356190681458,
          0.4044407308101654,
          0.3273482620716095,
          0.22399334609508514,
          0.27567070722579956,
          0.017283549532294273,
          -0.0598091222345829,
          -0.03354689106345177,
          -0.11148667335510254,
          -0.2148415744304657,
          -0.2919340431690216,
          -0.31819647550582886,
          -0.2919340431690216,
          -0.34361159801483154,
          0.06896089762449265,
          -0.11148667335510254,
          -0.18857914209365845,
          0.0952233299612999,
          0.017283549532294273,
          0.12063845247030258,
          0.14690068364143372,
          0.14690068364143372,
          0.06896089762449265,
          0.14690068364143372,
          0.06896089762449265,
          -0.03354689106345177,
          0.0952233299612999,
          0.1723158061504364,
          0.3273482620716095,
          0.3273482620716095,
          0.5594731569290161,
          0.5340580344200134,
          0.8432756662368774,
          1.1270779371261597,
          1.3854655027389526,
          1.3337876796722412,
          1.3075257539749146,
          1.282110333442688,
          1.1016629934310913,
          0.9466305375099182,
          0.869537889957428,
          0.5857356190681458,
          0.4044407308101654,
          0.45611828565597534,
          0.43070316314697266,
          0.5857356190681458,
          0.8178605437278748,
          1.0754005908966064,
          0.8432756662368774,
          0.6628280878067017,
          0.6882432103157043,
          0.6111507415771484,
          0.3527633845806122,
          0.6882432103157043,
          0.6365658640861511,
          0.6628280878067017,
          0.7399207353591919,
          0.6628280878067017,
          0.5077958106994629,
          0.4823805093765259,
          0.3790256083011627,
          0.3790256083011627,
          0.43070316314697266,
          0.4044407308101654,
          0.5077958106994629,
          0.5857356190681458,
          0.6628280878067017,
          0.7915980815887451,
          1.1016629934310913,
          1.282110333442688,
          1.540497899055481,
          1.488820195198059,
          1.488820195198059,
          1.514235496520996,
          1.6430054903030396,
          1.9268079996109009,
          1.978485345840454,
          2.0047478675842285,
          2.056425094604492,
          2.0818405151367188,
          2.056425094604492,
          1.978485345840454,
          1.9268079996109009,
          1.9268079996109009,
          1.8497153520584106,
          1.7209453582763672,
          1.5913281440734863,
          1.3592031002044678,
          1.282110333442688,
          1.1787556409835815,
          0.9983078837394714,
          0.9983078837394714,
          0.7915980815887451
         ],
         "yaxis": "y5"
        },
        {
         "line": {
          "color": "blue"
         },
         "mode": "lines",
         "name": "Model",
         "showlegend": false,
         "type": "scatter",
         "x": [
          0,
          1,
          2,
          3,
          4,
          5,
          6,
          7,
          8,
          9,
          10,
          11,
          12,
          13,
          14,
          15,
          16,
          17,
          18,
          19,
          20,
          21,
          22,
          23,
          24,
          25,
          26,
          27,
          28,
          29,
          30,
          31,
          32,
          33,
          34,
          35,
          36,
          37,
          38,
          39,
          40,
          41,
          42,
          43,
          44,
          45,
          46,
          47,
          48,
          49,
          50,
          51,
          52,
          53,
          54,
          55,
          56,
          57,
          58,
          59,
          60,
          61,
          62,
          63,
          64,
          65,
          66,
          67,
          68,
          69,
          70,
          71,
          72,
          73,
          74,
          75,
          76,
          77,
          78,
          79,
          80,
          81,
          82,
          83,
          84,
          85,
          86,
          87,
          88,
          89,
          90,
          91,
          92,
          93,
          94,
          95
         ],
         "xaxis": "x5",
         "y": [
          1.0821800231933594,
          1.0035834312438965,
          0.910630464553833,
          0.8100907802581787,
          0.7270222902297974,
          0.623723030090332,
          0.519981861114502,
          0.5027015209197998,
          0.3887566924095154,
          0.33552634716033936,
          0.28486359119415283,
          0.21260449290275574,
          0.16355374455451965,
          0.12304413318634033,
          0.05531233549118042,
          0.023185670375823975,
          -0.06318414211273193,
          -0.0746496319770813,
          -0.14447683095932007,
          -0.18602979183197021,
          -0.20048242807388306,
          -0.22990238666534424,
          -0.22145026922225952,
          -0.21714943647384644,
          -0.23212212324142456,
          -0.15247684717178345,
          -0.18544107675552368,
          -0.11159753799438477,
          -0.17462795972824097,
          -0.09000295400619507,
          -0.08268916606903076,
          -0.012896239757537842,
          0.08636975288391113,
          0.10351234674453735,
          0.2852393388748169,
          0.3306938707828522,
          0.4980089068412781,
          0.6353041529655457,
          0.6742619276046753,
          0.7486981153488159,
          0.8110402226448059,
          0.8281621932983398,
          0.8062136769294739,
          0.6880393624305725,
          0.6190155148506165,
          0.6340979337692261,
          0.6618480086326599,
          0.6716462969779968,
          0.7093334197998047,
          0.6804134845733643,
          0.7575967907905579,
          0.7737127542495728,
          0.7579644918441772,
          0.6622599959373474,
          0.6341256499290466,
          0.5547646880149841,
          0.5070531964302063,
          0.5207130312919617,
          0.5233833193778992,
          0.4660077691078186,
          0.4323654770851135,
          0.510218620300293,
          0.48223185539245605,
          0.47297403216362,
          0.44243520498275757,
          0.460426390171051,
          0.44121915102005005,
          0.4812563359737396,
          0.4649866819381714,
          0.48019176721572876,
          0.5418875217437744,
          0.6124215126037598,
          0.6778451204299927,
          0.7682749032974243,
          0.8544952273368835,
          0.9455229043960571,
          0.9863187074661255,
          1.029711127281189,
          1.038365125656128,
          1.1139347553253174,
          1.1644015312194824,
          1.2394917011260986,
          1.2654242515563965,
          1.1985626220703125,
          1.2042627334594727,
          1.2248060703277588,
          1.1711115837097168,
          1.0659195184707642,
          0.9987831115722656,
          0.8958914279937744,
          0.7523431181907654,
          0.6868942975997925,
          0.628035843372345,
          0.5152331590652466,
          0.42100071907043457,
          0.35629352927207947
         ],
         "yaxis": "y5"
        },
        {
         "line": {
          "color": "red"
         },
         "mode": "lines",
         "name": "Ground truth",
         "showlegend": false,
         "type": "scatter",
         "x": [
          0,
          1,
          2,
          3,
          4,
          5,
          6,
          7,
          8,
          9,
          10,
          11,
          12,
          13,
          14,
          15,
          16,
          17,
          18,
          19,
          20,
          21,
          22,
          23,
          24,
          25,
          26,
          27,
          28,
          29,
          30,
          31,
          32,
          33,
          34,
          35,
          36,
          37,
          38,
          39,
          40,
          41,
          42,
          43,
          44,
          45,
          46,
          47,
          48,
          49,
          50,
          51,
          52,
          53,
          54,
          55,
          56,
          57,
          58,
          59,
          60,
          61,
          62,
          63,
          64,
          65,
          66,
          67,
          68,
          69,
          70,
          71,
          72,
          73,
          74,
          75,
          76,
          77,
          78,
          79,
          80,
          81,
          82,
          83,
          84,
          85,
          86,
          87,
          88,
          89,
          90,
          91,
          92,
          93,
          94,
          95
         ],
         "xaxis": "x6",
         "y": [
          -0.12460971623659134,
          -0.07740803062915802,
          -0.07740803062915802,
          -0.07740803062915802,
          -0.17181150615215302,
          -0.12460971623659134,
          -0.17181150615215302,
          -0.07740803062915802,
          -0.3637651801109314,
          -0.3637651801109314,
          -0.3637651801109314,
          -0.3637651801109314,
          -0.3637651801109314,
          -0.3637651801109314,
          -0.41254034638404846,
          -0.41254034638404846,
          -0.3637651801109314,
          -0.07740803062915802,
          -0.12460971623659134,
          -0.22058655321598053,
          -0.12460971623659134,
          -0.12460971623659134,
          -0.0286328736692667,
          0.01856890879571438,
          0.01856890879571438,
          -0.07740803062915802,
          -0.12460971623659134,
          -0.12460971623659134,
          -0.17181150615215302,
          -0.17181150615215302,
          -0.12460971623659134,
          -0.12460971623659134,
          -0.12460971623659134,
          -0.3165633976459503,
          -0.17181150615215302,
          -0.12460971623659134,
          -0.07740803062915802,
          0.06734396517276764,
          -0.0286328736692667,
          0.06734396517276764,
          0.06734396517276764,
          0.11454575508832932,
          0.06734396517276764,
          0.11454575508832932,
          0.2105225920677185,
          0.06734396517276764,
          0.06734396517276764,
          0.06734396517276764,
          0.3064994513988495,
          0.25929775834083557,
          0.4984531104564667,
          0.06734396517276764,
          -0.0286328736692667,
          0.06734396517276764,
          0.01856890879571438,
          0.06734396517276764,
          -0.17181150615215302,
          -0.07740803062915802,
          0.45125144720077515,
          0.01856890879571438,
          0.11454575508832932,
          -0.07740803062915802,
          -0.07740803062915802,
          -0.0286328736692667,
          0.11454575508832932,
          0.11454575508832932,
          0.16332080960273743,
          0.2105225920677185,
          0.2105225920677185,
          0.2105225920677185,
          0.2105225920677185,
          0.3064994513988495,
          0.16332080960273743,
          0.3064994513988495,
          0.06734396517276764,
          0.16332080960273743,
          0.11454575508832932,
          0.06734396517276764,
          0.16332080960273743,
          0.4024762809276581,
          0.01856890879571438,
          -0.3165633976459503,
          -0.2677883505821228,
          -0.3165633976459503,
          -0.5085172057151794,
          -0.4597420394420624,
          -0.41254034638404846,
          -0.2677883505821228,
          -0.3165633976459503,
          -0.3637651801109314,
          -0.4597420394420624,
          -0.41254034638404846,
          -0.41254034638404846,
          -0.4597420394420624,
          -0.3165633976459503,
          -0.3165633976459503
         ],
         "yaxis": "y6"
        },
        {
         "line": {
          "color": "blue"
         },
         "mode": "lines",
         "name": "Model",
         "showlegend": false,
         "type": "scatter",
         "x": [
          0,
          1,
          2,
          3,
          4,
          5,
          6,
          7,
          8,
          9,
          10,
          11,
          12,
          13,
          14,
          15,
          16,
          17,
          18,
          19,
          20,
          21,
          22,
          23,
          24,
          25,
          26,
          27,
          28,
          29,
          30,
          31,
          32,
          33,
          34,
          35,
          36,
          37,
          38,
          39,
          40,
          41,
          42,
          43,
          44,
          45,
          46,
          47,
          48,
          49,
          50,
          51,
          52,
          53,
          54,
          55,
          56,
          57,
          58,
          59,
          60,
          61,
          62,
          63,
          64,
          65,
          66,
          67,
          68,
          69,
          70,
          71,
          72,
          73,
          74,
          75,
          76,
          77,
          78,
          79,
          80,
          81,
          82,
          83,
          84,
          85,
          86,
          87,
          88,
          89,
          90,
          91,
          92,
          93,
          94,
          95
         ],
         "xaxis": "x6",
         "y": [
          -0.1612498015165329,
          -0.18659231066703796,
          -0.21203839778900146,
          -0.2300732433795929,
          -0.2444477677345276,
          -0.24579110741615295,
          -0.24999986588954926,
          -0.2390366941690445,
          -0.24435573816299438,
          -0.2310304194688797,
          -0.2439431995153427,
          -0.2663079500198364,
          -0.2674354910850525,
          -0.27713918685913086,
          -0.2699112296104431,
          -0.2752172648906708,
          -0.31414690613746643,
          -0.30952322483062744,
          -0.3137017488479614,
          -0.3221933841705322,
          -0.3313070237636566,
          -0.33235687017440796,
          -0.3265344500541687,
          -0.31994810700416565,
          -0.33807042241096497,
          -0.306362122297287,
          -0.3144095540046692,
          -0.29106786847114563,
          -0.30925366282463074,
          -0.2949429452419281,
          -0.29922035336494446,
          -0.30030545592308044,
          -0.29553961753845215,
          -0.3137982487678528,
          -0.28762611746788025,
          -0.2855791747570038,
          -0.2723834812641144,
          -0.24947237968444824,
          -0.24507680535316467,
          -0.2207537442445755,
          -0.2371423840522766,
          -0.23207463324069977,
          -0.24448144435882568,
          -0.23506510257720947,
          -0.22510755062103271,
          -0.21987007558345795,
          -0.2215672731399536,
          -0.23066188395023346,
          -0.20940615236759186,
          -0.22343280911445618,
          -0.18636058270931244,
          -0.18529899418354034,
          -0.1604577749967575,
          -0.19262173771858215,
          -0.1565534621477127,
          -0.16373895108699799,
          -0.11936518549919128,
          -0.1224183589220047,
          -0.08751867711544037,
          -0.07688955962657928,
          -0.06442658603191376,
          -0.08789335191249847,
          -0.0837097316980362,
          -0.05991896986961365,
          -0.0535125732421875,
          -0.05998992919921875,
          -0.04410421848297119,
          -0.029180526733398438,
          -0.03679397702217102,
          -0.06133025884628296,
          -0.08754517138004303,
          -0.07235531508922577,
          -0.04994606971740723,
          -0.047698408365249634,
          -0.05039548873901367,
          -0.04828369617462158,
          -0.020471513271331787,
          -0.03188043832778931,
          -0.02016514539718628,
          -0.02296626567840576,
          -0.00617671012878418,
          -0.009631186723709106,
          -0.03959000110626221,
          -0.06478710472583771,
          -0.07302896678447723,
          -0.07505105435848236,
          -0.06666229665279388,
          -0.06724540889263153,
          -0.035723716020584106,
          -0.05483272671699524,
          -0.08036962151527405,
          -0.08498065173625946,
          -0.11078028380870819,
          -0.1415684074163437,
          -0.16908343136310577,
          -0.18068942427635193
         ],
         "yaxis": "y6"
        },
        {
         "line": {
          "color": "red"
         },
         "mode": "lines",
         "name": "Ground truth",
         "showlegend": false,
         "type": "scatter",
         "x": [
          0,
          1,
          2,
          3,
          4,
          5,
          6,
          7,
          8,
          9,
          10,
          11,
          12,
          13,
          14,
          15,
          16,
          17,
          18,
          19,
          20,
          21,
          22,
          23,
          24,
          25,
          26,
          27,
          28,
          29,
          30,
          31,
          32,
          33,
          34,
          35,
          36,
          37,
          38,
          39,
          40,
          41,
          42,
          43,
          44,
          45,
          46,
          47,
          48,
          49,
          50,
          51,
          52,
          53,
          54,
          55,
          56,
          57,
          58,
          59,
          60,
          61,
          62,
          63,
          64,
          65,
          66,
          67,
          68,
          69,
          70,
          71,
          72,
          73,
          74,
          75,
          76,
          77,
          78,
          79,
          80,
          81,
          82,
          83,
          84,
          85,
          86,
          87,
          88,
          89,
          90,
          91,
          92,
          93,
          94,
          95
         ],
         "xaxis": "x7",
         "y": [
          -1.2104452848434448,
          -1.2104452848434448,
          -1.2183719873428345,
          -1.234338402748108,
          -1.2183719873428345,
          -1.234338402748108,
          -1.274084448814392,
          -1.250191569328308,
          -1.250191569328308,
          -1.2104452848434448,
          -1.2183719873428345,
          -1.1864391565322876,
          -1.1705859899520874,
          -1.1705859899520874,
          -1.154619574546814,
          -1.154619574546814,
          -1.162546157836914,
          -1.1785125732421875,
          -1.1944791078567505,
          -1.202405571937561,
          -1.1944791078567505,
          -1.1864391565322876,
          -1.1944791078567505,
          -1.2183719873428345,
          -1.2422648668289185,
          -1.234338402748108,
          -1.250191569328308,
          -1.2422648668289185,
          -1.2262985706329346,
          -1.2183719873428345,
          -1.2104452848434448,
          -1.234338402748108,
          -1.2582314014434814,
          -1.234338402748108,
          -1.274084448814392,
          -1.2582314014434814,
          -1.2821242809295654,
          -1.2582314014434814,
          -1.274084448814392,
          -1.2422648668289185,
          -1.250191569328308,
          -1.234338402748108,
          -1.1944791078567505,
          -1.1785125732421875,
          -1.2262985706329346,
          -1.2582314014434814,
          -1.2661579847335815,
          -1.2979775667190552,
          -1.313943862915039,
          -1.313943862915039,
          -1.250191569328308,
          -1.2183719873428345,
          -1.290050983428955,
          -1.274084448814392,
          -1.274084448814392,
          -1.274084448814392,
          -1.2582314014434814,
          -1.313943862915039,
          -1.313943862915039,
          -1.290050983428955,
          -1.313943862915039,
          -1.3538033962249756,
          -1.3299102783203125,
          -1.3060173988342285,
          -1.3218705654144287,
          -1.234338402748108,
          -1.2582314014434814,
          -1.2422648668289185,
          -1.274084448814392,
          -1.250191569328308,
          -1.250191569328308,
          -1.3060173988342285,
          -1.274084448814392,
          -1.2979775667190552,
          -1.3060173988342285,
          -1.2821242809295654,
          -1.3060173988342285,
          -1.313943862915039,
          -1.3696564435958862,
          -1.4175556898117065,
          -1.4732682704925537,
          -1.44144868850708,
          -1.4732682704925537,
          -1.4493752717971802,
          -1.4732682704925537,
          -1.4573018550872803,
          -1.4653416872024536,
          -1.4653416872024536,
          -1.44144868850708,
          -1.4573018550872803,
          -1.4175556898117065,
          -1.401589274406433,
          -1.4334088563919067,
          -1.4493752717971802,
          -1.4493752717971802,
          -1.393662691116333
         ],
         "yaxis": "y7"
        },
        {
         "line": {
          "color": "blue"
         },
         "mode": "lines",
         "name": "Model",
         "showlegend": false,
         "type": "scatter",
         "x": [
          0,
          1,
          2,
          3,
          4,
          5,
          6,
          7,
          8,
          9,
          10,
          11,
          12,
          13,
          14,
          15,
          16,
          17,
          18,
          19,
          20,
          21,
          22,
          23,
          24,
          25,
          26,
          27,
          28,
          29,
          30,
          31,
          32,
          33,
          34,
          35,
          36,
          37,
          38,
          39,
          40,
          41,
          42,
          43,
          44,
          45,
          46,
          47,
          48,
          49,
          50,
          51,
          52,
          53,
          54,
          55,
          56,
          57,
          58,
          59,
          60,
          61,
          62,
          63,
          64,
          65,
          66,
          67,
          68,
          69,
          70,
          71,
          72,
          73,
          74,
          75,
          76,
          77,
          78,
          79,
          80,
          81,
          82,
          83,
          84,
          85,
          86,
          87,
          88,
          89,
          90,
          91,
          92,
          93,
          94,
          95
         ],
         "xaxis": "x7",
         "y": [
          -1.236546277999878,
          -1.2404088973999023,
          -1.233764410018921,
          -1.2335772514343262,
          -1.2303327322006226,
          -1.2409719228744507,
          -1.236812710762024,
          -1.2270617485046387,
          -1.2273839712142944,
          -1.2276649475097656,
          -1.231549859046936,
          -1.2344202995300293,
          -1.2368439435958862,
          -1.2274668216705322,
          -1.2118369340896606,
          -1.2178252935409546,
          -1.2233048677444458,
          -1.2271465063095093,
          -1.218630075454712,
          -1.2298028469085693,
          -1.222872018814087,
          -1.2279425859451294,
          -1.2283457517623901,
          -1.2285435199737549,
          -1.2430089712142944,
          -1.2464591264724731,
          -1.2493209838867188,
          -1.250207781791687,
          -1.2442723512649536,
          -1.2424366474151611,
          -1.2462338209152222,
          -1.2462040185928345,
          -1.2633869647979736,
          -1.272294282913208,
          -1.273978590965271,
          -1.272732138633728,
          -1.2741159200668335,
          -1.2708899974822998,
          -1.272969126701355,
          -1.2718664407730103,
          -1.2643048763275146,
          -1.2646509408950806,
          -1.2536253929138184,
          -1.2498503923416138,
          -1.2560760974884033,
          -1.2500540018081665,
          -1.238270878791809,
          -1.2362022399902344,
          -1.2320611476898193,
          -1.2274442911148071,
          -1.230767011642456,
          -1.2438106536865234,
          -1.2487435340881348,
          -1.2491400241851807,
          -1.2602355480194092,
          -1.2560560703277588,
          -1.2463761568069458,
          -1.2473427057266235,
          -1.2425202131271362,
          -1.2219619750976562,
          -1.215988039970398,
          -1.226710319519043,
          -1.2245038747787476,
          -1.2141128778457642,
          -1.2188646793365479,
          -1.2370188236236572,
          -1.2419275045394897,
          -1.2483230829238892,
          -1.2588331699371338,
          -1.2705634832382202,
          -1.2887065410614014,
          -1.292167067527771,
          -1.292608380317688,
          -1.2720074653625488,
          -1.2706586122512817,
          -1.267513394355774,
          -1.2795053720474243,
          -1.2848114967346191,
          -1.2802789211273193,
          -1.275007724761963,
          -1.279559850692749,
          -1.2764537334442139,
          -1.2760175466537476,
          -1.2711374759674072,
          -1.265362024307251,
          -1.2770568132400513,
          -1.2823108434677124,
          -1.268004059791565,
          -1.2618541717529297,
          -1.2580686807632446,
          -1.272308588027954,
          -1.269134521484375,
          -1.2876490354537964,
          -1.2855567932128906,
          -1.2751492261886597,
          -1.2839807271957397
         ],
         "yaxis": "y7"
        }
       ],
       "layout": {
        "annotations": [
         {
          "font": {
           "size": 16
          },
          "showarrow": false,
          "text": "Feature 0",
          "x": 0.14444444444444446,
          "xanchor": "center",
          "xref": "paper",
          "y": 1,
          "yanchor": "bottom",
          "yref": "paper"
         },
         {
          "font": {
           "size": 16
          },
          "showarrow": false,
          "text": "Feature 1",
          "x": 0.5,
          "xanchor": "center",
          "xref": "paper",
          "y": 1,
          "yanchor": "bottom",
          "yref": "paper"
         },
         {
          "font": {
           "size": 16
          },
          "showarrow": false,
          "text": "Feature 2",
          "x": 0.8555555555555556,
          "xanchor": "center",
          "xref": "paper",
          "y": 1,
          "yanchor": "bottom",
          "yref": "paper"
         },
         {
          "font": {
           "size": 16
          },
          "showarrow": false,
          "text": "Feature 3",
          "x": 0.14444444444444446,
          "xanchor": "center",
          "xref": "paper",
          "y": 0.6111111111111112,
          "yanchor": "bottom",
          "yref": "paper"
         },
         {
          "font": {
           "size": 16
          },
          "showarrow": false,
          "text": "Feature 4",
          "x": 0.5,
          "xanchor": "center",
          "xref": "paper",
          "y": 0.6111111111111112,
          "yanchor": "bottom",
          "yref": "paper"
         },
         {
          "font": {
           "size": 16
          },
          "showarrow": false,
          "text": "Feature 5",
          "x": 0.8555555555555556,
          "xanchor": "center",
          "xref": "paper",
          "y": 0.6111111111111112,
          "yanchor": "bottom",
          "yref": "paper"
         },
         {
          "font": {
           "size": 16
          },
          "showarrow": false,
          "text": "Feature 6",
          "x": 0.14444444444444446,
          "xanchor": "center",
          "xref": "paper",
          "y": 0.22222222222222224,
          "yanchor": "bottom",
          "yref": "paper"
         }
        ],
        "font": {
         "size": 18
        },
        "height": 900,
        "template": {
         "data": {
          "bar": [
           {
            "error_x": {
             "color": "#2a3f5f"
            },
            "error_y": {
             "color": "#2a3f5f"
            },
            "marker": {
             "line": {
              "color": "#E5ECF6",
              "width": 0.5
             },
             "pattern": {
              "fillmode": "overlay",
              "size": 10,
              "solidity": 0.2
             }
            },
            "type": "bar"
           }
          ],
          "barpolar": [
           {
            "marker": {
             "line": {
              "color": "#E5ECF6",
              "width": 0.5
             },
             "pattern": {
              "fillmode": "overlay",
              "size": 10,
              "solidity": 0.2
             }
            },
            "type": "barpolar"
           }
          ],
          "carpet": [
           {
            "aaxis": {
             "endlinecolor": "#2a3f5f",
             "gridcolor": "white",
             "linecolor": "white",
             "minorgridcolor": "white",
             "startlinecolor": "#2a3f5f"
            },
            "baxis": {
             "endlinecolor": "#2a3f5f",
             "gridcolor": "white",
             "linecolor": "white",
             "minorgridcolor": "white",
             "startlinecolor": "#2a3f5f"
            },
            "type": "carpet"
           }
          ],
          "choropleth": [
           {
            "colorbar": {
             "outlinewidth": 0,
             "ticks": ""
            },
            "type": "choropleth"
           }
          ],
          "contour": [
           {
            "colorbar": {
             "outlinewidth": 0,
             "ticks": ""
            },
            "colorscale": [
             [
              0,
              "#0d0887"
             ],
             [
              0.1111111111111111,
              "#46039f"
             ],
             [
              0.2222222222222222,
              "#7201a8"
             ],
             [
              0.3333333333333333,
              "#9c179e"
             ],
             [
              0.4444444444444444,
              "#bd3786"
             ],
             [
              0.5555555555555556,
              "#d8576b"
             ],
             [
              0.6666666666666666,
              "#ed7953"
             ],
             [
              0.7777777777777778,
              "#fb9f3a"
             ],
             [
              0.8888888888888888,
              "#fdca26"
             ],
             [
              1,
              "#f0f921"
             ]
            ],
            "type": "contour"
           }
          ],
          "contourcarpet": [
           {
            "colorbar": {
             "outlinewidth": 0,
             "ticks": ""
            },
            "type": "contourcarpet"
           }
          ],
          "heatmap": [
           {
            "colorbar": {
             "outlinewidth": 0,
             "ticks": ""
            },
            "colorscale": [
             [
              0,
              "#0d0887"
             ],
             [
              0.1111111111111111,
              "#46039f"
             ],
             [
              0.2222222222222222,
              "#7201a8"
             ],
             [
              0.3333333333333333,
              "#9c179e"
             ],
             [
              0.4444444444444444,
              "#bd3786"
             ],
             [
              0.5555555555555556,
              "#d8576b"
             ],
             [
              0.6666666666666666,
              "#ed7953"
             ],
             [
              0.7777777777777778,
              "#fb9f3a"
             ],
             [
              0.8888888888888888,
              "#fdca26"
             ],
             [
              1,
              "#f0f921"
             ]
            ],
            "type": "heatmap"
           }
          ],
          "heatmapgl": [
           {
            "colorbar": {
             "outlinewidth": 0,
             "ticks": ""
            },
            "colorscale": [
             [
              0,
              "#0d0887"
             ],
             [
              0.1111111111111111,
              "#46039f"
             ],
             [
              0.2222222222222222,
              "#7201a8"
             ],
             [
              0.3333333333333333,
              "#9c179e"
             ],
             [
              0.4444444444444444,
              "#bd3786"
             ],
             [
              0.5555555555555556,
              "#d8576b"
             ],
             [
              0.6666666666666666,
              "#ed7953"
             ],
             [
              0.7777777777777778,
              "#fb9f3a"
             ],
             [
              0.8888888888888888,
              "#fdca26"
             ],
             [
              1,
              "#f0f921"
             ]
            ],
            "type": "heatmapgl"
           }
          ],
          "histogram": [
           {
            "marker": {
             "pattern": {
              "fillmode": "overlay",
              "size": 10,
              "solidity": 0.2
             }
            },
            "type": "histogram"
           }
          ],
          "histogram2d": [
           {
            "colorbar": {
             "outlinewidth": 0,
             "ticks": ""
            },
            "colorscale": [
             [
              0,
              "#0d0887"
             ],
             [
              0.1111111111111111,
              "#46039f"
             ],
             [
              0.2222222222222222,
              "#7201a8"
             ],
             [
              0.3333333333333333,
              "#9c179e"
             ],
             [
              0.4444444444444444,
              "#bd3786"
             ],
             [
              0.5555555555555556,
              "#d8576b"
             ],
             [
              0.6666666666666666,
              "#ed7953"
             ],
             [
              0.7777777777777778,
              "#fb9f3a"
             ],
             [
              0.8888888888888888,
              "#fdca26"
             ],
             [
              1,
              "#f0f921"
             ]
            ],
            "type": "histogram2d"
           }
          ],
          "histogram2dcontour": [
           {
            "colorbar": {
             "outlinewidth": 0,
             "ticks": ""
            },
            "colorscale": [
             [
              0,
              "#0d0887"
             ],
             [
              0.1111111111111111,
              "#46039f"
             ],
             [
              0.2222222222222222,
              "#7201a8"
             ],
             [
              0.3333333333333333,
              "#9c179e"
             ],
             [
              0.4444444444444444,
              "#bd3786"
             ],
             [
              0.5555555555555556,
              "#d8576b"
             ],
             [
              0.6666666666666666,
              "#ed7953"
             ],
             [
              0.7777777777777778,
              "#fb9f3a"
             ],
             [
              0.8888888888888888,
              "#fdca26"
             ],
             [
              1,
              "#f0f921"
             ]
            ],
            "type": "histogram2dcontour"
           }
          ],
          "mesh3d": [
           {
            "colorbar": {
             "outlinewidth": 0,
             "ticks": ""
            },
            "type": "mesh3d"
           }
          ],
          "parcoords": [
           {
            "line": {
             "colorbar": {
              "outlinewidth": 0,
              "ticks": ""
             }
            },
            "type": "parcoords"
           }
          ],
          "pie": [
           {
            "automargin": true,
            "type": "pie"
           }
          ],
          "scatter": [
           {
            "fillpattern": {
             "fillmode": "overlay",
             "size": 10,
             "solidity": 0.2
            },
            "type": "scatter"
           }
          ],
          "scatter3d": [
           {
            "line": {
             "colorbar": {
              "outlinewidth": 0,
              "ticks": ""
             }
            },
            "marker": {
             "colorbar": {
              "outlinewidth": 0,
              "ticks": ""
             }
            },
            "type": "scatter3d"
           }
          ],
          "scattercarpet": [
           {
            "marker": {
             "colorbar": {
              "outlinewidth": 0,
              "ticks": ""
             }
            },
            "type": "scattercarpet"
           }
          ],
          "scattergeo": [
           {
            "marker": {
             "colorbar": {
              "outlinewidth": 0,
              "ticks": ""
             }
            },
            "type": "scattergeo"
           }
          ],
          "scattergl": [
           {
            "marker": {
             "colorbar": {
              "outlinewidth": 0,
              "ticks": ""
             }
            },
            "type": "scattergl"
           }
          ],
          "scattermapbox": [
           {
            "marker": {
             "colorbar": {
              "outlinewidth": 0,
              "ticks": ""
             }
            },
            "type": "scattermapbox"
           }
          ],
          "scatterpolar": [
           {
            "marker": {
             "colorbar": {
              "outlinewidth": 0,
              "ticks": ""
             }
            },
            "type": "scatterpolar"
           }
          ],
          "scatterpolargl": [
           {
            "marker": {
             "colorbar": {
              "outlinewidth": 0,
              "ticks": ""
             }
            },
            "type": "scatterpolargl"
           }
          ],
          "scatterternary": [
           {
            "marker": {
             "colorbar": {
              "outlinewidth": 0,
              "ticks": ""
             }
            },
            "type": "scatterternary"
           }
          ],
          "surface": [
           {
            "colorbar": {
             "outlinewidth": 0,
             "ticks": ""
            },
            "colorscale": [
             [
              0,
              "#0d0887"
             ],
             [
              0.1111111111111111,
              "#46039f"
             ],
             [
              0.2222222222222222,
              "#7201a8"
             ],
             [
              0.3333333333333333,
              "#9c179e"
             ],
             [
              0.4444444444444444,
              "#bd3786"
             ],
             [
              0.5555555555555556,
              "#d8576b"
             ],
             [
              0.6666666666666666,
              "#ed7953"
             ],
             [
              0.7777777777777778,
              "#fb9f3a"
             ],
             [
              0.8888888888888888,
              "#fdca26"
             ],
             [
              1,
              "#f0f921"
             ]
            ],
            "type": "surface"
           }
          ],
          "table": [
           {
            "cells": {
             "fill": {
              "color": "#EBF0F8"
             },
             "line": {
              "color": "white"
             }
            },
            "header": {
             "fill": {
              "color": "#C8D4E3"
             },
             "line": {
              "color": "white"
             }
            },
            "type": "table"
           }
          ]
         },
         "layout": {
          "annotationdefaults": {
           "arrowcolor": "#2a3f5f",
           "arrowhead": 0,
           "arrowwidth": 1
          },
          "autotypenumbers": "strict",
          "coloraxis": {
           "colorbar": {
            "outlinewidth": 0,
            "ticks": ""
           }
          },
          "colorscale": {
           "diverging": [
            [
             0,
             "#8e0152"
            ],
            [
             0.1,
             "#c51b7d"
            ],
            [
             0.2,
             "#de77ae"
            ],
            [
             0.3,
             "#f1b6da"
            ],
            [
             0.4,
             "#fde0ef"
            ],
            [
             0.5,
             "#f7f7f7"
            ],
            [
             0.6,
             "#e6f5d0"
            ],
            [
             0.7,
             "#b8e186"
            ],
            [
             0.8,
             "#7fbc41"
            ],
            [
             0.9,
             "#4d9221"
            ],
            [
             1,
             "#276419"
            ]
           ],
           "sequential": [
            [
             0,
             "#0d0887"
            ],
            [
             0.1111111111111111,
             "#46039f"
            ],
            [
             0.2222222222222222,
             "#7201a8"
            ],
            [
             0.3333333333333333,
             "#9c179e"
            ],
            [
             0.4444444444444444,
             "#bd3786"
            ],
            [
             0.5555555555555556,
             "#d8576b"
            ],
            [
             0.6666666666666666,
             "#ed7953"
            ],
            [
             0.7777777777777778,
             "#fb9f3a"
            ],
            [
             0.8888888888888888,
             "#fdca26"
            ],
            [
             1,
             "#f0f921"
            ]
           ],
           "sequentialminus": [
            [
             0,
             "#0d0887"
            ],
            [
             0.1111111111111111,
             "#46039f"
            ],
            [
             0.2222222222222222,
             "#7201a8"
            ],
            [
             0.3333333333333333,
             "#9c179e"
            ],
            [
             0.4444444444444444,
             "#bd3786"
            ],
            [
             0.5555555555555556,
             "#d8576b"
            ],
            [
             0.6666666666666666,
             "#ed7953"
            ],
            [
             0.7777777777777778,
             "#fb9f3a"
            ],
            [
             0.8888888888888888,
             "#fdca26"
            ],
            [
             1,
             "#f0f921"
            ]
           ]
          },
          "colorway": [
           "#636efa",
           "#EF553B",
           "#00cc96",
           "#ab63fa",
           "#FFA15A",
           "#19d3f3",
           "#FF6692",
           "#B6E880",
           "#FF97FF",
           "#FECB52"
          ],
          "font": {
           "color": "#2a3f5f"
          },
          "geo": {
           "bgcolor": "white",
           "lakecolor": "white",
           "landcolor": "#E5ECF6",
           "showlakes": true,
           "showland": true,
           "subunitcolor": "white"
          },
          "hoverlabel": {
           "align": "left"
          },
          "hovermode": "closest",
          "mapbox": {
           "style": "light"
          },
          "paper_bgcolor": "white",
          "plot_bgcolor": "#E5ECF6",
          "polar": {
           "angularaxis": {
            "gridcolor": "white",
            "linecolor": "white",
            "ticks": ""
           },
           "bgcolor": "#E5ECF6",
           "radialaxis": {
            "gridcolor": "white",
            "linecolor": "white",
            "ticks": ""
           }
          },
          "scene": {
           "xaxis": {
            "backgroundcolor": "#E5ECF6",
            "gridcolor": "white",
            "gridwidth": 2,
            "linecolor": "white",
            "showbackground": true,
            "ticks": "",
            "zerolinecolor": "white"
           },
           "yaxis": {
            "backgroundcolor": "#E5ECF6",
            "gridcolor": "white",
            "gridwidth": 2,
            "linecolor": "white",
            "showbackground": true,
            "ticks": "",
            "zerolinecolor": "white"
           },
           "zaxis": {
            "backgroundcolor": "#E5ECF6",
            "gridcolor": "white",
            "gridwidth": 2,
            "linecolor": "white",
            "showbackground": true,
            "ticks": "",
            "zerolinecolor": "white"
           }
          },
          "shapedefaults": {
           "line": {
            "color": "#2a3f5f"
           }
          },
          "ternary": {
           "aaxis": {
            "gridcolor": "white",
            "linecolor": "white",
            "ticks": ""
           },
           "baxis": {
            "gridcolor": "white",
            "linecolor": "white",
            "ticks": ""
           },
           "bgcolor": "#E5ECF6",
           "caxis": {
            "gridcolor": "white",
            "linecolor": "white",
            "ticks": ""
           }
          },
          "title": {
           "x": 0.05
          },
          "xaxis": {
           "automargin": true,
           "gridcolor": "white",
           "linecolor": "white",
           "ticks": "",
           "title": {
            "standoff": 15
           },
           "zerolinecolor": "white",
           "zerolinewidth": 2
          },
          "yaxis": {
           "automargin": true,
           "gridcolor": "white",
           "linecolor": "white",
           "ticks": "",
           "title": {
            "standoff": 15
           },
           "zerolinecolor": "white",
           "zerolinewidth": 2
          }
         }
        },
        "title": {
         "text": "Predictions"
        },
        "width": 1200,
        "xaxis": {
         "anchor": "y",
         "domain": [
          0,
          0.2888888888888889
         ],
         "title": {
          "text": "Time"
         }
        },
        "xaxis2": {
         "anchor": "y2",
         "domain": [
          0.35555555555555557,
          0.6444444444444445
         ]
        },
        "xaxis3": {
         "anchor": "y3",
         "domain": [
          0.7111111111111111,
          1
         ]
        },
        "xaxis4": {
         "anchor": "y4",
         "domain": [
          0,
          0.2888888888888889
         ]
        },
        "xaxis5": {
         "anchor": "y5",
         "domain": [
          0.35555555555555557,
          0.6444444444444445
         ]
        },
        "xaxis6": {
         "anchor": "y6",
         "domain": [
          0.7111111111111111,
          1
         ]
        },
        "xaxis7": {
         "anchor": "y7",
         "domain": [
          0,
          0.2888888888888889
         ]
        },
        "xaxis8": {
         "anchor": "y8",
         "domain": [
          0.35555555555555557,
          0.6444444444444445
         ]
        },
        "xaxis9": {
         "anchor": "y9",
         "domain": [
          0.7111111111111111,
          1
         ]
        },
        "yaxis": {
         "anchor": "x",
         "domain": [
          0.7777777777777778,
          1
         ],
         "title": {
          "text": "Signal"
         }
        },
        "yaxis2": {
         "anchor": "x2",
         "domain": [
          0.7777777777777778,
          1
         ]
        },
        "yaxis3": {
         "anchor": "x3",
         "domain": [
          0.7777777777777778,
          1
         ]
        },
        "yaxis4": {
         "anchor": "x4",
         "domain": [
          0.3888888888888889,
          0.6111111111111112
         ]
        },
        "yaxis5": {
         "anchor": "x5",
         "domain": [
          0.3888888888888889,
          0.6111111111111112
         ]
        },
        "yaxis6": {
         "anchor": "x6",
         "domain": [
          0.3888888888888889,
          0.6111111111111112
         ]
        },
        "yaxis7": {
         "anchor": "x7",
         "domain": [
          0,
          0.22222222222222224
         ]
        },
        "yaxis8": {
         "anchor": "x8",
         "domain": [
          0,
          0.22222222222222224
         ]
        },
        "yaxis9": {
         "anchor": "x9",
         "domain": [
          0,
          0.22222222222222224
         ]
        }
       }
      }
     },
     "metadata": {},
     "output_type": "display_data"
    },
    {
     "ename": "NameError",
     "evalue": "name 'plt' is not defined",
     "output_type": "error",
     "traceback": [
      "\u001b[1;31m---------------------------------------------------------------------------\u001b[0m",
      "\u001b[1;31mNameError\u001b[0m                                 Traceback (most recent call last)",
      "Cell \u001b[1;32mIn[16], line 14\u001b[0m\n\u001b[0;32m     12\u001b[0m data_plt \u001b[38;5;241m=\u001b[39m data[\u001b[38;5;241m0\u001b[39m]\n\u001b[0;32m     13\u001b[0m plot_preds(preds\u001b[38;5;241m=\u001b[39mdata_plt\u001b[38;5;241m.\u001b[39mpred, preds_gt\u001b[38;5;241m=\u001b[39mdata_plt\u001b[38;5;241m.\u001b[39mpred_gt, no_feats_plot\u001b[38;5;241m=\u001b[39mno_feats_plot, fname_save\u001b[38;5;241m=\u001b[39mos\u001b[38;5;241m.\u001b[39mpath\u001b[38;5;241m.\u001b[39mjoin(conf\u001b[38;5;241m.\u001b[39mimage_dir, \u001b[38;5;124m\"\u001b[39m\u001b[38;5;124mpreds.png\u001b[39m\u001b[38;5;124m\"\u001b[39m))\n\u001b[1;32m---> 14\u001b[0m \u001b[43mplt\u001b[49m\u001b[38;5;241m.\u001b[39mclose()\n",
      "\u001b[1;31mNameError\u001b[0m: name 'plt' is not defined"
     ]
    }
   ],
   "source": [
    "no_feats_plot = 7\n",
    "conf_path=\"coeficients.yml\"\n",
    "assert conf_path, \"Must provide a configuration file\"\n",
    "with open(conf_path, \"r\") as f:\n",
    "    conf = TSMixerConf.from_dict(yaml.safe_load(f))\n",
    "\n",
    "conf.initialize = TSMixerConf.Initialize.FROM_BEST_CHECKPOINT\n",
    "conf.device = \"cpu\"\n",
    "tsmixer = TSMixer(conf)\n",
    "\n",
    "data = tsmixer.predict_val_dataset(max_samples=10, save_inputs=False)\n",
    "data_plt = data[0]\n",
    "plot_preds(preds=data_plt.pred, preds_gt=data_plt.pred_gt, no_feats_plot=no_feats_plot, fname_save=os.path.join(conf.image_dir, \"preds.png\"))\n",
    "plt.close()\n"
   ]
  },
  {
   "cell_type": "markdown",
   "metadata": {},
   "source": [
    "As seen from iteractive graph aboove, the tsmixer model seems to capture seasonality and trends of the model, but for a better evaluation lets check the plot of the loss function."
   ]
  },
  {
   "cell_type": "markdown",
   "metadata": {},
   "source": [
    "### Plot the loss function of the model"
   ]
  },
  {
   "cell_type": "code",
   "execution_count": 17,
   "metadata": {},
   "outputs": [
    {
     "name": "stderr",
     "output_type": "stream",
     "text": [
      "\u001b[32m2024-01-27 00:48:50.166\u001b[0m | \u001b[1mINFO    \u001b[0m | \u001b[36mutils.plotting\u001b[0m:\u001b[36mplot_loss\u001b[0m:\u001b[36m93\u001b[0m - \u001b[1mSaved plot to output.etdataset\\images\\loss.png\u001b[0m\n"
     ]
    },
    {
     "data": {
      "application/vnd.plotly.v1+json": {
       "config": {
        "plotlyServerURL": "https://plot.ly"
       },
       "data": [
        {
         "mode": "lines",
         "name": "Val. loss",
         "type": "scatter",
         "x": [
          0,
          1,
          2,
          3,
          4,
          5,
          6,
          7,
          8,
          9,
          10,
          11,
          12
         ],
         "y": [
          0.326053363305551,
          0.3136840017719401,
          0.3121915767314257,
          0.308376247132266,
          0.3068987455357004,
          0.3056972679440622,
          0.3053315087325043,
          0.3040558319124911,
          0.30591697639061344,
          0.3057611594321551,
          0.3062660053924278,
          0.3079534381352089,
          0.310281276150986
         ]
        },
        {
         "mode": "lines",
         "name": "Train loss",
         "type": "scatter",
         "x": [
          0,
          1,
          2,
          3,
          4,
          5,
          6,
          7,
          8,
          9,
          10,
          11,
          12
         ],
         "y": [
          0.3112641037096856,
          0.2574553207356345,
          0.24310216519774663,
          0.23412890044144458,
          0.22722438602121892,
          0.22168416126320759,
          0.21676640300494102,
          0.21278408130078955,
          0.20879512430272168,
          0.20548649351285012,
          0.2024623457411373,
          0.19965783989539854,
          0.19681057159754414
         ]
        }
       ],
       "layout": {
        "font": {
         "size": 18
        },
        "height": 500,
        "template": {
         "data": {
          "bar": [
           {
            "error_x": {
             "color": "#2a3f5f"
            },
            "error_y": {
             "color": "#2a3f5f"
            },
            "marker": {
             "line": {
              "color": "#E5ECF6",
              "width": 0.5
             },
             "pattern": {
              "fillmode": "overlay",
              "size": 10,
              "solidity": 0.2
             }
            },
            "type": "bar"
           }
          ],
          "barpolar": [
           {
            "marker": {
             "line": {
              "color": "#E5ECF6",
              "width": 0.5
             },
             "pattern": {
              "fillmode": "overlay",
              "size": 10,
              "solidity": 0.2
             }
            },
            "type": "barpolar"
           }
          ],
          "carpet": [
           {
            "aaxis": {
             "endlinecolor": "#2a3f5f",
             "gridcolor": "white",
             "linecolor": "white",
             "minorgridcolor": "white",
             "startlinecolor": "#2a3f5f"
            },
            "baxis": {
             "endlinecolor": "#2a3f5f",
             "gridcolor": "white",
             "linecolor": "white",
             "minorgridcolor": "white",
             "startlinecolor": "#2a3f5f"
            },
            "type": "carpet"
           }
          ],
          "choropleth": [
           {
            "colorbar": {
             "outlinewidth": 0,
             "ticks": ""
            },
            "type": "choropleth"
           }
          ],
          "contour": [
           {
            "colorbar": {
             "outlinewidth": 0,
             "ticks": ""
            },
            "colorscale": [
             [
              0,
              "#0d0887"
             ],
             [
              0.1111111111111111,
              "#46039f"
             ],
             [
              0.2222222222222222,
              "#7201a8"
             ],
             [
              0.3333333333333333,
              "#9c179e"
             ],
             [
              0.4444444444444444,
              "#bd3786"
             ],
             [
              0.5555555555555556,
              "#d8576b"
             ],
             [
              0.6666666666666666,
              "#ed7953"
             ],
             [
              0.7777777777777778,
              "#fb9f3a"
             ],
             [
              0.8888888888888888,
              "#fdca26"
             ],
             [
              1,
              "#f0f921"
             ]
            ],
            "type": "contour"
           }
          ],
          "contourcarpet": [
           {
            "colorbar": {
             "outlinewidth": 0,
             "ticks": ""
            },
            "type": "contourcarpet"
           }
          ],
          "heatmap": [
           {
            "colorbar": {
             "outlinewidth": 0,
             "ticks": ""
            },
            "colorscale": [
             [
              0,
              "#0d0887"
             ],
             [
              0.1111111111111111,
              "#46039f"
             ],
             [
              0.2222222222222222,
              "#7201a8"
             ],
             [
              0.3333333333333333,
              "#9c179e"
             ],
             [
              0.4444444444444444,
              "#bd3786"
             ],
             [
              0.5555555555555556,
              "#d8576b"
             ],
             [
              0.6666666666666666,
              "#ed7953"
             ],
             [
              0.7777777777777778,
              "#fb9f3a"
             ],
             [
              0.8888888888888888,
              "#fdca26"
             ],
             [
              1,
              "#f0f921"
             ]
            ],
            "type": "heatmap"
           }
          ],
          "heatmapgl": [
           {
            "colorbar": {
             "outlinewidth": 0,
             "ticks": ""
            },
            "colorscale": [
             [
              0,
              "#0d0887"
             ],
             [
              0.1111111111111111,
              "#46039f"
             ],
             [
              0.2222222222222222,
              "#7201a8"
             ],
             [
              0.3333333333333333,
              "#9c179e"
             ],
             [
              0.4444444444444444,
              "#bd3786"
             ],
             [
              0.5555555555555556,
              "#d8576b"
             ],
             [
              0.6666666666666666,
              "#ed7953"
             ],
             [
              0.7777777777777778,
              "#fb9f3a"
             ],
             [
              0.8888888888888888,
              "#fdca26"
             ],
             [
              1,
              "#f0f921"
             ]
            ],
            "type": "heatmapgl"
           }
          ],
          "histogram": [
           {
            "marker": {
             "pattern": {
              "fillmode": "overlay",
              "size": 10,
              "solidity": 0.2
             }
            },
            "type": "histogram"
           }
          ],
          "histogram2d": [
           {
            "colorbar": {
             "outlinewidth": 0,
             "ticks": ""
            },
            "colorscale": [
             [
              0,
              "#0d0887"
             ],
             [
              0.1111111111111111,
              "#46039f"
             ],
             [
              0.2222222222222222,
              "#7201a8"
             ],
             [
              0.3333333333333333,
              "#9c179e"
             ],
             [
              0.4444444444444444,
              "#bd3786"
             ],
             [
              0.5555555555555556,
              "#d8576b"
             ],
             [
              0.6666666666666666,
              "#ed7953"
             ],
             [
              0.7777777777777778,
              "#fb9f3a"
             ],
             [
              0.8888888888888888,
              "#fdca26"
             ],
             [
              1,
              "#f0f921"
             ]
            ],
            "type": "histogram2d"
           }
          ],
          "histogram2dcontour": [
           {
            "colorbar": {
             "outlinewidth": 0,
             "ticks": ""
            },
            "colorscale": [
             [
              0,
              "#0d0887"
             ],
             [
              0.1111111111111111,
              "#46039f"
             ],
             [
              0.2222222222222222,
              "#7201a8"
             ],
             [
              0.3333333333333333,
              "#9c179e"
             ],
             [
              0.4444444444444444,
              "#bd3786"
             ],
             [
              0.5555555555555556,
              "#d8576b"
             ],
             [
              0.6666666666666666,
              "#ed7953"
             ],
             [
              0.7777777777777778,
              "#fb9f3a"
             ],
             [
              0.8888888888888888,
              "#fdca26"
             ],
             [
              1,
              "#f0f921"
             ]
            ],
            "type": "histogram2dcontour"
           }
          ],
          "mesh3d": [
           {
            "colorbar": {
             "outlinewidth": 0,
             "ticks": ""
            },
            "type": "mesh3d"
           }
          ],
          "parcoords": [
           {
            "line": {
             "colorbar": {
              "outlinewidth": 0,
              "ticks": ""
             }
            },
            "type": "parcoords"
           }
          ],
          "pie": [
           {
            "automargin": true,
            "type": "pie"
           }
          ],
          "scatter": [
           {
            "fillpattern": {
             "fillmode": "overlay",
             "size": 10,
             "solidity": 0.2
            },
            "type": "scatter"
           }
          ],
          "scatter3d": [
           {
            "line": {
             "colorbar": {
              "outlinewidth": 0,
              "ticks": ""
             }
            },
            "marker": {
             "colorbar": {
              "outlinewidth": 0,
              "ticks": ""
             }
            },
            "type": "scatter3d"
           }
          ],
          "scattercarpet": [
           {
            "marker": {
             "colorbar": {
              "outlinewidth": 0,
              "ticks": ""
             }
            },
            "type": "scattercarpet"
           }
          ],
          "scattergeo": [
           {
            "marker": {
             "colorbar": {
              "outlinewidth": 0,
              "ticks": ""
             }
            },
            "type": "scattergeo"
           }
          ],
          "scattergl": [
           {
            "marker": {
             "colorbar": {
              "outlinewidth": 0,
              "ticks": ""
             }
            },
            "type": "scattergl"
           }
          ],
          "scattermapbox": [
           {
            "marker": {
             "colorbar": {
              "outlinewidth": 0,
              "ticks": ""
             }
            },
            "type": "scattermapbox"
           }
          ],
          "scatterpolar": [
           {
            "marker": {
             "colorbar": {
              "outlinewidth": 0,
              "ticks": ""
             }
            },
            "type": "scatterpolar"
           }
          ],
          "scatterpolargl": [
           {
            "marker": {
             "colorbar": {
              "outlinewidth": 0,
              "ticks": ""
             }
            },
            "type": "scatterpolargl"
           }
          ],
          "scatterternary": [
           {
            "marker": {
             "colorbar": {
              "outlinewidth": 0,
              "ticks": ""
             }
            },
            "type": "scatterternary"
           }
          ],
          "surface": [
           {
            "colorbar": {
             "outlinewidth": 0,
             "ticks": ""
            },
            "colorscale": [
             [
              0,
              "#0d0887"
             ],
             [
              0.1111111111111111,
              "#46039f"
             ],
             [
              0.2222222222222222,
              "#7201a8"
             ],
             [
              0.3333333333333333,
              "#9c179e"
             ],
             [
              0.4444444444444444,
              "#bd3786"
             ],
             [
              0.5555555555555556,
              "#d8576b"
             ],
             [
              0.6666666666666666,
              "#ed7953"
             ],
             [
              0.7777777777777778,
              "#fb9f3a"
             ],
             [
              0.8888888888888888,
              "#fdca26"
             ],
             [
              1,
              "#f0f921"
             ]
            ],
            "type": "surface"
           }
          ],
          "table": [
           {
            "cells": {
             "fill": {
              "color": "#EBF0F8"
             },
             "line": {
              "color": "white"
             }
            },
            "header": {
             "fill": {
              "color": "#C8D4E3"
             },
             "line": {
              "color": "white"
             }
            },
            "type": "table"
           }
          ]
         },
         "layout": {
          "annotationdefaults": {
           "arrowcolor": "#2a3f5f",
           "arrowhead": 0,
           "arrowwidth": 1
          },
          "autotypenumbers": "strict",
          "coloraxis": {
           "colorbar": {
            "outlinewidth": 0,
            "ticks": ""
           }
          },
          "colorscale": {
           "diverging": [
            [
             0,
             "#8e0152"
            ],
            [
             0.1,
             "#c51b7d"
            ],
            [
             0.2,
             "#de77ae"
            ],
            [
             0.3,
             "#f1b6da"
            ],
            [
             0.4,
             "#fde0ef"
            ],
            [
             0.5,
             "#f7f7f7"
            ],
            [
             0.6,
             "#e6f5d0"
            ],
            [
             0.7,
             "#b8e186"
            ],
            [
             0.8,
             "#7fbc41"
            ],
            [
             0.9,
             "#4d9221"
            ],
            [
             1,
             "#276419"
            ]
           ],
           "sequential": [
            [
             0,
             "#0d0887"
            ],
            [
             0.1111111111111111,
             "#46039f"
            ],
            [
             0.2222222222222222,
             "#7201a8"
            ],
            [
             0.3333333333333333,
             "#9c179e"
            ],
            [
             0.4444444444444444,
             "#bd3786"
            ],
            [
             0.5555555555555556,
             "#d8576b"
            ],
            [
             0.6666666666666666,
             "#ed7953"
            ],
            [
             0.7777777777777778,
             "#fb9f3a"
            ],
            [
             0.8888888888888888,
             "#fdca26"
            ],
            [
             1,
             "#f0f921"
            ]
           ],
           "sequentialminus": [
            [
             0,
             "#0d0887"
            ],
            [
             0.1111111111111111,
             "#46039f"
            ],
            [
             0.2222222222222222,
             "#7201a8"
            ],
            [
             0.3333333333333333,
             "#9c179e"
            ],
            [
             0.4444444444444444,
             "#bd3786"
            ],
            [
             0.5555555555555556,
             "#d8576b"
            ],
            [
             0.6666666666666666,
             "#ed7953"
            ],
            [
             0.7777777777777778,
             "#fb9f3a"
            ],
            [
             0.8888888888888888,
             "#fdca26"
            ],
            [
             1,
             "#f0f921"
            ]
           ]
          },
          "colorway": [
           "#636efa",
           "#EF553B",
           "#00cc96",
           "#ab63fa",
           "#FFA15A",
           "#19d3f3",
           "#FF6692",
           "#B6E880",
           "#FF97FF",
           "#FECB52"
          ],
          "font": {
           "color": "#2a3f5f"
          },
          "geo": {
           "bgcolor": "white",
           "lakecolor": "white",
           "landcolor": "#E5ECF6",
           "showlakes": true,
           "showland": true,
           "subunitcolor": "white"
          },
          "hoverlabel": {
           "align": "left"
          },
          "hovermode": "closest",
          "mapbox": {
           "style": "light"
          },
          "paper_bgcolor": "white",
          "plot_bgcolor": "#E5ECF6",
          "polar": {
           "angularaxis": {
            "gridcolor": "white",
            "linecolor": "white",
            "ticks": ""
           },
           "bgcolor": "#E5ECF6",
           "radialaxis": {
            "gridcolor": "white",
            "linecolor": "white",
            "ticks": ""
           }
          },
          "scene": {
           "xaxis": {
            "backgroundcolor": "#E5ECF6",
            "gridcolor": "white",
            "gridwidth": 2,
            "linecolor": "white",
            "showbackground": true,
            "ticks": "",
            "zerolinecolor": "white"
           },
           "yaxis": {
            "backgroundcolor": "#E5ECF6",
            "gridcolor": "white",
            "gridwidth": 2,
            "linecolor": "white",
            "showbackground": true,
            "ticks": "",
            "zerolinecolor": "white"
           },
           "zaxis": {
            "backgroundcolor": "#E5ECF6",
            "gridcolor": "white",
            "gridwidth": 2,
            "linecolor": "white",
            "showbackground": true,
            "ticks": "",
            "zerolinecolor": "white"
           }
          },
          "shapedefaults": {
           "line": {
            "color": "#2a3f5f"
           }
          },
          "ternary": {
           "aaxis": {
            "gridcolor": "white",
            "linecolor": "white",
            "ticks": ""
           },
           "baxis": {
            "gridcolor": "white",
            "linecolor": "white",
            "ticks": ""
           },
           "bgcolor": "#E5ECF6",
           "caxis": {
            "gridcolor": "white",
            "linecolor": "white",
            "ticks": ""
           }
          },
          "title": {
           "x": 0.05
          },
          "xaxis": {
           "automargin": true,
           "gridcolor": "white",
           "linecolor": "white",
           "ticks": "",
           "title": {
            "standoff": 15
           },
           "zerolinecolor": "white",
           "zerolinewidth": 2
          },
          "yaxis": {
           "automargin": true,
           "gridcolor": "white",
           "linecolor": "white",
           "ticks": "",
           "title": {
            "standoff": 15
           },
           "zerolinecolor": "white",
           "zerolinewidth": 2
          }
         }
        },
        "title": {
         "text": "Loss during training"
        },
        "width": 700,
        "xaxis": {
         "title": {
          "text": "Epoch"
         }
        },
        "yaxis": {
         "title": {
          "text": "Loss"
         }
        }
       }
      }
     },
     "metadata": {},
     "output_type": "display_data"
    },
    {
     "ename": "NameError",
     "evalue": "name 'plt' is not defined",
     "output_type": "error",
     "traceback": [
      "\u001b[1;31m---------------------------------------------------------------------------\u001b[0m",
      "\u001b[1;31mNameError\u001b[0m                                 Traceback (most recent call last)",
      "Cell \u001b[1;32mIn[17], line 10\u001b[0m\n\u001b[0;32m      8\u001b[0m train_data \u001b[38;5;241m=\u001b[39m conf\u001b[38;5;241m.\u001b[39mload_training_metadata_or_new()\n\u001b[0;32m      9\u001b[0m plot_loss(train_data\u001b[38;5;241m=\u001b[39mtrain_data, fname_save\u001b[38;5;241m=\u001b[39mos\u001b[38;5;241m.\u001b[39mpath\u001b[38;5;241m.\u001b[39mjoin(conf\u001b[38;5;241m.\u001b[39mimage_dir, \u001b[38;5;124m\"\u001b[39m\u001b[38;5;124mloss.png\u001b[39m\u001b[38;5;124m\"\u001b[39m))\n\u001b[1;32m---> 10\u001b[0m \u001b[43mplt\u001b[49m\u001b[38;5;241m.\u001b[39mclose\n",
      "\u001b[1;31mNameError\u001b[0m: name 'plt' is not defined"
     ]
    }
   ],
   "source": [
    "conf_path\n",
    "\n",
    "assert conf_path, \"Must provide a configuration file\"\n",
    "with open(conf_path, \"r\") as f:\n",
    "    conf = TSMixerConf.from_dict(yaml.safe_load(f))\n",
    "\n",
    "conf.device = \"cpu\"\n",
    "train_data = conf.load_training_metadata_or_new()\n",
    "plot_loss(train_data=train_data, fname_save=os.path.join(conf.image_dir, \"loss.png\"))\n",
    "plt.close\n"
   ]
  }
 ],
 "metadata": {
  "kernelspec": {
   "display_name": "virtual_environment",
   "language": "python",
   "name": "python3"
  },
  "language_info": {
   "codemirror_mode": {
    "name": "ipython",
    "version": 3
   },
   "file_extension": ".py",
   "mimetype": "text/x-python",
   "name": "python",
   "nbconvert_exporter": "python",
   "pygments_lexer": "ipython3",
   "version": "3.11.2"
  }
 },
 "nbformat": 4,
 "nbformat_minor": 2
}

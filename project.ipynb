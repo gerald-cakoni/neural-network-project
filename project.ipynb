{
 "cells": [
  {
   "cell_type": "markdown",
   "metadata": {},
   "source": [
    "### Import Dataset"
   ]
  },
  {
   "cell_type": "code",
   "execution_count": 1,
   "metadata": {},
   "outputs": [
    {
     "name": "stderr",
     "output_type": "stream",
     "text": [
      "C:\\Users\\geral\\AppData\\Local\\Temp\\ipykernel_25468\\2861766496.py:4: DeprecationWarning: \n",
      "Pyarrow will become a required dependency of pandas in the next major release of pandas (pandas 3.0),\n",
      "(to allow more performant data types, such as the Arrow string type, and better interoperability with other libraries)\n",
      "but was not found to be installed on your system.\n",
      "If this would cause problems for you,\n",
      "please provide us feedback at https://github.com/pandas-dev/pandas/issues/54466\n",
      "        \n",
      "  import pandas as pd\n"
     ]
    }
   ],
   "source": [
    "# Load data from the dataset file\n",
    "# Divide the dsatavin train, validate and test to train the model and to see its accuracy. The val part is used for parameters adjusting like to find better initialization of the modles\n",
    "\n",
    "import pandas as pd\n",
    "from torch.utils.data import DataLoader, Dataset, Subset\n",
    "from enum import Enum\n",
    "import torch\n",
    "from typing import Tuple, Callable, Optional, List\n",
    "from dataclasses import dataclass\n",
    "from mashumaro import DataClassDictMixin\n",
    "from loguru import logger\n",
    " \n",
    "# Enum for different types of validation splits\n",
    "class ValidationSplit(Enum):\n",
    "    # Temporal Holdout: Reserve the last part of time-ordered data for validation\n",
    "    TEMPORAL_HOLDOUT = \"temporal-holdout\"\n",
    "    \"Reserve the last portion (e.g., 10-20%) of your time-ordered data for validation, and use the remaining data for training. This is a simple and widely used approach.\"\n",
    "\n",
    "# Custom Dataset class for handling pandas DataFrame for time series\n",
    "class DataframeDataset(Dataset):\n",
    "    \"\"\"Dataset from a pandas dataframe\n",
    "    \"\"\"    \n",
    "\n",
    "    def __init__(self, df: pd.DataFrame, window_size_input: int, window_size_predict: int, transform: Optional[Callable] = None):\n",
    "        \"\"\"Constructor\n",
    "        # Constructor for initializing dataset with DataFrame and window sizes\n",
    "\n",
    "        Args:\n",
    "            df (pd.DataFrame): Dataframe\n",
    "            window_size_input (int): Input window size\n",
    "            window_size_predict (int): Prediction window size\n",
    "            transform (Optional[Callable], optional): Transforms such as normalization applied to time series. Defaults to None.\n",
    "        \"\"\"        \n",
    "        window_size_total = window_size_input + window_size_predict\n",
    "        assert len(df) > window_size_total, f\"Dataset length ({len(df)}) must be greater than window size ({window_size_total})\"\n",
    "        self.df = df\n",
    "        self.window_size_input = window_size_input\n",
    "        self.window_size_predict = window_size_predict\n",
    "        self.transform = transform\n",
    "\n",
    "    def __len__(self):\n",
    "        return len(self.df) - self.window_size_input - self.window_size_predict\n",
    "        # Returns the length of the dataset adjusted for window sizes\n",
    "\n",
    "    def get_sample(self, idx: int) -> Tuple[torch.Tensor, torch.Tensor]:\n",
    "        \"\"\"Get a window sample. Input from [idx, idx + window_size_input], prediction from [idx + window_size_input, idx + window_size_input + window_size_predict\n",
    "\n",
    "        Args:\n",
    "            idx (int): Index\n",
    "\n",
    "        Returns:\n",
    "            Tuple[torch.Tensor, torch.Tensor]: Input and prediction tensors\n",
    "        \"\"\"\n",
    "\n",
    "        # Check if the index plus window size exceeds the length of the dataset\n",
    "        if idx + self.window_size_input + self.window_size_predict > len(self.df):\n",
    "            raise IndexError(f\"Index ({idx}) + window_size_input ({self.window_size_input}) + window_size_predict ({self.window_size_predict}) exceeds dataset length ({len(self.df)})\")\n",
    "\n",
    "        # Window the data\n",
    "        sample_input = self.df.iloc[idx:idx + self.window_size_input, :]\n",
    "        sample_pred = self.df.iloc[idx + self.window_size_input:idx + self.window_size_input + self.window_size_predict, :]\n",
    "\n",
    "        # Convert to torch tensor\n",
    "        sample_input = torch.tensor(sample_input.values, dtype=torch.float32)\n",
    "        sample_pred = torch.tensor(sample_pred.values, dtype=torch.float32)\n",
    "\n",
    "        # Apply transform\n",
    "        if self.transform is not None:\n",
    "            sample_input = self.transform(sample_input)\n",
    "            sample_pred = self.transform(sample_pred)\n",
    "\n",
    "        return sample_input, sample_pred\n",
    "\n",
    "    def __getitem__(self, idx):\n",
    "        if torch.is_tensor(idx):\n",
    "            idx = idx.tolist()\n",
    "\n",
    "        if isinstance(idx, list):\n",
    "            # Handle a list of indices\n",
    "            samples = [self.get_sample(i) for i in idx]\n",
    "            return samples\n",
    "        else:\n",
    "            # Handle a single index\n",
    "            return self.get_sample(idx)\n",
    "\n",
    "\n",
    "@dataclass\n",
    "class DataNormalization(DataClassDictMixin):\n",
    "    mean_each_feature: Optional[List[float]] = None\n",
    "    \"Mean for each feature\"\n",
    "\n",
    "    std_each_feature: Optional[List[float]] = None\n",
    "    \"Std for each feature\"\n",
    "\n",
    "\n",
    "def load_csv_dataset(\n",
    "    csv_file: str, \n",
    "    batch_size: int, \n",
    "    input_length: int, \n",
    "    prediction_length: int, \n",
    "    val_split: ValidationSplit, \n",
    "    val_split_holdout: float = 0.2, \n",
    "    shuffle: bool = True,\n",
    "    normalize_each_feature: bool = True,\n",
    "    data_norm_exist: Optional[DataNormalization] = None\n",
    "    ) -> Tuple[DataLoader, DataLoader, DataNormalization]:\n",
    "    \"\"\"Load a CSV dataset\n",
    "\n",
    "    Args:\n",
    "        csv_file (str): CSV file path\n",
    "        batch_size (int): Batch size\n",
    "        input_length (int): Input length\n",
    "        prediction_length (int): Prediction length\n",
    "        val_split (ValidationSplit): Validation split method\n",
    "        val_split_holdout (float, optional): Holdout fraction for validation (last X% of data) - only used for TEMPORAL_HOLDOUT. Defaults to 0.2.\n",
    "        shuffle (bool, optional): True to shuffle data. Defaults to True.\n",
    "        normalize_each_feature (bool, optional): Normalize each feature. Defaults to True.\n",
    "        data_norm_exist (Optional[DataNormalization], optional): Existing normalization data - apply this instead of recalculating. Defaults to None.\n",
    "\n",
    "    Returns:\n",
    "        Tuple[DataLoader, DataLoader, DataNormalization]: Training and validation data loaders, and normalization data\n",
    "    \"\"\"    \n",
    "\n",
    "    # Load the CSV file into a DataFrame\n",
    "    df_raw = pd.read_csv(csv_file)\n",
    "    df = df_raw.set_index('date')\n",
    "\n",
    "    # Make dataset\n",
    "    dataset = DataframeDataset(df, window_size_input=input_length, window_size_predict=prediction_length)\n",
    "    no_pts = len(dataset)\n",
    "\n",
    "    # Split the data into training and validation\n",
    "    if val_split == ValidationSplit.TEMPORAL_HOLDOUT:\n",
    "        idx_train_val = int(no_pts * (1-val_split_holdout))\n",
    "    else:\n",
    "        raise NotImplementedError(f\"Validation split {val_split} not implemented\")\n",
    "\n",
    "    # Normalize each feature separately        \n",
    "    if data_norm_exist is None:\n",
    "        data_norm_exist = DataNormalization()\n",
    "\n",
    "        # Compute mean and std on training data from pandas dataframe\n",
    "        filtered_df = df[:idx_train_val]\n",
    "        data_norm_exist.mean_each_feature = list(filtered_df.mean().values)\n",
    "        data_norm_exist.std_each_feature = list(filtered_df.std().values)\n",
    "        logger.debug(f\"Computed data mean for each feature: {data_norm_exist.mean_each_feature}\")\n",
    "        logger.debug(f\"Computed data std for each feature: {data_norm_exist.std_each_feature}\")\n",
    "\n",
    "    if normalize_each_feature:\n",
    "        assert data_norm_exist.mean_each_feature is not None, \"Must provide data mean for each feature\"\n",
    "        assert data_norm_exist.std_each_feature is not None, \"Must provide data std for each feature\"\n",
    "\n",
    "        # Create a normalization function\n",
    "        transform = lambda x: (x - torch.Tensor(data_norm_exist.mean_each_feature)) / torch.Tensor(data_norm_exist.std_each_feature)\n",
    "\n",
    "        # Apply the normalization function\n",
    "        dataset.transform = transform\n",
    "\n",
    "    # Splits\n",
    "    train_dataset = Subset(dataset, range(idx_train_val))\n",
    "    val_dataset = Subset(dataset, range(idx_train_val, no_pts))\n",
    "\n",
    "    loader_train = DataLoader(train_dataset, batch_size=batch_size, shuffle=shuffle)\n",
    "    loader_val = DataLoader(val_dataset, batch_size=batch_size, shuffle=shuffle)\n",
    "\n",
    "    return loader_train, loader_val, data_norm_exist\n"
   ]
  },
  {
   "cell_type": "markdown",
   "metadata": {},
   "source": [
    "### Model Layers"
   ]
  },
  {
   "cell_type": "code",
   "execution_count": 2,
   "metadata": {},
   "outputs": [],
   "source": [
    "# In this file is the initialization of the model, how it works how is the input implemented in the model.\n",
    "# It has all the layers which train the model and fit it with the data\n",
    "# As we can see it has some classes for mixing layers and features and some other actions like transpèozation of data as time series mixer work.\n",
    "# As we know they work by mixing feature and samples and training the model in 2 perspectives like feature dependency and time dependency.\n",
    "\n",
    "import torch.nn as nn\n",
    "import torch\n",
    "\n",
    "class TSBatchNorm2d(nn.Module):\n",
    "    def __init__(self):\n",
    "        super(TSBatchNorm2d, self).__init__()\n",
    "        self.bn = nn.BatchNorm2d(num_features=1)\n",
    "\n",
    "    def forward(self, x: torch.Tensor) -> torch.Tensor:\n",
    "        x = x.unsqueeze(1)\n",
    "        output = self.bn(x)\n",
    "        output = output.squeeze(1)\n",
    "        return output\n",
    "\n",
    "class TSTimeMixingResBlock(nn.Module):\n",
    "    def __init__(self, width_time: int, dropout: float):\n",
    "        super(TSTimeMixingResBlock, self).__init__()\n",
    "        self.norm = TSBatchNorm2d()\n",
    "        self.lin = nn.Linear(in_features=width_time, out_features=width_time)\n",
    "        self.dropout = nn.Dropout(p=dropout)\n",
    "        self.act = nn.ReLU()\n",
    "\n",
    "    def forward(self, x: torch.Tensor) -> torch.Tensor:\n",
    "        y = self.norm(x)\n",
    "        y = torch.transpose(y, 1, 2)\n",
    "        y = self.lin(y)\n",
    "        y = self.act(y)\n",
    "        y = torch.transpose(y, 1, 2)\n",
    "        y = self.dropout(y)\n",
    "        return x + y\n",
    "\n",
    "class TSFeatMixingResBlock(nn.Module):\n",
    "    def __init__(self, width_feats: int, width_feats_hidden: int, dropout: float):\n",
    "        super(TSFeatMixingResBlock, self).__init__()\n",
    "        self.norm = TSBatchNorm2d()\n",
    "        self.lin_1 = nn.Linear(in_features=width_feats, out_features=width_feats_hidden)\n",
    "        self.lin_2 = nn.Linear(in_features=width_feats_hidden, out_features=width_feats)\n",
    "        self.dropout_1 = nn.Dropout(p=dropout)\n",
    "        self.dropout_2 = nn.Dropout(p=dropout)\n",
    "        self.act = nn.ReLU()\n",
    "\n",
    "    def forward(self, x: torch.Tensor) -> torch.Tensor:\n",
    "        y = self.norm(x)\n",
    "        y = self.lin_1(y)\n",
    "        y = self.act(y)\n",
    "        y = self.dropout_1(y)\n",
    "        y = self.lin_2(y)\n",
    "        y = self.dropout_2(y)\n",
    "        return x + y\n",
    "\n",
    "class TSMixingLayer(nn.Module):\n",
    "    def __init__(self, input_length: int, no_feats: int, feat_mixing_hidden_channels: int, dropout: float):\n",
    "        super(TSMixingLayer, self).__init__()\n",
    "        self.time_mixing = TSTimeMixingResBlock(width_time=input_length, dropout=dropout)\n",
    "        self.feat_mixing = TSFeatMixingResBlock(width_feats=no_feats, width_feats_hidden=feat_mixing_hidden_channels, dropout=dropout)\n",
    "\n",
    "    def forward(self, x: torch.Tensor) -> torch.Tensor:\n",
    "        y = self.time_mixing(x)\n",
    "        y = self.feat_mixing(y)\n",
    "        return y\n",
    "\n",
    "class TSTemporalProjection(nn.Module):\n",
    "    def __init__(self, input_length: int, forecast_length: int):\n",
    "        super(TSTemporalProjection, self).__init__()\n",
    "        self.lin = nn.Linear(in_features=input_length, out_features=forecast_length)\n",
    "\n",
    "    def forward(self, x: torch.Tensor) -> torch.Tensor:\n",
    "        y = torch.transpose(x, 1, 2)\n",
    "        y = self.lin(y)\n",
    "        y = torch.transpose(y, 1, 2)\n",
    "        return y\n",
    "\n",
    "class TSMixerModelExclRIN(nn.Module):\n",
    "    def __init__(self, input_length: int, forecast_length: int, no_feats: int, feat_mixing_hidden_channels: int, no_mixer_layers: int, dropout: float):\n",
    "        super(TSMixerModelExclRIN, self).__init__()\n",
    "        self.temp_proj = TSTemporalProjection(input_length=input_length, forecast_length=forecast_length)\n",
    "        mixer_layers = []\n",
    "        for _ in range(no_mixer_layers):\n",
    "            mixer_layers.append(TSMixingLayer(input_length=input_length, no_feats=no_feats, feat_mixing_hidden_channels=feat_mixing_hidden_channels, dropout=dropout))\n",
    "        self.mixer_layers = nn.ModuleList(mixer_layers)\n",
    "\n",
    "    def forward(self, x: torch.Tensor) -> torch.Tensor:\n",
    "        for mixer_layer in self.mixer_layers:\n",
    "            x = mixer_layer(x)\n",
    "        x = self.temp_proj(x)\n",
    "        return x\n",
    "\n",
    "class TSMixerModel(nn.Module):\n",
    "    def __init__(self, input_length: int, forecast_length: int, no_feats: int, feat_mixing_hidden_channels: int, no_mixer_layers: int, dropout: float, eps: float = 1e-8):\n",
    "        super(TSMixerModel, self).__init__()\n",
    "        self.eps = eps\n",
    "        self.scale = nn.Parameter(torch.ones(no_feats))\n",
    "        self.shift = nn.Parameter(torch.zeros(no_feats))\n",
    "        self.ts = TSMixerModelExclRIN(\n",
    "            input_length=input_length,\n",
    "            forecast_length=forecast_length,\n",
    "            no_feats=no_feats,\n",
    "            feat_mixing_hidden_channels=feat_mixing_hidden_channels,\n",
    "            no_mixer_layers=no_mixer_layers,\n",
    "            dropout=dropout\n",
    "        )\n",
    "\n",
    "    def forward(self, x: torch.Tensor) -> torch.Tensor:\n",
    "        mean = torch.mean(x, dim=1, keepdim=True)\n",
    "        var = torch.var(x, dim=1, keepdim=True)\n",
    "        x = (x - mean) / torch.sqrt(var + self.eps)\n",
    "        x = x * self.scale + self.shift\n",
    "        x = self.ts(x)\n",
    "        x = (x - self.shift) / self.scale\n",
    "        x = x * torch.sqrt(var + self.eps) + mean\n",
    "        return x\n"
   ]
  },
  {
   "cell_type": "markdown",
   "metadata": {},
   "source": [
    "### Model Initialization"
   ]
  },
  {
   "cell_type": "code",
   "execution_count": 3,
   "metadata": {},
   "outputs": [],
   "source": [
    "from utils.tsmixer_conf import TSMixerConf, TrainingMetadata, makedirs\n",
    "from utils.model import TSMixerModel\n",
    "from utils.load_csv import DataNormalization\n",
    "\n",
    "import os\n",
    "from typing import Optional, Tuple, Dict, List\n",
    "import torch\n",
    "from loguru import logger\n",
    "from tqdm import tqdm\n",
    "import json\n",
    "import time\n",
    "import shutil\n",
    "from dataclasses import dataclass\n",
    "from mashumaro import DataClassDictMixin\n",
    "import yaml\n",
    "\n",
    "\n",
    "class TSMixer:\n",
    "    \"\"\"TSMixer including training and prediction methods\n",
    "    \"\"\"    \n",
    "\n",
    "\n",
    "    def __init__(self, conf: TSMixerConf):\n",
    "        \"\"\"\n",
    "        Constructor for TSMixer class\n",
    "\n",
    "        Args:\n",
    "            conf (TSMixerConf): Configuration\n",
    "        \"\"\"\n",
    "        # Rest of your constructor code goes here\n",
    "        self.conf = conf\n",
    "\n",
    "\n",
    "        # Create the model\n",
    "        self.model = TSMixerModel(\n",
    "            input_length=self.conf.input_length,\n",
    "            forecast_length=self.conf.prediction_length,\n",
    "            no_feats=self.conf.no_features,\n",
    "            feat_mixing_hidden_channels=self.conf.feat_mixing_hidden_channels or self.conf.no_features,\n",
    "            no_mixer_layers=self.conf.no_mixer_layers,\n",
    "            dropout=self.conf.dropout\n",
    "            ) \n",
    "\n",
    "        # Move to device\n",
    "        self.model.to(self.conf.device)\n",
    "\n",
    "        # Load the model\n",
    "        if self.conf.initialize == self.conf.Initialize.FROM_LATEST_CHECKPOINT:\n",
    "            self.load_checkpoint(fname=self.conf.checkpoint_latest)\n",
    "        elif self.conf.initialize == self.conf.Initialize.FROM_BEST_CHECKPOINT:\n",
    "            self.load_checkpoint(fname=self.conf.checkpoint_best)\n",
    "        elif self.conf.initialize == self.conf.Initialize.FROM_SCRATCH:\n",
    "            pass\n",
    "        else:\n",
    "            raise NotImplementedError(f\"Initialize {self.conf.initialize} not implemented\")\n",
    "\n",
    "\n",
    "    def load_checkpoint(self, fname: str, optimizer: Optional[torch.optim.Optimizer] = None) -> Tuple[int,float]:\n",
    "        \"\"\"Load a checkpoint, optionally including the optimizer state\n",
    "\n",
    "        Args:\n",
    "            fname (str): File name\n",
    "            optimizer (Optional[torch.optim.Optimizer], optional): Optimizer to update from checkpoint. Defaults to None.\n",
    "\n",
    "        Returns:\n",
    "            Tuple[int,float]: Epoch and loss\n",
    "        \"\"\"        \n",
    "        logger.debug(f\"Loading model weights from {fname}\")\n",
    "        checkpoint = torch.load(fname)\n",
    "        self.model.load_state_dict(checkpoint['model_state_dict'])\n",
    "\n",
    "        if optimizer is not None:\n",
    "            logger.debug(f\"Loading optimizer state from {fname}\")\n",
    "            optimizer.load_state_dict(checkpoint['optimizer_state_dict'])\n",
    "        epoch = checkpoint['epoch']\n",
    "        loss = checkpoint['loss']\n",
    "        logger.info(f\"Loaded optimizer state from epoch {epoch} with loss {loss}\")\n",
    "        return epoch, loss\n",
    "\n",
    "\n",
    "    def predict(self, batch_input: torch.Tensor) -> torch.Tensor:\n",
    "        \"\"\"Predict the output for a batch of input data\n",
    "\n",
    "        Args:\n",
    "            batch_input (torch.Tensor): Input data of shape (batch_size, input_length (time), no_features)\n",
    "\n",
    "        Returns:\n",
    "            torch.Tensor: Predicted output of shape (batch_size, prediction_length (time), no_features)\n",
    "        \"\"\"        \n",
    "        self.model.eval()\n",
    "\n",
    "        # Check size\n",
    "        assert batch_input.shape[1] == self.conf.input_length, f\"Input length {batch_input.shape[1]} does not match configuration {self.conf.input_length}\"\n",
    "        assert batch_input.shape[2] == self.conf.no_features, f\"Number of features {batch_input.shape[2]} does not match configuration {self.conf.no_features}\"\n",
    "\n",
    "        # Predict\n",
    "        batch_input = batch_input.to(self.conf.device)\n",
    "        with torch.no_grad():\n",
    "            batch_pred_hat = self.model(batch_input)\n",
    "        return batch_pred_hat\n",
    "\n",
    "    def load_data_norm(self) -> Optional[DataNormalization]:\n",
    "        \"\"\"Load the data normalization from a JSON file\n",
    "\n",
    "        Returns:\n",
    "            Optional[DataNormalization]: Data normalization, or None if the file does not exist\n",
    "        \"\"\"        \n",
    "\n",
    "        if os.path.exists(self.conf.data_norm_json):\n",
    "            logger.debug(f\"Loading data normalization from {self.conf.data_norm_json}\")\n",
    "            with open(self.conf.data_norm_json, \"r\") as f:\n",
    "                return DataNormalization.from_dict(json.load(f))\n",
    "        else:\n",
    "            return None\n",
    "\n",
    "\n",
    "    @dataclass\n",
    "    class PredData(DataClassDictMixin):\n",
    "        \"\"\"Prediction data\n",
    "        \"\"\"        \n",
    "\n",
    "        pred_gt: List[List[float]]\n",
    "        \"Ground truth prediction\"\n",
    "\n",
    "        pred: List[List[float]]\n",
    "        \"Model prediction\"\n",
    "\n",
    "        inputs: Optional[List[List[float]]] = None\n",
    "        \"Inputs\"\n",
    "\n",
    "\n",
    "    def predict_val_dataset(self, max_samples: Optional[int] = None, save_inputs: bool = False) -> List[PredData]:\n",
    "        \"\"\"Predict on the validation dataset\n",
    "\n",
    "        Args:\n",
    "            max_samples (Optional[int], optional): Maximum number of samples to predict from the validation dataset. Defaults to None.\n",
    "            save_inputs (bool, optional): Save the inputs as well as the predictions. Defaults to False.\n",
    "\n",
    "        Returns:\n",
    "            List[PredData]: List of predictions\n",
    "        \"\"\"        \n",
    "\n",
    "        # Change batch size to 1 and not shuffle data for consistency\n",
    "        batch_size_save = self.conf.batch_size\n",
    "        shuffle_save = self.conf.shuffle\n",
    "        self.conf.batch_size = 1\n",
    "        self.conf.shuffle = False\n",
    "\n",
    "        # Load the data normalization if it exists and use it\n",
    "        data_norm = self.load_data_norm()\n",
    "\n",
    "        # Create the loaders\n",
    "        _, loader_val, _ = self.conf.create_data_loaders_train_val(data_norm)\n",
    "        \n",
    "        # Predict\n",
    "        data_list: List[TSMixer.PredData] = []\n",
    "        for _ in tqdm(range(max_samples or len(loader_val)), desc=\"Predicting\"):\n",
    "            batch_input, batch_pred = next(iter(loader_val))\n",
    "            batch_pred_hat = self.predict(batch_input)\n",
    "            data = TSMixer.PredData(\n",
    "                pred_gt=batch_pred.tolist()[0],\n",
    "                pred=batch_pred_hat.tolist()[0],\n",
    "                inputs=batch_input.tolist()[0] if save_inputs else None\n",
    "                )\n",
    "            data_list.append(data)            \n",
    "\n",
    "        # Save data to json\n",
    "        with open(self.conf.pred_val_dataset_json, \"w\") as f:\n",
    "            json.dump([ d.to_dict() for d in data_list ], f)\n",
    "            logger.info(f\"Saved data to {f.name}\")\n",
    "\n",
    "        # Reset options\n",
    "        self.conf.batch_size = batch_size_save\n",
    "        self.conf.shuffle = shuffle_save\n",
    "\n",
    "        return data_list\n",
    "\n",
    "\n",
    "    def train(self):\n",
    "        \"\"\"Train the model\n",
    "        \"\"\"        \n",
    "\n",
    "        # Create the optimizer\n",
    "        optimizer_cls = getattr(torch.optim, self.conf.optimizer)\n",
    "        optimizer = optimizer_cls(self.model.parameters(), lr=self.conf.learning_rate)\n",
    "\n",
    "        # Load if needed\n",
    "        if self.conf.initialize == self.conf.Initialize.FROM_LATEST_CHECKPOINT:\n",
    "            epoch_start, val_loss_best = self.load_checkpoint(fname=self.conf.checkpoint_latest, optimizer=optimizer)\n",
    "            data_norm = self.load_data_norm()\n",
    "        elif self.conf.initialize == self.conf.Initialize.FROM_BEST_CHECKPOINT:\n",
    "            epoch_start, val_loss_best = self.load_checkpoint(fname=self.conf.checkpoint_best, optimizer=optimizer)\n",
    "            data_norm = self.load_data_norm()\n",
    "        elif self.conf.initialize == self.conf.Initialize.FROM_SCRATCH:\n",
    "            epoch_start, val_loss_best = 0, float(\"inf\")\n",
    "\n",
    "            # Clear the output directory\n",
    "            if os.path.exists(self.conf.output_dir):\n",
    "                logger.warning(f\"Output directory {self.conf.output_dir} already exists. Deleting it to start over. You have 8 seconds.\")\n",
    "                for _ in range(8):\n",
    "                    print(\".\", end=\"\", flush=True)\n",
    "                    time.sleep(1)\n",
    "                print(\"\")\n",
    "                shutil.rmtree(self.conf.output_dir)\n",
    "            makedirs(self.conf.output_dir)\n",
    "\n",
    "            # Save initial weights\n",
    "            self._save_checkpoint(epoch=epoch_start, optimizer=optimizer, loss=val_loss_best, fname=self.conf.checkpoint_init)\n",
    "            data_norm = None\n",
    "\n",
    "            # Copy the config to the output directory for reference\n",
    "            fname_conf = os.path.join(self.conf.output_dir, \"conf.yml\")\n",
    "            makedirs(self.conf.output_dir)\n",
    "            with open(fname_conf, \"w\") as f:\n",
    "                yaml.dump(self.conf.to_dict(), f, indent=3)\n",
    "                logger.info(f\"Saved configuration to {f.name}\")\n",
    "        \n",
    "        else:\n",
    "            raise NotImplementedError(f\"Initialize {self.conf.initialize} not implemented\")\n",
    "        train_data = self.conf.load_training_metadata_or_new(epoch_start)\n",
    "\n",
    "        # Create the loaders\n",
    "        loader_train, loader_val, data_norm = self.conf.create_data_loaders_train_val(data_norm)\n",
    "\n",
    "        # Write data normalization\n",
    "        self.conf.write_data_norm(data_norm)\n",
    "\n",
    "        # Train\n",
    "        epoch_last_improvement = None\n",
    "        for epoch in range(epoch_start, self.conf.num_epochs):\n",
    "            logger.info(f\"Epoch {epoch+1}/{self.conf.num_epochs}\")\n",
    "            t0 = time.time()\n",
    "\n",
    "            # Training\n",
    "            train_loss = 0\n",
    "            for batch_input, batch_pred in tqdm(loader_train, desc=\"Training batches\"):\n",
    "                batch_input, batch_pred = batch_input.to(self.conf.device), batch_pred.to(self.conf.device)\n",
    "                train_loss += self._train_step(batch_input, batch_pred, optimizer)\n",
    "\n",
    "            # Validation loss\n",
    "            self.model.eval()\n",
    "            with torch.no_grad():\n",
    "                val_loss = 0\n",
    "                for batch_input, batch_pred in tqdm(loader_val, desc=\"Validation batches\"):\n",
    "                    batch_input, batch_pred = batch_input.to(self.conf.device), batch_pred.to(self.conf.device)\n",
    "                    val_loss += self._compute_loss(batch_input, batch_pred).item()\n",
    "\n",
    "            # Log\n",
    "            train_loss /= len(loader_train)\n",
    "            val_loss /= len(loader_val)\n",
    "            dur = time.time() - t0\n",
    "            logger.info(f\"Training loss: {train_loss:.5f} val: {val_loss:.5f} duration: {dur:.2f}s\")\n",
    "\n",
    "            # Store metadata about training\n",
    "            train_data.epoch_to_data[epoch] = TrainingMetadata.EpochData(epoch=epoch, train_loss=train_loss, val_loss=val_loss, duration_seconds=dur)\n",
    "\n",
    "            # Save checkpoint\n",
    "            if val_loss < val_loss_best:\n",
    "                logger.info(f\"New best validation loss: {val_loss:.5f}\")\n",
    "                self._save_checkpoint(epoch=epoch, optimizer=optimizer, loss=val_loss, fname=self.conf.checkpoint_best)\n",
    "                val_loss_best = val_loss\n",
    "                epoch_last_improvement = epoch\n",
    "            self._save_checkpoint(epoch=epoch, optimizer=optimizer, loss=val_loss, fname=self.conf.checkpoint_latest)\n",
    "            self.conf.write_training_metadata(train_data)\n",
    "\n",
    "            # Early stopping\n",
    "            if epoch_last_improvement is not None and self.conf.early_stopping_patience is not None and epoch - epoch_last_improvement >= self.conf.early_stopping_patience:\n",
    "                logger.info(f\"Stopping early after {epoch - epoch_last_improvement} epochs without improvement in validation loss.\")\n",
    "                break\n",
    "\n",
    "\n",
    "    def _save_checkpoint(self, epoch: int, optimizer: torch.optim.Optimizer, loss: float, fname: str):\n",
    "        torch.save({\n",
    "            'epoch': epoch,\n",
    "            'model_state_dict': self.model.state_dict(),\n",
    "            'optimizer_state_dict': optimizer.state_dict(),\n",
    "            'loss': loss,\n",
    "            }, fname)\n",
    "\n",
    "\n",
    "    def _compute_loss(self, batch_input: torch.Tensor, batch_pred: torch.Tensor) -> torch.Tensor:\n",
    "        \"\"\"Compute the loss\n",
    "\n",
    "        Args:\n",
    "            batch_input (torch.Tensor): Batch input of shape (batch_size, input_length (time), no_features)\n",
    "            batch_pred (torch.Tensor): Batch prediction of shape (batch_size, prediction_length (time), no_features)\n",
    "\n",
    "        Returns:\n",
    "            torch.Tensor: Loss (MSE)\n",
    "        \"\"\"        \n",
    "\n",
    "        # Forward pass\n",
    "        batch_pred_hat = self.model(batch_input)\n",
    "\n",
    "        # Compute MSE loss\n",
    "        loss = torch.nn.functional.mse_loss(batch_pred_hat, batch_pred)\n",
    "\n",
    "        # Normalize the loss by the batch size\n",
    "        # batch_size = batch_input.size(0)\n",
    "        # loss /= batch_size\n",
    "\n",
    "        return loss\n",
    "\n",
    "\n",
    "    def _train_step(self, batch_input: torch.Tensor, batch_pred: torch.Tensor, optimizer: torch.optim.Optimizer) -> float:\n",
    "        \"\"\"Training step\n",
    "\n",
    "        Args:\n",
    "            batch_input (torch.Tensor): Input data of shape (batch_size, input_length (time), no_features)\n",
    "            batch_pred (torch.Tensor): Prediction data of shape (batch_size, prediction_length (time), no_features)\n",
    "            optimizer (torch.optim.Optimizer): Optimizer\n",
    "\n",
    "        Returns:\n",
    "            float: Loss (MSE)\n",
    "        \"\"\"        \n",
    "        optimizer.zero_grad()\n",
    "\n",
    "        # Train mode\n",
    "        self.model.train()\n",
    "\n",
    "        # Loss\n",
    "        loss = self._compute_loss(batch_input, batch_pred)\n",
    "\n",
    "        # Backward pass\n",
    "        loss.backward()\n",
    "\n",
    "        # Update parameters\n",
    "        optimizer.step()\n",
    "\n",
    "        return loss.item()"
   ]
  },
  {
   "cell_type": "markdown",
   "metadata": {},
   "source": [
    "### Import"
   ]
  },
  {
   "cell_type": "code",
   "execution_count": 4,
   "metadata": {},
   "outputs": [],
   "source": [
    "from utils.model import TSBatchNorm2d, TSFeatMixingResBlock, TSMixerModelExclRIN, TSMixingLayer, TSTemporalProjection, TSTimeMixingResBlock, TSMixerModel\n",
    "from utils.plotting import plot_preds, plot_loss\n",
    "from utils.tsmixer_conf import TSMixerConf, TrainingMetadata\n",
    "from utils.tsmixer_grid_search_conf import TSMixerGridSearch\n",
    "from utils.tsmixer import TSMixer\n",
    "\n",
    "from utils.tsmixer_conf import TSMixerConf, TrainingMetadata, makedirs\n",
    "from utils.model import TSMixerModel\n",
    "from utils.load_csv import DataNormalization\n",
    "\n",
    "import os\n",
    "from typing import Optional, Tuple, Dict, List, Callable\n",
    "from loguru import logger\n",
    "from tqdm import tqdm\n",
    "from dataclasses import dataclass\n",
    "from mashumaro import DataClassDictMixin\n",
    "import yaml\n",
    "import pandas as pd\n",
    "from torch.utils.data import DataLoader, Dataset, Subset\n",
    "from enum import Enum\n",
    "import torch"
   ]
  },
  {
   "cell_type": "markdown",
   "metadata": {},
   "source": [
    "### Train"
   ]
  },
  {
   "cell_type": "code",
   "execution_count": 19,
   "metadata": {},
   "outputs": [
    {
     "name": "stderr",
     "output_type": "stream",
     "text": [
      "\u001b[32m2024-01-26 19:42:32.543\u001b[0m | \u001b[33m\u001b[1mWARNING \u001b[0m | \u001b[36mutils.tsmixer\u001b[0m:\u001b[36mtrain\u001b[0m:\u001b[36m199\u001b[0m - \u001b[33m\u001b[1mOutput directory output.etdataset already exists. Deleting it to start over. You have 8 seconds.\u001b[0m\n"
     ]
    },
    {
     "name": "stdout",
     "output_type": "stream",
     "text": [
      "........"
     ]
    },
    {
     "name": "stderr",
     "output_type": "stream",
     "text": [
      "\u001b[32m2024-01-26 19:42:40.583\u001b[0m | \u001b[1mINFO    \u001b[0m | \u001b[36mutils.tsmixer\u001b[0m:\u001b[36mtrain\u001b[0m:\u001b[36m216\u001b[0m - \u001b[1mSaved configuration to output.etdataset\\conf.yml\u001b[0m\n",
      "\u001b[32m2024-01-26 19:42:40.617\u001b[0m | \u001b[34m\u001b[1mDEBUG   \u001b[0m | \u001b[36mutils.load_csv\u001b[0m:\u001b[36mload_csv_dataset\u001b[0m:\u001b[36m147\u001b[0m - \u001b[34m\u001b[1mComputed data mean for each feature: [39.305194812296435, 9.486974868679393, 45.01772580206, 8.773417792042638, -1.6132898368980106, -2.1511628946076273, 27.38195973950271]\u001b[0m\n",
      "\u001b[32m2024-01-26 19:42:40.617\u001b[0m | \u001b[34m\u001b[1mDEBUG   \u001b[0m | \u001b[36mutils.load_csv\u001b[0m:\u001b[36mload_csv_dataset\u001b[0m:\u001b[36m148\u001b[0m - \u001b[34m\u001b[1mComputed data std for each feature: [9.873003540404081, 6.2120800041681905, 14.235528308701587, 4.456503663368539, 5.6089981540270735, 6.822933637753333, 11.853705964787029]\u001b[0m\n",
      "\u001b[32m2024-01-26 19:42:40.619\u001b[0m | \u001b[34m\u001b[1mDEBUG   \u001b[0m | \u001b[36mutils.tsmixer_conf\u001b[0m:\u001b[36mwrite_data_norm\u001b[0m:\u001b[36m180\u001b[0m - \u001b[34m\u001b[1mSaved data normalization to output.etdataset\\data_norm.json\u001b[0m\n",
      "\u001b[32m2024-01-26 19:42:40.621\u001b[0m | \u001b[1mINFO    \u001b[0m | \u001b[36mutils.tsmixer\u001b[0m:\u001b[36mtrain\u001b[0m:\u001b[36m231\u001b[0m - \u001b[1mEpoch 1/30\u001b[0m\n"
     ]
    },
    {
     "name": "stdout",
     "output_type": "stream",
     "text": [
      "\n"
     ]
    },
    {
     "name": "stderr",
     "output_type": "stream",
     "text": [
      "Training batches: 100%|██████████| 211/211 [00:09<00:00, 21.49it/s]\n",
      "Validation batches: 100%|██████████| 53/53 [00:01<00:00, 46.10it/s]\n",
      "\u001b[32m2024-01-26 19:42:51.593\u001b[0m | \u001b[1mINFO    \u001b[0m | \u001b[36mutils.tsmixer\u001b[0m:\u001b[36mtrain\u001b[0m:\u001b[36m252\u001b[0m - \u001b[1mTraining loss: 0.35078 val: 0.17924 duration: 10.97s\u001b[0m\n",
      "\u001b[32m2024-01-26 19:42:51.593\u001b[0m | \u001b[1mINFO    \u001b[0m | \u001b[36mutils.tsmixer\u001b[0m:\u001b[36mtrain\u001b[0m:\u001b[36m259\u001b[0m - \u001b[1mNew best validation loss: 0.17924\u001b[0m\n",
      "\u001b[32m2024-01-26 19:42:51.619\u001b[0m | \u001b[1mINFO    \u001b[0m | \u001b[36mutils.tsmixer\u001b[0m:\u001b[36mtrain\u001b[0m:\u001b[36m231\u001b[0m - \u001b[1mEpoch 2/30\u001b[0m\n",
      "Training batches: 100%|██████████| 211/211 [00:10<00:00, 19.53it/s]\n",
      "Validation batches: 100%|██████████| 53/53 [00:01<00:00, 44.81it/s]\n",
      "\u001b[32m2024-01-26 19:43:03.611\u001b[0m | \u001b[1mINFO    \u001b[0m | \u001b[36mutils.tsmixer\u001b[0m:\u001b[36mtrain\u001b[0m:\u001b[36m252\u001b[0m - \u001b[1mTraining loss: 0.28668 val: 0.17091 duration: 11.99s\u001b[0m\n",
      "\u001b[32m2024-01-26 19:43:03.612\u001b[0m | \u001b[1mINFO    \u001b[0m | \u001b[36mutils.tsmixer\u001b[0m:\u001b[36mtrain\u001b[0m:\u001b[36m259\u001b[0m - \u001b[1mNew best validation loss: 0.17091\u001b[0m\n",
      "\u001b[32m2024-01-26 19:43:03.634\u001b[0m | \u001b[1mINFO    \u001b[0m | \u001b[36mutils.tsmixer\u001b[0m:\u001b[36mtrain\u001b[0m:\u001b[36m231\u001b[0m - \u001b[1mEpoch 3/30\u001b[0m\n",
      "Training batches: 100%|██████████| 211/211 [00:11<00:00, 19.11it/s]\n",
      "Validation batches: 100%|██████████| 53/53 [00:01<00:00, 37.77it/s]\n",
      "\u001b[32m2024-01-26 19:43:16.083\u001b[0m | \u001b[1mINFO    \u001b[0m | \u001b[36mutils.tsmixer\u001b[0m:\u001b[36mtrain\u001b[0m:\u001b[36m252\u001b[0m - \u001b[1mTraining loss: 0.26845 val: 0.16652 duration: 12.45s\u001b[0m\n",
      "\u001b[32m2024-01-26 19:43:16.083\u001b[0m | \u001b[1mINFO    \u001b[0m | \u001b[36mutils.tsmixer\u001b[0m:\u001b[36mtrain\u001b[0m:\u001b[36m259\u001b[0m - \u001b[1mNew best validation loss: 0.16652\u001b[0m\n",
      "\u001b[32m2024-01-26 19:43:16.108\u001b[0m | \u001b[1mINFO    \u001b[0m | \u001b[36mutils.tsmixer\u001b[0m:\u001b[36mtrain\u001b[0m:\u001b[36m231\u001b[0m - \u001b[1mEpoch 4/30\u001b[0m\n",
      "Training batches: 100%|██████████| 211/211 [00:10<00:00, 19.50it/s]\n",
      "Validation batches: 100%|██████████| 53/53 [00:01<00:00, 41.49it/s]\n",
      "\u001b[32m2024-01-26 19:43:28.210\u001b[0m | \u001b[1mINFO    \u001b[0m | \u001b[36mutils.tsmixer\u001b[0m:\u001b[36mtrain\u001b[0m:\u001b[36m252\u001b[0m - \u001b[1mTraining loss: 0.25864 val: 0.16569 duration: 12.10s\u001b[0m\n",
      "\u001b[32m2024-01-26 19:43:28.210\u001b[0m | \u001b[1mINFO    \u001b[0m | \u001b[36mutils.tsmixer\u001b[0m:\u001b[36mtrain\u001b[0m:\u001b[36m259\u001b[0m - \u001b[1mNew best validation loss: 0.16569\u001b[0m\n",
      "\u001b[32m2024-01-26 19:43:28.235\u001b[0m | \u001b[1mINFO    \u001b[0m | \u001b[36mutils.tsmixer\u001b[0m:\u001b[36mtrain\u001b[0m:\u001b[36m231\u001b[0m - \u001b[1mEpoch 5/30\u001b[0m\n",
      "Training batches: 100%|██████████| 211/211 [00:10<00:00, 19.70it/s]\n",
      "Validation batches: 100%|██████████| 53/53 [00:01<00:00, 42.33it/s]\n",
      "\u001b[32m2024-01-26 19:43:40.201\u001b[0m | \u001b[1mINFO    \u001b[0m | \u001b[36mutils.tsmixer\u001b[0m:\u001b[36mtrain\u001b[0m:\u001b[36m252\u001b[0m - \u001b[1mTraining loss: 0.24927 val: 0.16477 duration: 11.96s\u001b[0m\n",
      "\u001b[32m2024-01-26 19:43:40.202\u001b[0m | \u001b[1mINFO    \u001b[0m | \u001b[36mutils.tsmixer\u001b[0m:\u001b[36mtrain\u001b[0m:\u001b[36m259\u001b[0m - \u001b[1mNew best validation loss: 0.16477\u001b[0m\n",
      "\u001b[32m2024-01-26 19:43:40.235\u001b[0m | \u001b[1mINFO    \u001b[0m | \u001b[36mutils.tsmixer\u001b[0m:\u001b[36mtrain\u001b[0m:\u001b[36m231\u001b[0m - \u001b[1mEpoch 6/30\u001b[0m\n",
      "Training batches: 100%|██████████| 211/211 [00:10<00:00, 19.67it/s]\n",
      "Validation batches: 100%|██████████| 53/53 [00:01<00:00, 42.31it/s]\n",
      "\u001b[32m2024-01-26 19:43:52.221\u001b[0m | \u001b[1mINFO    \u001b[0m | \u001b[36mutils.tsmixer\u001b[0m:\u001b[36mtrain\u001b[0m:\u001b[36m252\u001b[0m - \u001b[1mTraining loss: 0.24318 val: 0.16513 duration: 11.99s\u001b[0m\n",
      "\u001b[32m2024-01-26 19:43:52.234\u001b[0m | \u001b[1mINFO    \u001b[0m | \u001b[36mutils.tsmixer\u001b[0m:\u001b[36mtrain\u001b[0m:\u001b[36m231\u001b[0m - \u001b[1mEpoch 7/30\u001b[0m\n",
      "Training batches: 100%|██████████| 211/211 [00:10<00:00, 19.55it/s]\n",
      "Validation batches: 100%|██████████| 53/53 [00:01<00:00, 40.05it/s]\n",
      "\u001b[32m2024-01-26 19:44:04.355\u001b[0m | \u001b[1mINFO    \u001b[0m | \u001b[36mutils.tsmixer\u001b[0m:\u001b[36mtrain\u001b[0m:\u001b[36m252\u001b[0m - \u001b[1mTraining loss: 0.23660 val: 0.16503 duration: 12.12s\u001b[0m\n",
      "\u001b[32m2024-01-26 19:44:04.371\u001b[0m | \u001b[1mINFO    \u001b[0m | \u001b[36mutils.tsmixer\u001b[0m:\u001b[36mtrain\u001b[0m:\u001b[36m231\u001b[0m - \u001b[1mEpoch 8/30\u001b[0m\n",
      "Training batches: 100%|██████████| 211/211 [00:10<00:00, 19.51it/s]\n",
      "Validation batches: 100%|██████████| 53/53 [00:01<00:00, 43.17it/s]\n",
      "\u001b[32m2024-01-26 19:44:16.418\u001b[0m | \u001b[1mINFO    \u001b[0m | \u001b[36mutils.tsmixer\u001b[0m:\u001b[36mtrain\u001b[0m:\u001b[36m252\u001b[0m - \u001b[1mTraining loss: 0.23056 val: 0.16653 duration: 12.05s\u001b[0m\n",
      "\u001b[32m2024-01-26 19:44:16.431\u001b[0m | \u001b[1mINFO    \u001b[0m | \u001b[36mutils.tsmixer\u001b[0m:\u001b[36mtrain\u001b[0m:\u001b[36m231\u001b[0m - \u001b[1mEpoch 9/30\u001b[0m\n",
      "Training batches: 100%|██████████| 211/211 [00:10<00:00, 19.66it/s]\n",
      "Validation batches: 100%|██████████| 53/53 [00:01<00:00, 43.29it/s]\n",
      "\u001b[32m2024-01-26 19:44:28.392\u001b[0m | \u001b[1mINFO    \u001b[0m | \u001b[36mutils.tsmixer\u001b[0m:\u001b[36mtrain\u001b[0m:\u001b[36m252\u001b[0m - \u001b[1mTraining loss: 0.22533 val: 0.16702 duration: 11.96s\u001b[0m\n",
      "\u001b[32m2024-01-26 19:44:28.407\u001b[0m | \u001b[1mINFO    \u001b[0m | \u001b[36mutils.tsmixer\u001b[0m:\u001b[36mtrain\u001b[0m:\u001b[36m231\u001b[0m - \u001b[1mEpoch 10/30\u001b[0m\n",
      "Training batches: 100%|██████████| 211/211 [00:10<00:00, 19.65it/s]\n",
      "Validation batches: 100%|██████████| 53/53 [00:01<00:00, 43.90it/s]\n",
      "\u001b[32m2024-01-26 19:44:40.356\u001b[0m | \u001b[1mINFO    \u001b[0m | \u001b[36mutils.tsmixer\u001b[0m:\u001b[36mtrain\u001b[0m:\u001b[36m252\u001b[0m - \u001b[1mTraining loss: 0.22077 val: 0.16833 duration: 11.95s\u001b[0m\n",
      "\u001b[32m2024-01-26 19:44:40.368\u001b[0m | \u001b[1mINFO    \u001b[0m | \u001b[36mutils.tsmixer\u001b[0m:\u001b[36mtrain\u001b[0m:\u001b[36m268\u001b[0m - \u001b[1mStopping early after 5 epochs without improvement in validation loss.\u001b[0m\n"
     ]
    }
   ],
   "source": [
    "command =\"train\"\n",
    "conf_path =\"coeficients.yml\"\n",
    "\n",
    "assert conf_path, \"Must provide a configuration file\"\n",
    "with open(conf_path, \"r\") as f:\n",
    "    conf = TSMixerConf.from_dict(yaml.safe_load(f))\n",
    "conf.device = \"cpu\"\n",
    "tsmixer = TSMixer(conf)\n",
    "tsmixer.train()"
   ]
  },
  {
   "cell_type": "code",
   "execution_count": 9,
   "metadata": {},
   "outputs": [
    {
     "name": "stderr",
     "output_type": "stream",
     "text": [
      "\u001b[32m2024-01-26 23:31:39.376\u001b[0m | \u001b[34m\u001b[1mDEBUG   \u001b[0m | \u001b[36mutils.tsmixer\u001b[0m:\u001b[36mload_checkpoint\u001b[0m:\u001b[36m68\u001b[0m - \u001b[34m\u001b[1mLoading model weights from output.etdataset\\best.pth\u001b[0m\n",
      "\u001b[32m2024-01-26 23:31:39.419\u001b[0m | \u001b[1mINFO    \u001b[0m | \u001b[36mutils.tsmixer\u001b[0m:\u001b[36mload_checkpoint\u001b[0m:\u001b[36m77\u001b[0m - \u001b[1mLoaded optimizer state from epoch 4 with loss 0.1647655925941917\u001b[0m\n",
      "\u001b[32m2024-01-26 23:31:39.427\u001b[0m | \u001b[34m\u001b[1mDEBUG   \u001b[0m | \u001b[36mutils.tsmixer\u001b[0m:\u001b[36mload_data_norm\u001b[0m:\u001b[36m110\u001b[0m - \u001b[34m\u001b[1mLoading data normalization from output.etdataset\\data_norm.json\u001b[0m\n"
     ]
    },
    {
     "name": "stderr",
     "output_type": "stream",
     "text": [
      "Predicting: 100%|██████████| 10/10 [00:00<00:00, 243.86it/s]\n",
      "\u001b[32m2024-01-26 23:31:39.681\u001b[0m | \u001b[1mINFO    \u001b[0m | \u001b[36mutils.tsmixer\u001b[0m:\u001b[36mpredict_val_dataset\u001b[0m:\u001b[36m170\u001b[0m - \u001b[1mSaved data to output.etdataset\\pred_val_dataset.json\u001b[0m\n",
      "\u001b[32m2024-01-26 23:31:39.943\u001b[0m | \u001b[1mINFO    \u001b[0m | \u001b[36mutils.plotting\u001b[0m:\u001b[36mplot_preds\u001b[0m:\u001b[36m57\u001b[0m - \u001b[1mSaved plot to output.etdataset\\images\\preds.png\u001b[0m\n"
     ]
    },
    {
     "data": {
      "application/vnd.plotly.v1+json": {
       "config": {
        "plotlyServerURL": "https://plot.ly"
       },
       "data": [
        {
         "line": {
          "color": "red"
         },
         "mode": "lines",
         "name": "Ground truth",
         "showlegend": true,
         "type": "scatter",
         "x": [
          0,
          1,
          2,
          3,
          4,
          5,
          6,
          7,
          8,
          9,
          10,
          11,
          12,
          13,
          14,
          15,
          16,
          17,
          18,
          19,
          20,
          21,
          22,
          23,
          24,
          25,
          26,
          27,
          28,
          29,
          30,
          31,
          32,
          33,
          34,
          35,
          36,
          37,
          38,
          39,
          40,
          41,
          42,
          43,
          44,
          45,
          46,
          47,
          48,
          49,
          50,
          51,
          52,
          53,
          54,
          55,
          56,
          57,
          58,
          59,
          60,
          61,
          62,
          63,
          64,
          65,
          66,
          67,
          68,
          69,
          70,
          71,
          72,
          73,
          74,
          75,
          76,
          77,
          78,
          79,
          80,
          81,
          82,
          83,
          84,
          85,
          86,
          87,
          88,
          89,
          90,
          91,
          92,
          93,
          94,
          95
         ],
         "xaxis": "x",
         "y": [
          1.067233920097351,
          1.3302743434906006,
          0.9908642172813416,
          1.5677908658981323,
          1.5933148860931396,
          1.5338600873947144,
          1.050217866897583,
          0.20184388756752014,
          0.47329118847846985,
          0.3121447265148163,
          0.22726668417453766,
          0.2357746958732605,
          0.24418148398399353,
          0.45637640357017517,
          0.3800063729286194,
          0.47329118847846985,
          0.8041933178901672,
          0.8975793719291687,
          0.9315102100372314,
          0.5581692457199097,
          0.5666772723197937,
          0.9399169683456421,
          0.8890714049339294,
          1.109673023223877,
          1.4235591888427734,
          1.4405752420425415,
          1.313258409500122,
          1.4320672750473022,
          1.644160509109497,
          1.2368882894515991,
          0.5750840306282043,
          0.6260308623313904,
          0.38851436972618103,
          0.26970550417900085,
          0.09994982182979584,
          0.20184388756752014,
          -0.06119663640856743,
          0.04910420998930931,
          0.22726668417453766,
          -0.06970465183258057,
          0.2611975073814392,
          0.26970550417900085,
          0.47329118847846985,
          0.6260308623313904,
          0.44786837697029114,
          0.9059861898422241,
          0.7872785329818726,
          0.9315102100372314,
          1.2793275117874146,
          1.491420865058899,
          1.0926567316055298,
          1.5338600873947144,
          1.364205241203308,
          1.050217866897583,
          0.6514536738395691,
          0.6853845119476318,
          0.6684696674346924,
          0.30363672971725464,
          0.2782135307788849,
          -0.23095233738422394,
          0.15089665353298187,
          0.39692115783691406,
          0.39692115783691406,
          -1.3423670530319214,
          -1.4951066970825195,
          -1.7157083749771118,
          -0.44304603338241577,
          0.795685350894928,
          0.8805633783340454,
          0.8805633783340454,
          0.7448397278785706,
          0.9059861898422241,
          0.8551405668258667,
          0.4903072118759155,
          0.541152834892273,
          0.9569330215454102,
          1.0162869691848755,
          0.4903072118759155,
          0.9654414057731628,
          0.47329118847846985,
          0.32905951142311096,
          0.39692115783691406,
          0.06601900607347488,
          -0.08672067523002625,
          -0.20542830228805542,
          -0.9860418438911438,
          -1.6478465795516968,
          -1.9192936420440674,
          -1.4526678323745728,
          -1.4357531070709229,
          -1.2915211915969849,
          -1.5629684925079346,
          -1.5205296277999878,
          -1.6308302879333496,
          -1.6478465795516968,
          -1.5290377140045166
         ],
         "yaxis": "y"
        },
        {
         "line": {
          "color": "blue"
         },
         "mode": "lines",
         "name": "Model",
         "showlegend": true,
         "type": "scatter",
         "x": [
          0,
          1,
          2,
          3,
          4,
          5,
          6,
          7,
          8,
          9,
          10,
          11,
          12,
          13,
          14,
          15,
          16,
          17,
          18,
          19,
          20,
          21,
          22,
          23,
          24,
          25,
          26,
          27,
          28,
          29,
          30,
          31,
          32,
          33,
          34,
          35,
          36,
          37,
          38,
          39,
          40,
          41,
          42,
          43,
          44,
          45,
          46,
          47,
          48,
          49,
          50,
          51,
          52,
          53,
          54,
          55,
          56,
          57,
          58,
          59,
          60,
          61,
          62,
          63,
          64,
          65,
          66,
          67,
          68,
          69,
          70,
          71,
          72,
          73,
          74,
          75,
          76,
          77,
          78,
          79,
          80,
          81,
          82,
          83,
          84,
          85,
          86,
          87,
          88,
          89,
          90,
          91,
          92,
          93,
          94,
          95
         ],
         "xaxis": "x",
         "y": [
          0.7339071035385132,
          0.9893859624862671,
          1.1629304885864258,
          1.0144703388214111,
          1.1027274131774902,
          0.9522880911827087,
          0.5777589678764343,
          0.5202504396438599,
          0.4441317915916443,
          0.3803524971008301,
          0.08432218432426453,
          -0.12129576504230499,
          0.13823577761650085,
          0.4262213110923767,
          0.3683033883571625,
          0.2176370918750763,
          0.5149521231651306,
          0.5149892568588257,
          0.5828680396080017,
          0.5405540466308594,
          0.6449288129806519,
          0.4395483732223511,
          0.6248335242271423,
          0.740956723690033,
          0.9851633310317993,
          0.9716765284538269,
          0.8705371618270874,
          1.0986688137054443,
          1.0416899919509888,
          1.0257843732833862,
          0.7791948318481445,
          0.6191585659980774,
          0.38086166977882385,
          0.32313019037246704,
          -0.2927374243736267,
          0.08579201996326447,
          0.1202847883105278,
          0.22758671641349792,
          0.28132593631744385,
          0.19057561457157135,
          0.37392914295196533,
          0.5344095230102539,
          0.5125886797904968,
          0.6281271576881409,
          0.787741482257843,
          0.6951257586479187,
          0.7523831725120544,
          0.6418640613555908,
          0.9700438380241394,
          0.9595144391059875,
          0.8843844532966614,
          1.1568830013275146,
          1.1854844093322754,
          0.8840855360031128,
          0.5228515863418579,
          0.5844765901565552,
          0.2512081563472748,
          0.224812850356102,
          -0.06338717043399811,
          -0.023298725485801697,
          -0.10685531795024872,
          0.29328542947769165,
          0.21083898842334747,
          0.5923840999603271,
          0.42135730385780334,
          0.826331377029419,
          0.8119030594825745,
          0.3015124499797821,
          0.438295841217041,
          0.8968353271484375,
          0.49248480796813965,
          0.579993486404419,
          1.0240693092346191,
          0.9186574816703796,
          0.7499165534973145,
          0.8661074638366699,
          0.8799758553504944,
          1.0449211597442627,
          0.47850316762924194,
          0.48116445541381836,
          0.2115885317325592,
          0.2666652500629425,
          -0.07759474217891693,
          0.052279964089393616,
          -0.1357278972864151,
          -0.09037850797176361,
          0.09566187858581543,
          0.31344908475875854,
          0.13811072707176208,
          0.4461715817451477,
          0.2990284264087677,
          0.4222361743450165,
          0.6983094811439514,
          0.5255587697029114,
          0.4837913513183594,
          0.4332197904586792
         ],
         "yaxis": "y"
        },
        {
         "line": {
          "color": "red"
         },
         "mode": "lines",
         "name": "Ground truth",
         "showlegend": false,
         "type": "scatter",
         "x": [
          0,
          1,
          2,
          3,
          4,
          5,
          6,
          7,
          8,
          9,
          10,
          11,
          12,
          13,
          14,
          15,
          16,
          17,
          18,
          19,
          20,
          21,
          22,
          23,
          24,
          25,
          26,
          27,
          28,
          29,
          30,
          31,
          32,
          33,
          34,
          35,
          36,
          37,
          38,
          39,
          40,
          41,
          42,
          43,
          44,
          45,
          46,
          47,
          48,
          49,
          50,
          51,
          52,
          53,
          54,
          55,
          56,
          57,
          58,
          59,
          60,
          61,
          62,
          63,
          64,
          65,
          66,
          67,
          68,
          69,
          70,
          71,
          72,
          73,
          74,
          75,
          76,
          77,
          78,
          79,
          80,
          81,
          82,
          83,
          84,
          85,
          86,
          87,
          88,
          89,
          90,
          91,
          92,
          93,
          94,
          95
         ],
         "xaxis": "x2",
         "y": [
          -0.5696923732757568,
          -0.5967364311218262,
          -0.8663724064826965,
          -0.5967364311218262,
          -0.5024040937423706,
          -0.47536006569862366,
          -0.6641857028007507,
          -1.527181625366211,
          -1.527181625366211,
          -0.8259672522544861,
          -1.527181625366211,
          -1.527181625366211,
          -1.527181625366211,
          -0.7990841865539551,
          -1.527181625366211,
          -1.527181625366211,
          -0.6371416449546814,
          -0.6641857028007507,
          -0.7449959516525269,
          -1.527181625366211,
          -0.772040069103241,
          -0.5428093075752258,
          -0.6237805485725403,
          -0.5024040937423706,
          -0.5292872786521912,
          -0.5024040937423706,
          -0.7181128859519958,
          -0.6777077317237854,
          -0.5428093075752258,
          -0.7316349148750305,
          -1.527181625366211,
          -1.527181625366211,
          -1.527181625366211,
          -1.527181625366211,
          -1.527181625366211,
          -1.527181625366211,
          -1.527181625366211,
          -1.527181625366211,
          -1.527181625366211,
          -1.527181625366211,
          -1.527181625366211,
          -1.527181625366211,
          -1.527181625366211,
          -1.527181625366211,
          -1.527181625366211,
          -0.5967364311218262,
          -0.7181128859519958,
          -0.6641857028007507,
          -0.5967364311218262,
          -0.5292872786521912,
          -1.527181625366211,
          -0.7045907974243164,
          -0.7045907974243164,
          -0.8259672522544861,
          -1.527181625366211,
          -1.527181625366211,
          -0.7855621576309204,
          -1.527181625366211,
          -1.527181625366211,
          -1.527181625366211,
          -1.527181625366211,
          -1.527181625366211,
          -1.527181625366211,
          -0.7990841865539551,
          -0.7990841865539551,
          -1.527181625366211,
          -1.527181625366211,
          -0.8530113101005554,
          -0.5832144618034363,
          -0.5292872786521912,
          -0.6237805485725403,
          -0.6102585196495056,
          -0.772040069103241,
          -1.527181625366211,
          -1.527181625366211,
          -1.527181625366211,
          -1.527181625366211,
          -1.527181625366211,
          -0.8394893407821655,
          -1.527181625366211,
          -1.527181625366211,
          -1.527181625366211,
          -1.527181625366211,
          -1.527181625366211,
          -1.527181625366211,
          -1.527181625366211,
          -2.3497726917266846,
          -2.4305827617645264,
          -1.527181625366211,
          -1.527181625366211,
          -1.527181625366211,
          -1.527181625366211,
          -1.527181625366211,
          -1.527181625366211,
          -1.527181625366211,
          -1.527181625366211
         ],
         "yaxis": "y2"
        },
        {
         "line": {
          "color": "blue"
         },
         "mode": "lines",
         "name": "Model",
         "showlegend": false,
         "type": "scatter",
         "x": [
          0,
          1,
          2,
          3,
          4,
          5,
          6,
          7,
          8,
          9,
          10,
          11,
          12,
          13,
          14,
          15,
          16,
          17,
          18,
          19,
          20,
          21,
          22,
          23,
          24,
          25,
          26,
          27,
          28,
          29,
          30,
          31,
          32,
          33,
          34,
          35,
          36,
          37,
          38,
          39,
          40,
          41,
          42,
          43,
          44,
          45,
          46,
          47,
          48,
          49,
          50,
          51,
          52,
          53,
          54,
          55,
          56,
          57,
          58,
          59,
          60,
          61,
          62,
          63,
          64,
          65,
          66,
          67,
          68,
          69,
          70,
          71,
          72,
          73,
          74,
          75,
          76,
          77,
          78,
          79,
          80,
          81,
          82,
          83,
          84,
          85,
          86,
          87,
          88,
          89,
          90,
          91,
          92,
          93,
          94,
          95
         ],
         "xaxis": "x2",
         "y": [
          -1.3143925666809082,
          -0.8833483457565308,
          -1.0702555179595947,
          -1.2244112491607666,
          -1.1351479291915894,
          -1.2086511850357056,
          -1.2383061647415161,
          -1.289954662322998,
          -1.2017099857330322,
          -1.192563772201538,
          -1.2776018381118774,
          -1.302305817604065,
          -1.2394719123840332,
          -1.2547527551651,
          -1.3528733253479004,
          -1.2552549839019775,
          -1.0699119567871094,
          -1.0540484189987183,
          -1.1472516059875488,
          -1.1095786094665527,
          -1.0649099349975586,
          -1.1279641389846802,
          -0.8372178673744202,
          -1.183074951171875,
          -1.0161972045898438,
          -1.1390745639801025,
          -1.3372944593429565,
          -1.130195140838623,
          -1.0771962404251099,
          -1.0140225887298584,
          -0.9337193369865417,
          -1.0735681056976318,
          -1.3465546369552612,
          -1.318935751914978,
          -1.4978110790252686,
          -1.4548664093017578,
          -1.341176986694336,
          -1.1304811239242554,
          -1.3573532104492188,
          -1.3419716358184814,
          -1.2664421796798706,
          -1.23879075050354,
          -1.4642019271850586,
          -1.0446135997772217,
          -1.1892896890640259,
          -1.0596739053726196,
          -0.9558228254318237,
          -1.1095280647277832,
          -1.120184063911438,
          -1.3127943277359009,
          -1.4010889530181885,
          -1.049646019935608,
          -0.9543874859809875,
          -1.3070563077926636,
          -1.2033782005310059,
          -1.348211407661438,
          -1.3443949222564697,
          -1.2010154724121094,
          -1.4423699378967285,
          -1.22402024269104,
          -1.5953643321990967,
          -1.4001049995422363,
          -1.4783824682235718,
          -1.2434922456741333,
          -1.3075041770935059,
          -1.048368215560913,
          -1.0973198413848877,
          -1.4823172092437744,
          -1.4006128311157227,
          -1.0049800872802734,
          -1.2131437063217163,
          -1.4469667673110962,
          -1.237022876739502,
          -1.1348954439163208,
          -1.5532729625701904,
          -1.3359240293502808,
          -0.9167265892028809,
          -1.0988998413085938,
          -1.5557349920272827,
          -1.24652099609375,
          -1.4446450471878052,
          -1.4252357482910156,
          -1.1614561080932617,
          -1.3919308185577393,
          -1.45847487449646,
          -1.4358866214752197,
          -1.4006139039993286,
          -1.2657122611999512,
          -1.405394196510315,
          -1.3639863729476929,
          -1.198344111442566,
          -1.2379729747772217,
          -1.0365581512451172,
          -1.2944021224975586,
          -0.9741020202636719,
          -1.2174328565597534
         ],
         "yaxis": "y2"
        },
        {
         "line": {
          "color": "red"
         },
         "mode": "lines",
         "name": "Ground truth",
         "showlegend": false,
         "type": "scatter",
         "x": [
          0,
          1,
          2,
          3,
          4,
          5,
          6,
          7,
          8,
          9,
          10,
          11,
          12,
          13,
          14,
          15,
          16,
          17,
          18,
          19,
          20,
          21,
          22,
          23,
          24,
          25,
          26,
          27,
          28,
          29,
          30,
          31,
          32,
          33,
          34,
          35,
          36,
          37,
          38,
          39,
          40,
          41,
          42,
          43,
          44,
          45,
          46,
          47,
          48,
          49,
          50,
          51,
          52,
          53,
          54,
          55,
          56,
          57,
          58,
          59,
          60,
          61,
          62,
          63,
          64,
          65,
          66,
          67,
          68,
          69,
          70,
          71,
          72,
          73,
          74,
          75,
          76,
          77,
          78,
          79,
          80,
          81,
          82,
          83,
          84,
          85,
          86,
          87,
          88,
          89,
          90,
          91,
          92,
          93,
          94,
          95
         ],
         "xaxis": "x3",
         "y": [
          0.4812798500061035,
          0.6884377002716064,
          0.4002853035926819,
          0.7487092614173889,
          0.7825683951377869,
          0.6488887667655945,
          0.3908723294734955,
          -0.12881354987621307,
          0.06324123591184616,
          -0.07043837755918503,
          -0.106193907558918,
          -0.12502016127109528,
          -0.09116104990243912,
          -0.02709607407450676,
          -0.04971544072031975,
          0.09527385979890823,
          0.4002853035926819,
          0.4718668460845947,
          0.5001060962677002,
          0.18378467857837677,
          0.23464354872703552,
          0.5001060962677002,
          0.43421462178230286,
          0.5773072242736816,
          0.686540961265564,
          0.7034705281257629,
          0.5886169075965881,
          0.6149594783782959,
          0.8465631604194641,
          0.5208287835121155,
          -0.08174806088209152,
          0.08775728940963745,
          -0.03278615325689316,
          -0.07423176616430283,
          -0.12129697948694229,
          -0.08547123521566391,
          -0.31714513897895813,
          -0.23987352848052979,
          -0.08926435559988022,
          -0.26249316334724426,
          0.09337716549634933,
          0.018072715029120445,
          0.1517523229122162,
          0.32877424359321594,
          0.1385459452867508,
          0.45683398842811584,
          0.36263307929039,
          0.419181764125824,
          0.5509646534919739,
          0.7411227822303772,
          0.5321384072303772,
          0.6356824040412903,
          0.5528613924980164,
          0.30243170261383057,
          0.06134454160928726,
          0.04251856356859207,
          0.10468684881925583,
          -0.07423176616430283,
          -0.17025887966156006,
          -0.4432379901409149,
          -0.11940028518438339,
          -0.04409583657979965,
          0.038795385509729385,
          -1.060917854309082,
          -1.1776680946350098,
          -1.3263804912567139,
          -0.4733739197254181,
          0.43421462178230286,
          0.4887964129447937,
          0.45114392042160034,
          0.36080658435821533,
          0.3890458345413208,
          0.3739427626132965,
          0.1480291485786438,
          0.08965398371219635,
          0.3551167845726013,
          0.3570132255554199,
          0.014279328286647797,
          0.29674163460731506,
          0.016176020726561546,
          -0.021476203575730324,
          -0.07795467227697372,
          -0.16267238557338715,
          -0.29262882471084595,
          -0.39806920289993286,
          -0.8180044889450073,
          -1.3847556114196777,
          -1.46954345703125,
          -1.2021138668060303,
          -1.11177659034729,
          -1.0740540027618408,
          -1.236043095588684,
          -1.2115269899368286,
          -1.3282772302627563,
          -1.2981412410736084,
          -1.2680054903030396
         ],
         "yaxis": "y3"
        },
        {
         "line": {
          "color": "blue"
         },
         "mode": "lines",
         "name": "Model",
         "showlegend": false,
         "type": "scatter",
         "x": [
          0,
          1,
          2,
          3,
          4,
          5,
          6,
          7,
          8,
          9,
          10,
          11,
          12,
          13,
          14,
          15,
          16,
          17,
          18,
          19,
          20,
          21,
          22,
          23,
          24,
          25,
          26,
          27,
          28,
          29,
          30,
          31,
          32,
          33,
          34,
          35,
          36,
          37,
          38,
          39,
          40,
          41,
          42,
          43,
          44,
          45,
          46,
          47,
          48,
          49,
          50,
          51,
          52,
          53,
          54,
          55,
          56,
          57,
          58,
          59,
          60,
          61,
          62,
          63,
          64,
          65,
          66,
          67,
          68,
          69,
          70,
          71,
          72,
          73,
          74,
          75,
          76,
          77,
          78,
          79,
          80,
          81,
          82,
          83,
          84,
          85,
          86,
          87,
          88,
          89,
          90,
          91,
          92,
          93,
          94,
          95
         ],
         "xaxis": "x3",
         "y": [
          0.13205155730247498,
          0.4558705687522888,
          0.5612022876739502,
          0.38453081250190735,
          0.49967607855796814,
          0.32330629229545593,
          0.0015874728560447693,
          0.07640111446380615,
          0.05870114266872406,
          -0.016879646107554436,
          -0.21189773082733154,
          -0.4429631531238556,
          -0.22750282287597656,
          -0.022049574181437492,
          -0.08219980448484421,
          -0.07190734148025513,
          0.1554659605026245,
          0.15572182834148407,
          0.27034494280815125,
          0.29789453744888306,
          0.27003976702690125,
          0.059279657900333405,
          0.2570776343345642,
          0.29628872871398926,
          0.4705387055873871,
          0.41056397557258606,
          0.2800568640232086,
          0.38288915157318115,
          0.42566338181495667,
          0.36280107498168945,
          0.30724379420280457,
          0.1555442065000534,
          -0.04316627234220505,
          -0.13295325636863708,
          -0.48559877276420593,
          -0.2522592842578888,
          -0.2843453586101532,
          -0.10003545880317688,
          -0.09842853248119354,
          -0.1877385824918747,
          -0.003694683313369751,
          0.18160703778266907,
          0.0899738222360611,
          0.2245374321937561,
          0.27589717507362366,
          0.212373286485672,
          0.27728471159935,
          0.062227122485637665,
          0.3767143785953522,
          0.40869155526161194,
          0.2521135210990906,
          0.4855131208896637,
          0.4751342236995697,
          0.2615922689437866,
          0.08947856724262238,
          0.08050267398357391,
          -0.28374606370925903,
          -0.17454831302165985,
          -0.38879263401031494,
          -0.24905280768871307,
          -0.38030722737312317,
          -0.14973826706409454,
          -0.14474113285541534,
          0.22058984637260437,
          0.12414449453353882,
          0.32975640892982483,
          0.3850581645965576,
          0.012019040063023567,
          0.09047269076108932,
          0.4291003346443176,
          0.12208494544029236,
          0.1807868629693985,
          0.35157230496406555,
          0.40728309750556946,
          0.14467866718769073,
          0.3641166090965271,
          0.4671678841114044,
          0.4831865727901459,
          0.07035268098115921,
          0.1317916214466095,
          -0.13585005700588226,
          -0.008094992488622665,
          -0.23442529141902924,
          -0.20601078867912292,
          -0.39974546432495117,
          -0.29009541869163513,
          -0.19159744679927826,
          -0.0019005853682756424,
          -0.01239062286913395,
          0.15806230902671814,
          0.14451923966407776,
          0.12279953807592392,
          0.3710833191871643,
          0.2688269317150116,
          0.2833091616630554,
          0.2579954266548157
         ],
         "yaxis": "y3"
        },
        {
         "line": {
          "color": "red"
         },
         "mode": "lines",
         "name": "Ground truth",
         "showlegend": false,
         "type": "scatter",
         "x": [
          0,
          1,
          2,
          3,
          4,
          5,
          6,
          7,
          8,
          9,
          10,
          11,
          12,
          13,
          14,
          15,
          16,
          17,
          18,
          19,
          20,
          21,
          22,
          23,
          24,
          25,
          26,
          27,
          28,
          29,
          30,
          31,
          32,
          33,
          34,
          35,
          36,
          37,
          38,
          39,
          40,
          41,
          42,
          43,
          44,
          45,
          46,
          47,
          48,
          49,
          50,
          51,
          52,
          53,
          54,
          55,
          56,
          57,
          58,
          59,
          60,
          61,
          62,
          63,
          64,
          65,
          66,
          67,
          68,
          69,
          70,
          71,
          72,
          73,
          74,
          75,
          76,
          77,
          78,
          79,
          80,
          81,
          82,
          83,
          84,
          85,
          86,
          87,
          88,
          89,
          90,
          91,
          92,
          93,
          94,
          95
         ],
         "xaxis": "x4",
         "y": [
          -1.0545077323913574,
          -1.0785175561904907,
          -1.3913187980651855,
          -1.2048497200012207,
          -1.0423905849456787,
          -1.0904102325439453,
          -1.15660560131073,
          -1.5477193593978882,
          -1.3670846223831177,
          -1.198791265487671,
          -1.4213871955871582,
          -1.4032114744186401,
          -1.3670846223831177,
          -1.3011136054992676,
          -1.4934167861938477,
          -1.4994752407073975,
          -0.9701366424560547,
          -1.0545077323913574,
          -1.138654351234436,
          -1.3670846223831177,
          -1.0964688062667847,
          -0.8619800209999084,
          -0.9822537302970886,
          -0.9281754493713379,
          -1.048449158668518,
          -1.0964688062667847,
          -1.3311818838119507,
          -1.3670846223831177,
          -1.0785175561904907,
          -1.3430746793746948,
          -1.9686771631240845,
          -1.5596121549606323,
          -1.5717291831970215,
          -1.463348388671875,
          -1.4272212982177734,
          -1.4994752407073975,
          -1.6498173475265503,
          -1.9686771631240845,
          -1.6498173475265503,
          -1.9686771631240845,
          -1.5656707286834717,
          -1.9686771631240845,
          -1.6136904954910278,
          -1.3130062818527222,
          -1.463348388671875,
          -0.9221168756484985,
          -1.066400408744812,
          -1.0785175561904907,
          -1.1626641750335693,
          -1.0242148637771606,
          -1.5115925073623657,
          -1.463348388671875,
          -1.4032114744186401,
          -1.553553581237793,
          -1.6558759212493896,
          -1.6017975807189941,
          -1.3190648555755615,
          -1.3913187980651855,
          -1.5234850645065308,
          -1.9686771631240845,
          -1.3251234292984009,
          -1.4092700481414795,
          -1.5176509618759155,
          -0.7776089906692505,
          -0.8018432855606079,
          -1.2167425155639648,
          -1.9686771631240845,
          -1.138654351234436,
          -0.8258531093597412,
          -0.7717747688293457,
          -0.9521852731704712,
          -0.994146466255188,
          -1.1866741180419922,
          -1.553553581237793,
          -1.9686771631240845,
          -1.6679930686950684,
          -1.5234850645065308,
          -1.9686771631240845,
          -1.445397138595581,
          -1.535602331161499,
          -1.5477193593978882,
          -1.4153286218643188,
          -1.5596121549606323,
          -1.5596121549606323,
          -1.9686771631240845,
          -2.467947244644165,
          -3.0574231147766113,
          -3.0212960243225098,
          -2.576103925704956,
          -2.564211368560791,
          -2.5159671306610107,
          -2.720611810684204,
          -2.552093982696533,
          -2.7567389011383057,
          -2.666309356689453,
          -2.6905434131622314
         ],
         "yaxis": "y4"
        },
        {
         "line": {
          "color": "blue"
         },
         "mode": "lines",
         "name": "Model",
         "showlegend": false,
         "type": "scatter",
         "x": [
          0,
          1,
          2,
          3,
          4,
          5,
          6,
          7,
          8,
          9,
          10,
          11,
          12,
          13,
          14,
          15,
          16,
          17,
          18,
          19,
          20,
          21,
          22,
          23,
          24,
          25,
          26,
          27,
          28,
          29,
          30,
          31,
          32,
          33,
          34,
          35,
          36,
          37,
          38,
          39,
          40,
          41,
          42,
          43,
          44,
          45,
          46,
          47,
          48,
          49,
          50,
          51,
          52,
          53,
          54,
          55,
          56,
          57,
          58,
          59,
          60,
          61,
          62,
          63,
          64,
          65,
          66,
          67,
          68,
          69,
          70,
          71,
          72,
          73,
          74,
          75,
          76,
          77,
          78,
          79,
          80,
          81,
          82,
          83,
          84,
          85,
          86,
          87,
          88,
          89,
          90,
          91,
          92,
          93,
          94,
          95
         ],
         "xaxis": "x4",
         "y": [
          -1.444623589515686,
          -1.1277899742126465,
          -1.3156027793884277,
          -1.4337352514266968,
          -1.3474137783050537,
          -1.2943528890609741,
          -1.5652879476547241,
          -1.3433045148849487,
          -1.3012325763702393,
          -1.28547203540802,
          -1.4121344089508057,
          -1.6377865076065063,
          -1.522354245185852,
          -1.5698081254959106,
          -1.6621191501617432,
          -1.4673404693603516,
          -1.2876733541488647,
          -1.5170725584030151,
          -1.336738109588623,
          -1.4774198532104492,
          -1.4068737030029297,
          -1.5031698942184448,
          -1.260890245437622,
          -1.255061149597168,
          -1.2163372039794922,
          -1.389753818511963,
          -1.5248541831970215,
          -1.5027176141738892,
          -1.4761818647384644,
          -1.3069419860839844,
          -1.272419810295105,
          -1.4014943838119507,
          -1.5606660842895508,
          -1.6063181161880493,
          -1.7310866117477417,
          -1.6008648872375488,
          -1.5695658922195435,
          -1.430371642112732,
          -1.638742446899414,
          -1.864253282546997,
          -1.5016534328460693,
          -1.5700753927230835,
          -1.5415549278259277,
          -1.5728360414505005,
          -1.4774062633514404,
          -1.4646788835525513,
          -1.352543592453003,
          -1.567190170288086,
          -1.4419124126434326,
          -1.4891995191574097,
          -1.7754923105239868,
          -1.6019221544265747,
          -1.4425628185272217,
          -1.5090614557266235,
          -1.7211401462554932,
          -1.5127257108688354,
          -1.7638976573944092,
          -1.5388925075531006,
          -1.6830185651779175,
          -1.6202070713043213,
          -1.7605841159820557,
          -1.6357085704803467,
          -1.7700239419937134,
          -1.37004816532135,
          -1.4390981197357178,
          -1.319684624671936,
          -1.2809873819351196,
          -1.6630398035049438,
          -1.6886900663375854,
          -1.0925414562225342,
          -1.4740114212036133,
          -1.4565306901931763,
          -1.4597997665405273,
          -1.3378970623016357,
          -1.6298960447311401,
          -1.5614798069000244,
          -1.3919333219528198,
          -1.2475372552871704,
          -1.6395580768585205,
          -1.451163649559021,
          -1.545889139175415,
          -1.4148167371749878,
          -1.6081575155258179,
          -1.6392168998718262,
          -1.7247898578643799,
          -1.6962568759918213,
          -1.593142032623291,
          -1.6084558963775635,
          -1.3851170539855957,
          -1.568882942199707,
          -1.5855239629745483,
          -1.5287140607833862,
          -1.2955788373947144,
          -1.3192508220672607,
          -1.301320195198059,
          -1.4043923616409302
         ],
         "yaxis": "y4"
        },
        {
         "line": {
          "color": "red"
         },
         "mode": "lines",
         "name": "Ground truth",
         "showlegend": false,
         "type": "scatter",
         "x": [
          0,
          1,
          2,
          3,
          4,
          5,
          6,
          7,
          8,
          9,
          10,
          11,
          12,
          13,
          14,
          15,
          16,
          17,
          18,
          19,
          20,
          21,
          22,
          23,
          24,
          25,
          26,
          27,
          28,
          29,
          30,
          31,
          32,
          33,
          34,
          35,
          36,
          37,
          38,
          39,
          40,
          41,
          42,
          43,
          44,
          45,
          46,
          47,
          48,
          49,
          50,
          51,
          52,
          53,
          54,
          55,
          56,
          57,
          58,
          59,
          60,
          61,
          62,
          63,
          64,
          65,
          66,
          67,
          68,
          69,
          70,
          71,
          72,
          73,
          74,
          75,
          76,
          77,
          78,
          79,
          80,
          81,
          82,
          83,
          84,
          85,
          86,
          87,
          88,
          89,
          90,
          91,
          92,
          93,
          94,
          95
         ],
         "xaxis": "x5",
         "y": [
          -0.17234987020492554,
          -0.21424685418605804,
          0.027150992304086685,
          0.2876253128051758,
          0.2876253128051758,
          0.2876253128051758,
          0.2876253128051758,
          0.02536814473569393,
          -0.014567703008651733,
          0.06334283202886581,
          -0.0013746159384027123,
          0.0690479576587677,
          0.06334283202886581,
          0.2876253128051758,
          0.2876253128051758,
          -0.20461943745613098,
          -0.42319679260253906,
          -0.42319679260253906,
          -0.20283658802509308,
          -0.19713149964809418,
          -0.19713149964809418,
          -0.4137476980686188,
          -0.19713149964809418,
          -0.19713149964809418,
          0.02340700291097164,
          0.06530396640300751,
          0.2876253128051758,
          0.2876253128051758,
          0.05959884077310562,
          0.2876253128051758,
          0.6944715976715088,
          0.2876253128051758,
          0.04052235186100006,
          -0.18001611530780792,
          -0.18001611530780792,
          -0.18001611530780792,
          0.031073253601789474,
          -0.16664478182792664,
          0.05959884077310562,
          0.010035622864961624,
          -0.4442344307899475,
          -0.4442344307899475,
          -0.21995194256305695,
          -0.43656814098358154,
          -0.4385293126106262,
          -0.22173482179641724,
          -0.22173482179641724,
          -0.22173482179641724,
          0.2876253128051758,
          0.2876253128051758,
          -0.1875040978193283,
          0.2876253128051758,
          0.2876253128051758,
          0.2876253128051758,
          0.2876253128051758,
          0.2876253128051758,
          0.2876253128051758,
          0.04997146874666214,
          0.2876253128051758,
          -0.1495293825864792,
          -0.16093964874744415,
          0.029112111777067184,
          -0.03934929892420769,
          -0.2882350981235504,
          -0.2882350981235504,
          -0.2882350981235504,
          -0.2882350981235504,
          -0.24455526471138,
          -0.2579266428947449,
          -0.2579266428947449,
          -0.2579266428947449,
          -0.016528822481632233,
          -0.15719564259052277,
          -0.15719564259052277,
          0.061381686478853226,
          0.2876253128051758,
          0.2876253128051758,
          0.2876253128051758,
          0.2876253128051758,
          0.2876253128051758,
          0.006291655357927084,
          0.2876253128051758,
          -0.44601723551750183,
          -0.02597792074084282,
          -0.0830291137099266,
          -0.17609387636184692,
          -0.0354270376265049,
          -0.26541462540626526,
          -0.23136219382286072,
          -0.23136219382286072,
          -0.23136219382286072,
          -0.25596553087234497,
          -0.25596553087234497,
          -0.25596553087234497,
          -0.17234987020492554,
          -0.18179896473884583
         ],
         "yaxis": "y5"
        },
        {
         "line": {
          "color": "blue"
         },
         "mode": "lines",
         "name": "Model",
         "showlegend": false,
         "type": "scatter",
         "x": [
          0,
          1,
          2,
          3,
          4,
          5,
          6,
          7,
          8,
          9,
          10,
          11,
          12,
          13,
          14,
          15,
          16,
          17,
          18,
          19,
          20,
          21,
          22,
          23,
          24,
          25,
          26,
          27,
          28,
          29,
          30,
          31,
          32,
          33,
          34,
          35,
          36,
          37,
          38,
          39,
          40,
          41,
          42,
          43,
          44,
          45,
          46,
          47,
          48,
          49,
          50,
          51,
          52,
          53,
          54,
          55,
          56,
          57,
          58,
          59,
          60,
          61,
          62,
          63,
          64,
          65,
          66,
          67,
          68,
          69,
          70,
          71,
          72,
          73,
          74,
          75,
          76,
          77,
          78,
          79,
          80,
          81,
          82,
          83,
          84,
          85,
          86,
          87,
          88,
          89,
          90,
          91,
          92,
          93,
          94,
          95
         ],
         "xaxis": "x5",
         "y": [
          -0.13073410093784332,
          -0.3064110279083252,
          -0.1262332648038864,
          -0.3025900423526764,
          -0.22780759632587433,
          -0.2522016763687134,
          -0.005887091159820557,
          -0.2373005598783493,
          -0.17888574302196503,
          -0.13519172370433807,
          -0.21588149666786194,
          -0.2238614857196808,
          -0.123599573969841,
          -0.0926971584558487,
          -0.09663885831832886,
          -0.17367218434810638,
          -0.464430034160614,
          -0.3925636410713196,
          -0.5838459730148315,
          -0.6666065454483032,
          -0.3699679672718048,
          -0.4744204878807068,
          -0.4687655568122864,
          -0.5186824798583984,
          -0.46418213844299316,
          -0.25479549169540405,
          -0.3172106444835663,
          -0.3359711468219757,
          -0.24945876002311707,
          -0.19991247355937958,
          -0.1892920583486557,
          -0.22764605283737183,
          -0.2341713309288025,
          -0.21165983378887177,
          -0.39820992946624756,
          -0.13391251862049103,
          -0.17962689697742462,
          -0.2616021931171417,
          -0.21114161610603333,
          -0.40404754877090454,
          -0.511161744594574,
          -0.5542322993278503,
          -0.6082631349563599,
          -0.5142239332199097,
          -0.493676096200943,
          -0.4400493800640106,
          -0.5539053082466125,
          -0.41056594252586365,
          -0.4186301827430725,
          -0.32720518112182617,
          -0.3301079273223877,
          -0.22175940871238708,
          -0.283401757478714,
          -0.35734736919403076,
          -0.311104953289032,
          -0.4370098412036896,
          -0.05905944108963013,
          -0.3751351237297058,
          -0.427033931016922,
          -0.27544140815734863,
          -0.41143831610679626,
          -0.37390071153640747,
          -0.38583487272262573,
          -0.47861188650131226,
          -0.6168569922447205,
          -0.46531763672828674,
          -0.4262498617172241,
          -0.7390466928482056,
          -0.6721900701522827,
          -0.6592737436294556,
          -0.4826255440711975,
          -0.6773840188980103,
          -0.4009980857372284,
          -0.4509567618370056,
          -0.24025505781173706,
          -0.34837883710861206,
          -0.5445163249969482,
          -0.3512903153896332,
          -0.29064637422561646,
          -0.3754018247127533,
          -0.17897093296051025,
          -0.3385801613330841,
          -0.4471273720264435,
          -0.44861653447151184,
          -0.32579344511032104,
          -0.35573238134384155,
          -0.29385197162628174,
          -0.4082111418247223,
          -0.6271909475326538,
          -0.48893433809280396,
          -0.5880887508392334,
          -0.49464136362075806,
          -0.656188428401947,
          -0.7744656801223755,
          -0.653536856174469,
          -0.7103391885757446
         ],
         "yaxis": "y5"
        }
       ],
       "layout": {
        "annotations": [
         {
          "font": {
           "size": 16
          },
          "showarrow": false,
          "text": "Feature 0",
          "x": 0.14444444444444446,
          "xanchor": "center",
          "xref": "paper",
          "y": 1,
          "yanchor": "bottom",
          "yref": "paper"
         },
         {
          "font": {
           "size": 16
          },
          "showarrow": false,
          "text": "Feature 1",
          "x": 0.5,
          "xanchor": "center",
          "xref": "paper",
          "y": 1,
          "yanchor": "bottom",
          "yref": "paper"
         },
         {
          "font": {
           "size": 16
          },
          "showarrow": false,
          "text": "Feature 2",
          "x": 0.8555555555555556,
          "xanchor": "center",
          "xref": "paper",
          "y": 1,
          "yanchor": "bottom",
          "yref": "paper"
         },
         {
          "font": {
           "size": 16
          },
          "showarrow": false,
          "text": "Feature 3",
          "x": 0.14444444444444446,
          "xanchor": "center",
          "xref": "paper",
          "y": 0.375,
          "yanchor": "bottom",
          "yref": "paper"
         },
         {
          "font": {
           "size": 16
          },
          "showarrow": false,
          "text": "Feature 4",
          "x": 0.5,
          "xanchor": "center",
          "xref": "paper",
          "y": 0.375,
          "yanchor": "bottom",
          "yref": "paper"
         }
        ],
        "font": {
         "size": 18
        },
        "height": 600,
        "template": {
         "data": {
          "bar": [
           {
            "error_x": {
             "color": "#2a3f5f"
            },
            "error_y": {
             "color": "#2a3f5f"
            },
            "marker": {
             "line": {
              "color": "#E5ECF6",
              "width": 0.5
             },
             "pattern": {
              "fillmode": "overlay",
              "size": 10,
              "solidity": 0.2
             }
            },
            "type": "bar"
           }
          ],
          "barpolar": [
           {
            "marker": {
             "line": {
              "color": "#E5ECF6",
              "width": 0.5
             },
             "pattern": {
              "fillmode": "overlay",
              "size": 10,
              "solidity": 0.2
             }
            },
            "type": "barpolar"
           }
          ],
          "carpet": [
           {
            "aaxis": {
             "endlinecolor": "#2a3f5f",
             "gridcolor": "white",
             "linecolor": "white",
             "minorgridcolor": "white",
             "startlinecolor": "#2a3f5f"
            },
            "baxis": {
             "endlinecolor": "#2a3f5f",
             "gridcolor": "white",
             "linecolor": "white",
             "minorgridcolor": "white",
             "startlinecolor": "#2a3f5f"
            },
            "type": "carpet"
           }
          ],
          "choropleth": [
           {
            "colorbar": {
             "outlinewidth": 0,
             "ticks": ""
            },
            "type": "choropleth"
           }
          ],
          "contour": [
           {
            "colorbar": {
             "outlinewidth": 0,
             "ticks": ""
            },
            "colorscale": [
             [
              0,
              "#0d0887"
             ],
             [
              0.1111111111111111,
              "#46039f"
             ],
             [
              0.2222222222222222,
              "#7201a8"
             ],
             [
              0.3333333333333333,
              "#9c179e"
             ],
             [
              0.4444444444444444,
              "#bd3786"
             ],
             [
              0.5555555555555556,
              "#d8576b"
             ],
             [
              0.6666666666666666,
              "#ed7953"
             ],
             [
              0.7777777777777778,
              "#fb9f3a"
             ],
             [
              0.8888888888888888,
              "#fdca26"
             ],
             [
              1,
              "#f0f921"
             ]
            ],
            "type": "contour"
           }
          ],
          "contourcarpet": [
           {
            "colorbar": {
             "outlinewidth": 0,
             "ticks": ""
            },
            "type": "contourcarpet"
           }
          ],
          "heatmap": [
           {
            "colorbar": {
             "outlinewidth": 0,
             "ticks": ""
            },
            "colorscale": [
             [
              0,
              "#0d0887"
             ],
             [
              0.1111111111111111,
              "#46039f"
             ],
             [
              0.2222222222222222,
              "#7201a8"
             ],
             [
              0.3333333333333333,
              "#9c179e"
             ],
             [
              0.4444444444444444,
              "#bd3786"
             ],
             [
              0.5555555555555556,
              "#d8576b"
             ],
             [
              0.6666666666666666,
              "#ed7953"
             ],
             [
              0.7777777777777778,
              "#fb9f3a"
             ],
             [
              0.8888888888888888,
              "#fdca26"
             ],
             [
              1,
              "#f0f921"
             ]
            ],
            "type": "heatmap"
           }
          ],
          "heatmapgl": [
           {
            "colorbar": {
             "outlinewidth": 0,
             "ticks": ""
            },
            "colorscale": [
             [
              0,
              "#0d0887"
             ],
             [
              0.1111111111111111,
              "#46039f"
             ],
             [
              0.2222222222222222,
              "#7201a8"
             ],
             [
              0.3333333333333333,
              "#9c179e"
             ],
             [
              0.4444444444444444,
              "#bd3786"
             ],
             [
              0.5555555555555556,
              "#d8576b"
             ],
             [
              0.6666666666666666,
              "#ed7953"
             ],
             [
              0.7777777777777778,
              "#fb9f3a"
             ],
             [
              0.8888888888888888,
              "#fdca26"
             ],
             [
              1,
              "#f0f921"
             ]
            ],
            "type": "heatmapgl"
           }
          ],
          "histogram": [
           {
            "marker": {
             "pattern": {
              "fillmode": "overlay",
              "size": 10,
              "solidity": 0.2
             }
            },
            "type": "histogram"
           }
          ],
          "histogram2d": [
           {
            "colorbar": {
             "outlinewidth": 0,
             "ticks": ""
            },
            "colorscale": [
             [
              0,
              "#0d0887"
             ],
             [
              0.1111111111111111,
              "#46039f"
             ],
             [
              0.2222222222222222,
              "#7201a8"
             ],
             [
              0.3333333333333333,
              "#9c179e"
             ],
             [
              0.4444444444444444,
              "#bd3786"
             ],
             [
              0.5555555555555556,
              "#d8576b"
             ],
             [
              0.6666666666666666,
              "#ed7953"
             ],
             [
              0.7777777777777778,
              "#fb9f3a"
             ],
             [
              0.8888888888888888,
              "#fdca26"
             ],
             [
              1,
              "#f0f921"
             ]
            ],
            "type": "histogram2d"
           }
          ],
          "histogram2dcontour": [
           {
            "colorbar": {
             "outlinewidth": 0,
             "ticks": ""
            },
            "colorscale": [
             [
              0,
              "#0d0887"
             ],
             [
              0.1111111111111111,
              "#46039f"
             ],
             [
              0.2222222222222222,
              "#7201a8"
             ],
             [
              0.3333333333333333,
              "#9c179e"
             ],
             [
              0.4444444444444444,
              "#bd3786"
             ],
             [
              0.5555555555555556,
              "#d8576b"
             ],
             [
              0.6666666666666666,
              "#ed7953"
             ],
             [
              0.7777777777777778,
              "#fb9f3a"
             ],
             [
              0.8888888888888888,
              "#fdca26"
             ],
             [
              1,
              "#f0f921"
             ]
            ],
            "type": "histogram2dcontour"
           }
          ],
          "mesh3d": [
           {
            "colorbar": {
             "outlinewidth": 0,
             "ticks": ""
            },
            "type": "mesh3d"
           }
          ],
          "parcoords": [
           {
            "line": {
             "colorbar": {
              "outlinewidth": 0,
              "ticks": ""
             }
            },
            "type": "parcoords"
           }
          ],
          "pie": [
           {
            "automargin": true,
            "type": "pie"
           }
          ],
          "scatter": [
           {
            "fillpattern": {
             "fillmode": "overlay",
             "size": 10,
             "solidity": 0.2
            },
            "type": "scatter"
           }
          ],
          "scatter3d": [
           {
            "line": {
             "colorbar": {
              "outlinewidth": 0,
              "ticks": ""
             }
            },
            "marker": {
             "colorbar": {
              "outlinewidth": 0,
              "ticks": ""
             }
            },
            "type": "scatter3d"
           }
          ],
          "scattercarpet": [
           {
            "marker": {
             "colorbar": {
              "outlinewidth": 0,
              "ticks": ""
             }
            },
            "type": "scattercarpet"
           }
          ],
          "scattergeo": [
           {
            "marker": {
             "colorbar": {
              "outlinewidth": 0,
              "ticks": ""
             }
            },
            "type": "scattergeo"
           }
          ],
          "scattergl": [
           {
            "marker": {
             "colorbar": {
              "outlinewidth": 0,
              "ticks": ""
             }
            },
            "type": "scattergl"
           }
          ],
          "scattermapbox": [
           {
            "marker": {
             "colorbar": {
              "outlinewidth": 0,
              "ticks": ""
             }
            },
            "type": "scattermapbox"
           }
          ],
          "scatterpolar": [
           {
            "marker": {
             "colorbar": {
              "outlinewidth": 0,
              "ticks": ""
             }
            },
            "type": "scatterpolar"
           }
          ],
          "scatterpolargl": [
           {
            "marker": {
             "colorbar": {
              "outlinewidth": 0,
              "ticks": ""
             }
            },
            "type": "scatterpolargl"
           }
          ],
          "scatterternary": [
           {
            "marker": {
             "colorbar": {
              "outlinewidth": 0,
              "ticks": ""
             }
            },
            "type": "scatterternary"
           }
          ],
          "surface": [
           {
            "colorbar": {
             "outlinewidth": 0,
             "ticks": ""
            },
            "colorscale": [
             [
              0,
              "#0d0887"
             ],
             [
              0.1111111111111111,
              "#46039f"
             ],
             [
              0.2222222222222222,
              "#7201a8"
             ],
             [
              0.3333333333333333,
              "#9c179e"
             ],
             [
              0.4444444444444444,
              "#bd3786"
             ],
             [
              0.5555555555555556,
              "#d8576b"
             ],
             [
              0.6666666666666666,
              "#ed7953"
             ],
             [
              0.7777777777777778,
              "#fb9f3a"
             ],
             [
              0.8888888888888888,
              "#fdca26"
             ],
             [
              1,
              "#f0f921"
             ]
            ],
            "type": "surface"
           }
          ],
          "table": [
           {
            "cells": {
             "fill": {
              "color": "#EBF0F8"
             },
             "line": {
              "color": "white"
             }
            },
            "header": {
             "fill": {
              "color": "#C8D4E3"
             },
             "line": {
              "color": "white"
             }
            },
            "type": "table"
           }
          ]
         },
         "layout": {
          "annotationdefaults": {
           "arrowcolor": "#2a3f5f",
           "arrowhead": 0,
           "arrowwidth": 1
          },
          "autotypenumbers": "strict",
          "coloraxis": {
           "colorbar": {
            "outlinewidth": 0,
            "ticks": ""
           }
          },
          "colorscale": {
           "diverging": [
            [
             0,
             "#8e0152"
            ],
            [
             0.1,
             "#c51b7d"
            ],
            [
             0.2,
             "#de77ae"
            ],
            [
             0.3,
             "#f1b6da"
            ],
            [
             0.4,
             "#fde0ef"
            ],
            [
             0.5,
             "#f7f7f7"
            ],
            [
             0.6,
             "#e6f5d0"
            ],
            [
             0.7,
             "#b8e186"
            ],
            [
             0.8,
             "#7fbc41"
            ],
            [
             0.9,
             "#4d9221"
            ],
            [
             1,
             "#276419"
            ]
           ],
           "sequential": [
            [
             0,
             "#0d0887"
            ],
            [
             0.1111111111111111,
             "#46039f"
            ],
            [
             0.2222222222222222,
             "#7201a8"
            ],
            [
             0.3333333333333333,
             "#9c179e"
            ],
            [
             0.4444444444444444,
             "#bd3786"
            ],
            [
             0.5555555555555556,
             "#d8576b"
            ],
            [
             0.6666666666666666,
             "#ed7953"
            ],
            [
             0.7777777777777778,
             "#fb9f3a"
            ],
            [
             0.8888888888888888,
             "#fdca26"
            ],
            [
             1,
             "#f0f921"
            ]
           ],
           "sequentialminus": [
            [
             0,
             "#0d0887"
            ],
            [
             0.1111111111111111,
             "#46039f"
            ],
            [
             0.2222222222222222,
             "#7201a8"
            ],
            [
             0.3333333333333333,
             "#9c179e"
            ],
            [
             0.4444444444444444,
             "#bd3786"
            ],
            [
             0.5555555555555556,
             "#d8576b"
            ],
            [
             0.6666666666666666,
             "#ed7953"
            ],
            [
             0.7777777777777778,
             "#fb9f3a"
            ],
            [
             0.8888888888888888,
             "#fdca26"
            ],
            [
             1,
             "#f0f921"
            ]
           ]
          },
          "colorway": [
           "#636efa",
           "#EF553B",
           "#00cc96",
           "#ab63fa",
           "#FFA15A",
           "#19d3f3",
           "#FF6692",
           "#B6E880",
           "#FF97FF",
           "#FECB52"
          ],
          "font": {
           "color": "#2a3f5f"
          },
          "geo": {
           "bgcolor": "white",
           "lakecolor": "white",
           "landcolor": "#E5ECF6",
           "showlakes": true,
           "showland": true,
           "subunitcolor": "white"
          },
          "hoverlabel": {
           "align": "left"
          },
          "hovermode": "closest",
          "mapbox": {
           "style": "light"
          },
          "paper_bgcolor": "white",
          "plot_bgcolor": "#E5ECF6",
          "polar": {
           "angularaxis": {
            "gridcolor": "white",
            "linecolor": "white",
            "ticks": ""
           },
           "bgcolor": "#E5ECF6",
           "radialaxis": {
            "gridcolor": "white",
            "linecolor": "white",
            "ticks": ""
           }
          },
          "scene": {
           "xaxis": {
            "backgroundcolor": "#E5ECF6",
            "gridcolor": "white",
            "gridwidth": 2,
            "linecolor": "white",
            "showbackground": true,
            "ticks": "",
            "zerolinecolor": "white"
           },
           "yaxis": {
            "backgroundcolor": "#E5ECF6",
            "gridcolor": "white",
            "gridwidth": 2,
            "linecolor": "white",
            "showbackground": true,
            "ticks": "",
            "zerolinecolor": "white"
           },
           "zaxis": {
            "backgroundcolor": "#E5ECF6",
            "gridcolor": "white",
            "gridwidth": 2,
            "linecolor": "white",
            "showbackground": true,
            "ticks": "",
            "zerolinecolor": "white"
           }
          },
          "shapedefaults": {
           "line": {
            "color": "#2a3f5f"
           }
          },
          "ternary": {
           "aaxis": {
            "gridcolor": "white",
            "linecolor": "white",
            "ticks": ""
           },
           "baxis": {
            "gridcolor": "white",
            "linecolor": "white",
            "ticks": ""
           },
           "bgcolor": "#E5ECF6",
           "caxis": {
            "gridcolor": "white",
            "linecolor": "white",
            "ticks": ""
           }
          },
          "title": {
           "x": 0.05
          },
          "xaxis": {
           "automargin": true,
           "gridcolor": "white",
           "linecolor": "white",
           "ticks": "",
           "title": {
            "standoff": 15
           },
           "zerolinecolor": "white",
           "zerolinewidth": 2
          },
          "yaxis": {
           "automargin": true,
           "gridcolor": "white",
           "linecolor": "white",
           "ticks": "",
           "title": {
            "standoff": 15
           },
           "zerolinecolor": "white",
           "zerolinewidth": 2
          }
         }
        },
        "title": {
         "text": "Predictions"
        },
        "width": 1200,
        "xaxis": {
         "anchor": "y",
         "domain": [
          0,
          0.2888888888888889
         ],
         "title": {
          "text": "Time"
         }
        },
        "xaxis2": {
         "anchor": "y2",
         "domain": [
          0.35555555555555557,
          0.6444444444444445
         ]
        },
        "xaxis3": {
         "anchor": "y3",
         "domain": [
          0.7111111111111111,
          1
         ]
        },
        "xaxis4": {
         "anchor": "y4",
         "domain": [
          0,
          0.2888888888888889
         ]
        },
        "xaxis5": {
         "anchor": "y5",
         "domain": [
          0.35555555555555557,
          0.6444444444444445
         ]
        },
        "xaxis6": {
         "anchor": "y6",
         "domain": [
          0.7111111111111111,
          1
         ]
        },
        "yaxis": {
         "anchor": "x",
         "domain": [
          0.625,
          1
         ],
         "title": {
          "text": "Signal"
         }
        },
        "yaxis2": {
         "anchor": "x2",
         "domain": [
          0.625,
          1
         ]
        },
        "yaxis3": {
         "anchor": "x3",
         "domain": [
          0.625,
          1
         ]
        },
        "yaxis4": {
         "anchor": "x4",
         "domain": [
          0,
          0.375
         ]
        },
        "yaxis5": {
         "anchor": "x5",
         "domain": [
          0,
          0.375
         ]
        },
        "yaxis6": {
         "anchor": "x6",
         "domain": [
          0,
          0.375
         ]
        }
       }
      }
     },
     "metadata": {},
     "output_type": "display_data"
    },
    {
     "ename": "NameError",
     "evalue": "name 'plt' is not defined",
     "output_type": "error",
     "traceback": [
      "\u001b[1;31m---------------------------------------------------------------------------\u001b[0m",
      "\u001b[1;31mNameError\u001b[0m                                 Traceback (most recent call last)",
      "Cell \u001b[1;32mIn[9], line 14\u001b[0m\n\u001b[0;32m     12\u001b[0m data_plt \u001b[38;5;241m=\u001b[39m data[\u001b[38;5;241m0\u001b[39m]\n\u001b[0;32m     13\u001b[0m plot_preds(preds\u001b[38;5;241m=\u001b[39mdata_plt\u001b[38;5;241m.\u001b[39mpred, preds_gt\u001b[38;5;241m=\u001b[39mdata_plt\u001b[38;5;241m.\u001b[39mpred_gt, no_feats_plot\u001b[38;5;241m=\u001b[39mno_feats_plot, fname_save\u001b[38;5;241m=\u001b[39mos\u001b[38;5;241m.\u001b[39mpath\u001b[38;5;241m.\u001b[39mjoin(conf\u001b[38;5;241m.\u001b[39mimage_dir, \u001b[38;5;124m\"\u001b[39m\u001b[38;5;124mpreds.png\u001b[39m\u001b[38;5;124m\"\u001b[39m))\n\u001b[1;32m---> 14\u001b[0m \u001b[43mplt\u001b[49m\u001b[38;5;241m.\u001b[39mclose()\n",
      "\u001b[1;31mNameError\u001b[0m: name 'plt' is not defined"
     ]
    }
   ],
   "source": [
    "no_feats_plot = 5\n",
    "conf_path=\"coeficients.yml\"\n",
    "assert conf_path, \"Must provide a configuration file\"\n",
    "with open(conf_path, \"r\") as f:\n",
    "    conf = TSMixerConf.from_dict(yaml.safe_load(f))\n",
    "\n",
    "conf.initialize = TSMixerConf.Initialize.FROM_BEST_CHECKPOINT\n",
    "conf.device = \"cpu\"\n",
    "tsmixer = TSMixer(conf)\n",
    "\n",
    "data = tsmixer.predict_val_dataset(max_samples=10, save_inputs=False)\n",
    "data_plt = data[0]\n",
    "plot_preds(preds=data_plt.pred, preds_gt=data_plt.pred_gt, no_feats_plot=no_feats_plot, fname_save=os.path.join(conf.image_dir, \"preds.png\"))\n",
    "plt.close()\n"
   ]
  },
  {
   "cell_type": "code",
   "execution_count": 8,
   "metadata": {},
   "outputs": [
    {
     "name": "stderr",
     "output_type": "stream",
     "text": [
      "\u001b[32m2024-01-26 23:31:04.650\u001b[0m | \u001b[1mINFO    \u001b[0m | \u001b[36mutils.plotting\u001b[0m:\u001b[36mplot_loss\u001b[0m:\u001b[36m93\u001b[0m - \u001b[1mSaved plot to output.etdataset\\images\\loss.png\u001b[0m\n"
     ]
    },
    {
     "data": {
      "application/vnd.plotly.v1+json": {
       "config": {
        "plotlyServerURL": "https://plot.ly"
       },
       "data": [
        {
         "mode": "lines",
         "name": "Val. loss",
         "type": "scatter",
         "x": [
          0,
          1,
          2,
          3,
          4,
          5,
          6,
          7,
          8,
          9
         ],
         "y": [
          0.17924300314120525,
          0.17091013884769296,
          0.16652149749252032,
          0.16569261393457088,
          0.1647655925941917,
          0.1651327705608224,
          0.16502902361581911,
          0.16652630213296638,
          0.16701786669920077,
          0.16832521557807922
         ]
        },
        {
         "mode": "lines",
         "name": "Train loss",
         "type": "scatter",
         "x": [
          0,
          1,
          2,
          3,
          4,
          5,
          6,
          7,
          8,
          9
         ],
         "y": [
          0.3507790839502597,
          0.2866776862415657,
          0.2684475376990169,
          0.2586409268785992,
          0.24926839341625784,
          0.24318360999862165,
          0.23660425707627247,
          0.23056346647688564,
          0.2253275136529552,
          0.2207685544451266
         ]
        }
       ],
       "layout": {
        "font": {
         "size": 18
        },
        "height": 500,
        "template": {
         "data": {
          "bar": [
           {
            "error_x": {
             "color": "#2a3f5f"
            },
            "error_y": {
             "color": "#2a3f5f"
            },
            "marker": {
             "line": {
              "color": "#E5ECF6",
              "width": 0.5
             },
             "pattern": {
              "fillmode": "overlay",
              "size": 10,
              "solidity": 0.2
             }
            },
            "type": "bar"
           }
          ],
          "barpolar": [
           {
            "marker": {
             "line": {
              "color": "#E5ECF6",
              "width": 0.5
             },
             "pattern": {
              "fillmode": "overlay",
              "size": 10,
              "solidity": 0.2
             }
            },
            "type": "barpolar"
           }
          ],
          "carpet": [
           {
            "aaxis": {
             "endlinecolor": "#2a3f5f",
             "gridcolor": "white",
             "linecolor": "white",
             "minorgridcolor": "white",
             "startlinecolor": "#2a3f5f"
            },
            "baxis": {
             "endlinecolor": "#2a3f5f",
             "gridcolor": "white",
             "linecolor": "white",
             "minorgridcolor": "white",
             "startlinecolor": "#2a3f5f"
            },
            "type": "carpet"
           }
          ],
          "choropleth": [
           {
            "colorbar": {
             "outlinewidth": 0,
             "ticks": ""
            },
            "type": "choropleth"
           }
          ],
          "contour": [
           {
            "colorbar": {
             "outlinewidth": 0,
             "ticks": ""
            },
            "colorscale": [
             [
              0,
              "#0d0887"
             ],
             [
              0.1111111111111111,
              "#46039f"
             ],
             [
              0.2222222222222222,
              "#7201a8"
             ],
             [
              0.3333333333333333,
              "#9c179e"
             ],
             [
              0.4444444444444444,
              "#bd3786"
             ],
             [
              0.5555555555555556,
              "#d8576b"
             ],
             [
              0.6666666666666666,
              "#ed7953"
             ],
             [
              0.7777777777777778,
              "#fb9f3a"
             ],
             [
              0.8888888888888888,
              "#fdca26"
             ],
             [
              1,
              "#f0f921"
             ]
            ],
            "type": "contour"
           }
          ],
          "contourcarpet": [
           {
            "colorbar": {
             "outlinewidth": 0,
             "ticks": ""
            },
            "type": "contourcarpet"
           }
          ],
          "heatmap": [
           {
            "colorbar": {
             "outlinewidth": 0,
             "ticks": ""
            },
            "colorscale": [
             [
              0,
              "#0d0887"
             ],
             [
              0.1111111111111111,
              "#46039f"
             ],
             [
              0.2222222222222222,
              "#7201a8"
             ],
             [
              0.3333333333333333,
              "#9c179e"
             ],
             [
              0.4444444444444444,
              "#bd3786"
             ],
             [
              0.5555555555555556,
              "#d8576b"
             ],
             [
              0.6666666666666666,
              "#ed7953"
             ],
             [
              0.7777777777777778,
              "#fb9f3a"
             ],
             [
              0.8888888888888888,
              "#fdca26"
             ],
             [
              1,
              "#f0f921"
             ]
            ],
            "type": "heatmap"
           }
          ],
          "heatmapgl": [
           {
            "colorbar": {
             "outlinewidth": 0,
             "ticks": ""
            },
            "colorscale": [
             [
              0,
              "#0d0887"
             ],
             [
              0.1111111111111111,
              "#46039f"
             ],
             [
              0.2222222222222222,
              "#7201a8"
             ],
             [
              0.3333333333333333,
              "#9c179e"
             ],
             [
              0.4444444444444444,
              "#bd3786"
             ],
             [
              0.5555555555555556,
              "#d8576b"
             ],
             [
              0.6666666666666666,
              "#ed7953"
             ],
             [
              0.7777777777777778,
              "#fb9f3a"
             ],
             [
              0.8888888888888888,
              "#fdca26"
             ],
             [
              1,
              "#f0f921"
             ]
            ],
            "type": "heatmapgl"
           }
          ],
          "histogram": [
           {
            "marker": {
             "pattern": {
              "fillmode": "overlay",
              "size": 10,
              "solidity": 0.2
             }
            },
            "type": "histogram"
           }
          ],
          "histogram2d": [
           {
            "colorbar": {
             "outlinewidth": 0,
             "ticks": ""
            },
            "colorscale": [
             [
              0,
              "#0d0887"
             ],
             [
              0.1111111111111111,
              "#46039f"
             ],
             [
              0.2222222222222222,
              "#7201a8"
             ],
             [
              0.3333333333333333,
              "#9c179e"
             ],
             [
              0.4444444444444444,
              "#bd3786"
             ],
             [
              0.5555555555555556,
              "#d8576b"
             ],
             [
              0.6666666666666666,
              "#ed7953"
             ],
             [
              0.7777777777777778,
              "#fb9f3a"
             ],
             [
              0.8888888888888888,
              "#fdca26"
             ],
             [
              1,
              "#f0f921"
             ]
            ],
            "type": "histogram2d"
           }
          ],
          "histogram2dcontour": [
           {
            "colorbar": {
             "outlinewidth": 0,
             "ticks": ""
            },
            "colorscale": [
             [
              0,
              "#0d0887"
             ],
             [
              0.1111111111111111,
              "#46039f"
             ],
             [
              0.2222222222222222,
              "#7201a8"
             ],
             [
              0.3333333333333333,
              "#9c179e"
             ],
             [
              0.4444444444444444,
              "#bd3786"
             ],
             [
              0.5555555555555556,
              "#d8576b"
             ],
             [
              0.6666666666666666,
              "#ed7953"
             ],
             [
              0.7777777777777778,
              "#fb9f3a"
             ],
             [
              0.8888888888888888,
              "#fdca26"
             ],
             [
              1,
              "#f0f921"
             ]
            ],
            "type": "histogram2dcontour"
           }
          ],
          "mesh3d": [
           {
            "colorbar": {
             "outlinewidth": 0,
             "ticks": ""
            },
            "type": "mesh3d"
           }
          ],
          "parcoords": [
           {
            "line": {
             "colorbar": {
              "outlinewidth": 0,
              "ticks": ""
             }
            },
            "type": "parcoords"
           }
          ],
          "pie": [
           {
            "automargin": true,
            "type": "pie"
           }
          ],
          "scatter": [
           {
            "fillpattern": {
             "fillmode": "overlay",
             "size": 10,
             "solidity": 0.2
            },
            "type": "scatter"
           }
          ],
          "scatter3d": [
           {
            "line": {
             "colorbar": {
              "outlinewidth": 0,
              "ticks": ""
             }
            },
            "marker": {
             "colorbar": {
              "outlinewidth": 0,
              "ticks": ""
             }
            },
            "type": "scatter3d"
           }
          ],
          "scattercarpet": [
           {
            "marker": {
             "colorbar": {
              "outlinewidth": 0,
              "ticks": ""
             }
            },
            "type": "scattercarpet"
           }
          ],
          "scattergeo": [
           {
            "marker": {
             "colorbar": {
              "outlinewidth": 0,
              "ticks": ""
             }
            },
            "type": "scattergeo"
           }
          ],
          "scattergl": [
           {
            "marker": {
             "colorbar": {
              "outlinewidth": 0,
              "ticks": ""
             }
            },
            "type": "scattergl"
           }
          ],
          "scattermapbox": [
           {
            "marker": {
             "colorbar": {
              "outlinewidth": 0,
              "ticks": ""
             }
            },
            "type": "scattermapbox"
           }
          ],
          "scatterpolar": [
           {
            "marker": {
             "colorbar": {
              "outlinewidth": 0,
              "ticks": ""
             }
            },
            "type": "scatterpolar"
           }
          ],
          "scatterpolargl": [
           {
            "marker": {
             "colorbar": {
              "outlinewidth": 0,
              "ticks": ""
             }
            },
            "type": "scatterpolargl"
           }
          ],
          "scatterternary": [
           {
            "marker": {
             "colorbar": {
              "outlinewidth": 0,
              "ticks": ""
             }
            },
            "type": "scatterternary"
           }
          ],
          "surface": [
           {
            "colorbar": {
             "outlinewidth": 0,
             "ticks": ""
            },
            "colorscale": [
             [
              0,
              "#0d0887"
             ],
             [
              0.1111111111111111,
              "#46039f"
             ],
             [
              0.2222222222222222,
              "#7201a8"
             ],
             [
              0.3333333333333333,
              "#9c179e"
             ],
             [
              0.4444444444444444,
              "#bd3786"
             ],
             [
              0.5555555555555556,
              "#d8576b"
             ],
             [
              0.6666666666666666,
              "#ed7953"
             ],
             [
              0.7777777777777778,
              "#fb9f3a"
             ],
             [
              0.8888888888888888,
              "#fdca26"
             ],
             [
              1,
              "#f0f921"
             ]
            ],
            "type": "surface"
           }
          ],
          "table": [
           {
            "cells": {
             "fill": {
              "color": "#EBF0F8"
             },
             "line": {
              "color": "white"
             }
            },
            "header": {
             "fill": {
              "color": "#C8D4E3"
             },
             "line": {
              "color": "white"
             }
            },
            "type": "table"
           }
          ]
         },
         "layout": {
          "annotationdefaults": {
           "arrowcolor": "#2a3f5f",
           "arrowhead": 0,
           "arrowwidth": 1
          },
          "autotypenumbers": "strict",
          "coloraxis": {
           "colorbar": {
            "outlinewidth": 0,
            "ticks": ""
           }
          },
          "colorscale": {
           "diverging": [
            [
             0,
             "#8e0152"
            ],
            [
             0.1,
             "#c51b7d"
            ],
            [
             0.2,
             "#de77ae"
            ],
            [
             0.3,
             "#f1b6da"
            ],
            [
             0.4,
             "#fde0ef"
            ],
            [
             0.5,
             "#f7f7f7"
            ],
            [
             0.6,
             "#e6f5d0"
            ],
            [
             0.7,
             "#b8e186"
            ],
            [
             0.8,
             "#7fbc41"
            ],
            [
             0.9,
             "#4d9221"
            ],
            [
             1,
             "#276419"
            ]
           ],
           "sequential": [
            [
             0,
             "#0d0887"
            ],
            [
             0.1111111111111111,
             "#46039f"
            ],
            [
             0.2222222222222222,
             "#7201a8"
            ],
            [
             0.3333333333333333,
             "#9c179e"
            ],
            [
             0.4444444444444444,
             "#bd3786"
            ],
            [
             0.5555555555555556,
             "#d8576b"
            ],
            [
             0.6666666666666666,
             "#ed7953"
            ],
            [
             0.7777777777777778,
             "#fb9f3a"
            ],
            [
             0.8888888888888888,
             "#fdca26"
            ],
            [
             1,
             "#f0f921"
            ]
           ],
           "sequentialminus": [
            [
             0,
             "#0d0887"
            ],
            [
             0.1111111111111111,
             "#46039f"
            ],
            [
             0.2222222222222222,
             "#7201a8"
            ],
            [
             0.3333333333333333,
             "#9c179e"
            ],
            [
             0.4444444444444444,
             "#bd3786"
            ],
            [
             0.5555555555555556,
             "#d8576b"
            ],
            [
             0.6666666666666666,
             "#ed7953"
            ],
            [
             0.7777777777777778,
             "#fb9f3a"
            ],
            [
             0.8888888888888888,
             "#fdca26"
            ],
            [
             1,
             "#f0f921"
            ]
           ]
          },
          "colorway": [
           "#636efa",
           "#EF553B",
           "#00cc96",
           "#ab63fa",
           "#FFA15A",
           "#19d3f3",
           "#FF6692",
           "#B6E880",
           "#FF97FF",
           "#FECB52"
          ],
          "font": {
           "color": "#2a3f5f"
          },
          "geo": {
           "bgcolor": "white",
           "lakecolor": "white",
           "landcolor": "#E5ECF6",
           "showlakes": true,
           "showland": true,
           "subunitcolor": "white"
          },
          "hoverlabel": {
           "align": "left"
          },
          "hovermode": "closest",
          "mapbox": {
           "style": "light"
          },
          "paper_bgcolor": "white",
          "plot_bgcolor": "#E5ECF6",
          "polar": {
           "angularaxis": {
            "gridcolor": "white",
            "linecolor": "white",
            "ticks": ""
           },
           "bgcolor": "#E5ECF6",
           "radialaxis": {
            "gridcolor": "white",
            "linecolor": "white",
            "ticks": ""
           }
          },
          "scene": {
           "xaxis": {
            "backgroundcolor": "#E5ECF6",
            "gridcolor": "white",
            "gridwidth": 2,
            "linecolor": "white",
            "showbackground": true,
            "ticks": "",
            "zerolinecolor": "white"
           },
           "yaxis": {
            "backgroundcolor": "#E5ECF6",
            "gridcolor": "white",
            "gridwidth": 2,
            "linecolor": "white",
            "showbackground": true,
            "ticks": "",
            "zerolinecolor": "white"
           },
           "zaxis": {
            "backgroundcolor": "#E5ECF6",
            "gridcolor": "white",
            "gridwidth": 2,
            "linecolor": "white",
            "showbackground": true,
            "ticks": "",
            "zerolinecolor": "white"
           }
          },
          "shapedefaults": {
           "line": {
            "color": "#2a3f5f"
           }
          },
          "ternary": {
           "aaxis": {
            "gridcolor": "white",
            "linecolor": "white",
            "ticks": ""
           },
           "baxis": {
            "gridcolor": "white",
            "linecolor": "white",
            "ticks": ""
           },
           "bgcolor": "#E5ECF6",
           "caxis": {
            "gridcolor": "white",
            "linecolor": "white",
            "ticks": ""
           }
          },
          "title": {
           "x": 0.05
          },
          "xaxis": {
           "automargin": true,
           "gridcolor": "white",
           "linecolor": "white",
           "ticks": "",
           "title": {
            "standoff": 15
           },
           "zerolinecolor": "white",
           "zerolinewidth": 2
          },
          "yaxis": {
           "automargin": true,
           "gridcolor": "white",
           "linecolor": "white",
           "ticks": "",
           "title": {
            "standoff": 15
           },
           "zerolinecolor": "white",
           "zerolinewidth": 2
          }
         }
        },
        "title": {
         "text": "Loss during training"
        },
        "width": 700,
        "xaxis": {
         "title": {
          "text": "Epoch"
         }
        },
        "yaxis": {
         "title": {
          "text": "Loss"
         }
        }
       }
      }
     },
     "metadata": {},
     "output_type": "display_data"
    },
    {
     "ename": "NameError",
     "evalue": "name 'plt' is not defined",
     "output_type": "error",
     "traceback": [
      "\u001b[1;31m---------------------------------------------------------------------------\u001b[0m",
      "\u001b[1;31mNameError\u001b[0m                                 Traceback (most recent call last)",
      "Cell \u001b[1;32mIn[8], line 8\u001b[0m\n\u001b[0;32m      6\u001b[0m train_data \u001b[38;5;241m=\u001b[39m conf\u001b[38;5;241m.\u001b[39mload_training_metadata_or_new()\n\u001b[0;32m      7\u001b[0m plot_loss(train_data\u001b[38;5;241m=\u001b[39mtrain_data, fname_save\u001b[38;5;241m=\u001b[39mos\u001b[38;5;241m.\u001b[39mpath\u001b[38;5;241m.\u001b[39mjoin(conf\u001b[38;5;241m.\u001b[39mimage_dir, \u001b[38;5;124m\"\u001b[39m\u001b[38;5;124mloss.png\u001b[39m\u001b[38;5;124m\"\u001b[39m))\n\u001b[1;32m----> 8\u001b[0m \u001b[43mplt\u001b[49m\u001b[38;5;241m.\u001b[39mclose\n",
      "\u001b[1;31mNameError\u001b[0m: name 'plt' is not defined"
     ]
    }
   ],
   "source": [
    "conf_path\n",
    "\n",
    "assert conf_path, \"Must provide a configuration file\"\n",
    "with open(conf_path, \"r\") as f:\n",
    "    conf = TSMixerConf.from_dict(yaml.safe_load(f))\n",
    "\n",
    "conf.device = \"cpu\"\n",
    "train_data = conf.load_training_metadata_or_new()\n",
    "plot_loss(train_data=train_data, fname_save=os.path.join(conf.image_dir, \"loss.png\"))\n",
    "plt.close\n"
   ]
  }
 ],
 "metadata": {
  "kernelspec": {
   "display_name": "virtual_environment",
   "language": "python",
   "name": "python3"
  },
  "language_info": {
   "codemirror_mode": {
    "name": "ipython",
    "version": 3
   },
   "file_extension": ".py",
   "mimetype": "text/x-python",
   "name": "python",
   "nbconvert_exporter": "python",
   "pygments_lexer": "ipython3",
   "version": "3.11.2"
  }
 },
 "nbformat": 4,
 "nbformat_minor": 2
}
